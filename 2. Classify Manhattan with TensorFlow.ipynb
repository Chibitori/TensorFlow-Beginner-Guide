{
 "cells": [
  {
   "cell_type": "markdown",
   "metadata": {},
   "source": [
    "# 2. Classify Manhattan with TensorFlow\n",
    "\n",
    "In this codelab, we will use TensorFlow to train a neural network to predict whether a geolocation is in Manhattan or not, by looking at its longitude and latitude.\n",
    "\n",
    "<br/>\n",
    "![](images/manhattan.png)\n",
    "<br/>\n",
    "<br/>"
   ]
  },
  {
   "cell_type": "markdown",
   "metadata": {},
   "source": [
    "## 2-1. Read and Process the Data\n",
    "### Labs and Solutions\n",
    "\n",
    "In this codelab there are several labs where you need to write your code to solve the problems. If you need some hints, you may check with the mentor about possible solutions to run this lab."
   ]
  },
  {
   "cell_type": "markdown",
   "metadata": {},
   "source": [
    "### TensorFlow Requirement > version 1.0\n",
    "\n",
    "To check the version of TensorFlow you are running, **select the cell below and run the code by clicking \"Run\" on the menu**."
   ]
  },
  {
   "cell_type": "code",
   "execution_count": 1,
   "metadata": {
    "collapsed": false
   },
   "outputs": [
    {
     "data": {
      "text/plain": [
       "'1.2.1'"
      ]
     },
     "execution_count": 1,
     "metadata": {},
     "output_type": "execute_result"
    }
   ],
   "source": [
    "import tensorflow as tf\n",
    "tf.__version__"
   ]
  },
  {
   "cell_type": "markdown",
   "metadata": {},
   "source": [
    "This codelab requires TensorFlow 1.0 or above. If you see older versions such as 0.11.x, 0.12.x, please follow the instruction below to update your local Datalab.\n",
    "\n",
    "- Stop your notebook by pressing Ctrl+C on the console\n",
    "- Run the following command on the console if you do not have a GPU\n",
    "```\n",
    "> pip install tensorflow\n",
    "```\n",
    "- Run the following command on the console if you have a GPU\n",
    "```\n",
    "> pip install tensorflow-gpu\n",
    "```"
   ]
  },
  {
   "cell_type": "markdown",
   "metadata": {},
   "source": [
    "### Import Pandas and read the data as a NumPy array\n",
    "\n",
    "We need to read the comma separated values (CSV) file as a Pandas DataFrame. **Run the cell below** and confirm that there are three columns and that there are 10,000 rows."
   ]
  },
  {
   "cell_type": "code",
   "execution_count": 1,
   "metadata": {
    "collapsed": false
   },
   "outputs": [
    {
     "name": "stdout",
     "output_type": "stream",
     "text": [
      "Columns:  ['is_mt' 'latitude' 'longitude']\n",
      "Rows:  RangeIndex(start=0, stop=10000, step=1)\n"
     ]
    }
   ],
   "source": [
    "import pandas as pd\n",
    "df = pd.read_csv('manhattan_latlong.csv')\n",
    "print(\"Columns: \", df.columns.values)\n",
    "print(\"Rows: \", df.index)"
   ]
  },
  {
   "cell_type": "code",
   "execution_count": 2,
   "metadata": {
    "collapsed": false
   },
   "outputs": [
    {
     "data": {
      "text/html": [
       "<div>\n",
       "<table border=\"1\" class=\"dataframe\">\n",
       "  <thead>\n",
       "    <tr style=\"text-align: right;\">\n",
       "      <th></th>\n",
       "      <th>is_mt</th>\n",
       "      <th>latitude</th>\n",
       "      <th>longitude</th>\n",
       "    </tr>\n",
       "  </thead>\n",
       "  <tbody>\n",
       "    <tr>\n",
       "      <th>0</th>\n",
       "      <td>0</td>\n",
       "      <td>40.704062</td>\n",
       "      <td>-73.824442</td>\n",
       "    </tr>\n",
       "    <tr>\n",
       "      <th>1</th>\n",
       "      <td>0</td>\n",
       "      <td>40.613985</td>\n",
       "      <td>-74.101276</td>\n",
       "    </tr>\n",
       "    <tr>\n",
       "      <th>2</th>\n",
       "      <td>0</td>\n",
       "      <td>40.761280</td>\n",
       "      <td>-73.904727</td>\n",
       "    </tr>\n",
       "    <tr>\n",
       "      <th>3</th>\n",
       "      <td>0</td>\n",
       "      <td>40.750352</td>\n",
       "      <td>-73.818837</td>\n",
       "    </tr>\n",
       "    <tr>\n",
       "      <th>4</th>\n",
       "      <td>0</td>\n",
       "      <td>40.641081</td>\n",
       "      <td>-73.918163</td>\n",
       "    </tr>\n",
       "  </tbody>\n",
       "</table>\n",
       "</div>"
      ],
      "text/plain": [
       "   is_mt   latitude  longitude\n",
       "0      0  40.704062 -73.824442\n",
       "1      0  40.613985 -74.101276\n",
       "2      0  40.761280 -73.904727\n",
       "3      0  40.750352 -73.818837\n",
       "4      0  40.641081 -73.918163"
      ]
     },
     "execution_count": 2,
     "metadata": {},
     "output_type": "execute_result"
    }
   ],
   "source": [
    "df.head()"
   ]
  },
  {
   "cell_type": "code",
   "execution_count": 3,
   "metadata": {
    "collapsed": false
   },
   "outputs": [
    {
     "data": {
      "text/html": [
       "<div>\n",
       "<table border=\"1\" class=\"dataframe\">\n",
       "  <thead>\n",
       "    <tr style=\"text-align: right;\">\n",
       "      <th></th>\n",
       "      <th>is_mt</th>\n",
       "      <th>latitude</th>\n",
       "      <th>longitude</th>\n",
       "    </tr>\n",
       "  </thead>\n",
       "  <tbody>\n",
       "    <tr>\n",
       "      <th>9995</th>\n",
       "      <td>1</td>\n",
       "      <td>40.721576</td>\n",
       "      <td>-73.997760</td>\n",
       "    </tr>\n",
       "    <tr>\n",
       "      <th>9996</th>\n",
       "      <td>0</td>\n",
       "      <td>40.634912</td>\n",
       "      <td>-74.010160</td>\n",
       "    </tr>\n",
       "    <tr>\n",
       "      <th>9997</th>\n",
       "      <td>0</td>\n",
       "      <td>40.676707</td>\n",
       "      <td>-73.977103</td>\n",
       "    </tr>\n",
       "    <tr>\n",
       "      <th>9998</th>\n",
       "      <td>0</td>\n",
       "      <td>40.683250</td>\n",
       "      <td>-73.818677</td>\n",
       "    </tr>\n",
       "    <tr>\n",
       "      <th>9999</th>\n",
       "      <td>0</td>\n",
       "      <td>40.663067</td>\n",
       "      <td>-73.836880</td>\n",
       "    </tr>\n",
       "  </tbody>\n",
       "</table>\n",
       "</div>"
      ],
      "text/plain": [
       "      is_mt   latitude  longitude\n",
       "9995      1  40.721576 -73.997760\n",
       "9996      0  40.634912 -74.010160\n",
       "9997      0  40.676707 -73.977103\n",
       "9998      0  40.683250 -73.818677\n",
       "9999      0  40.663067 -73.836880"
      ]
     },
     "execution_count": 3,
     "metadata": {},
     "output_type": "execute_result"
    }
   ],
   "source": [
    "df.tail()"
   ]
  },
  {
   "cell_type": "code",
   "execution_count": 4,
   "metadata": {
    "collapsed": false
   },
   "outputs": [
    {
     "data": {
      "text/html": [
       "<div>\n",
       "<table border=\"1\" class=\"dataframe\">\n",
       "  <thead>\n",
       "    <tr style=\"text-align: right;\">\n",
       "      <th></th>\n",
       "      <th>is_mt</th>\n",
       "      <th>latitude</th>\n",
       "      <th>longitude</th>\n",
       "    </tr>\n",
       "  </thead>\n",
       "  <tbody>\n",
       "    <tr>\n",
       "      <th>count</th>\n",
       "      <td>10000.000000</td>\n",
       "      <td>10000.000000</td>\n",
       "      <td>10000.000000</td>\n",
       "    </tr>\n",
       "    <tr>\n",
       "      <th>mean</th>\n",
       "      <td>0.292500</td>\n",
       "      <td>40.703688</td>\n",
       "      <td>-73.932314</td>\n",
       "    </tr>\n",
       "    <tr>\n",
       "      <th>std</th>\n",
       "      <td>0.454933</td>\n",
       "      <td>0.063900</td>\n",
       "      <td>0.087100</td>\n",
       "    </tr>\n",
       "    <tr>\n",
       "      <th>min</th>\n",
       "      <td>0.000000</td>\n",
       "      <td>40.500737</td>\n",
       "      <td>-74.249465</td>\n",
       "    </tr>\n",
       "    <tr>\n",
       "      <th>25%</th>\n",
       "      <td>0.000000</td>\n",
       "      <td>40.661133</td>\n",
       "      <td>-73.984189</td>\n",
       "    </tr>\n",
       "    <tr>\n",
       "      <th>50%</th>\n",
       "      <td>0.000000</td>\n",
       "      <td>40.708496</td>\n",
       "      <td>-73.948210</td>\n",
       "    </tr>\n",
       "    <tr>\n",
       "      <th>75%</th>\n",
       "      <td>1.000000</td>\n",
       "      <td>40.753638</td>\n",
       "      <td>-73.887226</td>\n",
       "    </tr>\n",
       "    <tr>\n",
       "      <th>max</th>\n",
       "      <td>1.000000</td>\n",
       "      <td>40.872385</td>\n",
       "      <td>-73.700837</td>\n",
       "    </tr>\n",
       "  </tbody>\n",
       "</table>\n",
       "</div>"
      ],
      "text/plain": [
       "              is_mt      latitude     longitude\n",
       "count  10000.000000  10000.000000  10000.000000\n",
       "mean       0.292500     40.703688    -73.932314\n",
       "std        0.454933      0.063900      0.087100\n",
       "min        0.000000     40.500737    -74.249465\n",
       "25%        0.000000     40.661133    -73.984189\n",
       "50%        0.000000     40.708496    -73.948210\n",
       "75%        1.000000     40.753638    -73.887226\n",
       "max        1.000000     40.872385    -73.700837"
      ]
     },
     "execution_count": 4,
     "metadata": {},
     "output_type": "execute_result"
    }
   ],
   "source": [
    "df.describe()"
   ]
  },
  {
   "cell_type": "markdown",
   "metadata": {},
   "source": [
    "Let's take a look at what's inside the result. **Run the cell below** and check the variable `is_mt` has an array of 1s and 0s representing each geolocation is in Manhattan or not, and the variable `latlng` has an array of pairs of latitude and longitude."
   ]
  },
  {
   "cell_type": "code",
   "execution_count": 5,
   "metadata": {
    "collapsed": false
   },
   "outputs": [],
   "source": [
    "import numpy as np\n",
    "\n",
    "is_mt = np.asarray(list(df['is_mt'])).astype(np.int32)\n",
    "lat = np.asarray(df['latitude']).astype(np.float32)\n",
    "lon = np.asarray(df['longitude']).astype(np.float32)\n",
    "latlng = np.vstack([lat, lon]).T"
   ]
  },
  {
   "cell_type": "markdown",
   "metadata": {},
   "source": [
    "### View the data\n",
    "Read the top 10 values from the dataframe and view how the data looks"
   ]
  },
  {
   "cell_type": "code",
   "execution_count": 6,
   "metadata": {
    "collapsed": false
   },
   "outputs": [
    {
     "name": "stdout",
     "output_type": "stream",
     "text": [
      "[0 0 0 0 0 1 0 0 0 0]\n",
      "[[ 40.70406342 -73.82444   ]\n",
      " [ 40.61398697 -74.10127258]\n",
      " [ 40.76128006 -73.90472412]\n",
      " [ 40.75035095 -73.81884003]\n",
      " [ 40.64107895 -73.91815948]\n",
      " [ 40.73986435 -73.98957825]\n",
      " [ 40.72327423 -73.9422226 ]\n",
      " [ 40.69698715 -73.93522644]\n",
      " [ 40.68451309 -73.90937805]\n",
      " [ 40.65890121 -73.84178925]]\n"
     ]
    }
   ],
   "source": [
    "print(is_mt[:10])\n",
    "print(latlng[:10, :])"
   ]
  },
  {
   "cell_type": "markdown",
   "metadata": {},
   "source": [
    "---\n",
    "### Start Lab: NumPy basics\n",
    "\n",
    "(You can skip this lab if you know how to use NumPy)\n",
    "\n",
    "You might notice that we just used NumPy for extracting the results. NumPy is the most popular Python library for numerical calculations. For machine learning with Python, many people are using NumPy for wide variety of numerical operations, including the basic array operations such as reshaping, merging, splitting, filtering, slicing and indexing. Many of TensorFlow APIs are also influenced by NumPy and use similar concepts. If you want to learn machine learning and TensorFlow with Python, we recommend you to learn [the basics of NumPy](https://docs.scipy.org/doc/numpy-dev/user/quickstart.html).\n",
    "\n",
    "In this lab, Let's try a few basic array operations with NumPy. **Run the cell below** and see what kind of numpy array will be created."
   ]
  },
  {
   "cell_type": "code",
   "execution_count": null,
   "metadata": {
    "collapsed": false
   },
   "outputs": [],
   "source": [
    "# create an numpy array with numbers from 0 to 14\n",
    "A = np.arange(15)\n",
    "print(A)"
   ]
  },
  {
   "cell_type": "markdown",
   "metadata": {},
   "source": [
    "Now, please write and run code in the following cells to get the result described in the comments with NumPy. You may refer to the [NumPy Quickstart](https://docs.scipy.org/doc/numpy-dev/user/quickstart.html) to learn how to write those."
   ]
  },
  {
   "cell_type": "code",
   "execution_count": null,
   "metadata": {
    "collapsed": false
   },
   "outputs": [],
   "source": [
    "# reshape the array A into an array with shape in 3 rows and 5 columns,\n",
    "# set it to variable A, and print it.\n",
    "\n",
    "# *** ADD YOUR CODE HERE ***\n",
    "\n",
    "print(A)\n",
    "\n",
    "# expected result:\n",
    "# [[ 0  1  2  3  4]\n",
    "#  [ 5  6  7  8  9]\n",
    "#  [10 11 12 13 14]]"
   ]
  },
  {
   "cell_type": "code",
   "execution_count": null,
   "metadata": {
    "collapsed": false
   },
   "outputs": [],
   "source": [
    "# print the shape, data type name, size (total number of elements) of the array A\n",
    "\n",
    "# *** ADD YOUR CODE HERE ***\n",
    "\n",
    "# expected result:\n",
    "# (3, 5)\n",
    "#  int64\n",
    "# 15"
   ]
  },
  {
   "cell_type": "code",
   "execution_count": null,
   "metadata": {
    "collapsed": false
   },
   "outputs": [],
   "source": [
    "# multiply the array A with a number 2 and print it\n",
    "\n",
    "# *** ADD YOUR CODE HERE ***\n",
    "\n",
    "# expected result:\n",
    "# [[ 0  2  4  6  8]\n",
    "#  [10 12 14 16 18]\n",
    "#  [20 22 24 26 28]]"
   ]
  },
  {
   "cell_type": "code",
   "execution_count": null,
   "metadata": {
    "collapsed": false
   },
   "outputs": [],
   "source": [
    "# create a new array that has the same shape as the array A filled with zeros, and print it\n",
    "\n",
    "# *** ADD YOUR CODE HERE ***\n",
    "\n",
    "# expected result:\n",
    "# [[ 0.  0.  0.  0.  0.]\n",
    "#  [ 0.  0.  0.  0.  0.]\n",
    "#  [ 0.  0.  0.  0.  0.]]"
   ]
  },
  {
   "cell_type": "code",
   "execution_count": null,
   "metadata": {
    "collapsed": false
   },
   "outputs": [],
   "source": [
    "# create a new array that has the elements in the right most column of the array A\n",
    "\n",
    "# *** ADD YOUR CODE HERE ***\n",
    "\n",
    "# expected result:\n",
    "# [ 4  9 14]"
   ]
  },
  {
   "cell_type": "code",
   "execution_count": null,
   "metadata": {
    "collapsed": false
   },
   "outputs": [],
   "source": [
    "# Collect elements in array B with an index \"I % 2 == 0\" and print it\n",
    "B = np.arange(10)\n",
    "I = np.arange(10)\n",
    "\n",
    "# *** ADD YOUR CODE HERE ***\n",
    "\n",
    "# expected result:\n",
    "# [0 2 4 6 8]"
   ]
  },
  {
   "cell_type": "markdown",
   "metadata": {},
   "source": [
    "### End Lab\n",
    "---"
   ]
  },
  {
   "cell_type": "markdown",
   "metadata": {},
   "source": [
    "## 2-2. Feature scaling and splitting data\n",
    "\n",
    "Now we got the training data. But it's not ready for training a neural network model yet. If you use the raw data directly, you would fail on the training because the scales of each feature (latitude and longitude in this case) are quite different. \n",
    "\n",
    "In machine learning, usually you need to preprocess the raw data with [feature scaling](https://en.wikipedia.org/wiki/Feature_scaling) to normalize the feature data to have the same scale. So that it gets much easier for machine learning algorithms to compare those features and find relationships between them.\n",
    "\n",
    "In this codelab, we will use [StandardScaler](http://scikit-learn.org/stable/modules/generated/sklearn.preprocessing.StandardScaler.html#sklearn.preprocessing.StandardScaler) in [scikit-learn](http://scikit-learn.org/). Scikit-learn is another popular library for machine learning in Python that provides wide variety of training algorithms, preprocessing and validation tools. \n",
    "\n",
    "The StandardScaler scales the features so that their mean value will be 0 and standard deviation will be 1. This scaling is called **Standardization**. Let's **Run the cell below** and see how it scales the latitudes and longitudes and stores them into a variable `latlng_std`."
   ]
  },
  {
   "cell_type": "code",
   "execution_count": 7,
   "metadata": {
    "collapsed": false
   },
   "outputs": [
    {
     "name": "stdout",
     "output_type": "stream",
     "text": [
      "[[ 0.00591037  1.2385484 ]\n",
      " [-1.40380359 -1.9399457 ]\n",
      " [ 0.901362    0.31675443]\n",
      " ..., \n",
      " [-0.42220375 -0.51428795]\n",
      " [-0.31981695  1.30468488]\n",
      " [-0.63569361  1.09567606]]\n"
     ]
    }
   ],
   "source": [
    "from sklearn.preprocessing import StandardScaler\n",
    "latlng_std = StandardScaler().fit_transform(latlng)\n",
    "print(latlng_std)"
   ]
  },
  {
   "cell_type": "markdown",
   "metadata": {},
   "source": [
    "---\n",
    "### Lab: check the standardized feature values\n",
    "\n",
    "- Print mean and standard deviation values on both latitude and longitude of variable `latlng_std` by using NumPy and confirm the mean is almost 0 and standard deviation is 1."
   ]
  },
  {
   "cell_type": "code",
   "execution_count": 8,
   "metadata": {
    "collapsed": false
   },
   "outputs": [
    {
     "name": "stdout",
     "output_type": "stream",
     "text": [
      "Mean [Lat]: 2.84245e-05\n",
      "Std. Dev. [Lat]: 1.0\n",
      "Mean [Lon]: -2.14008e-05\n",
      "Std. Dev. [Lon]: 1.0\n"
     ]
    }
   ],
   "source": [
    "# *** ADD YOUR CODE HERE ***\n",
    "print(\"Mean [Lat]:\", np.mean(latlng_std[:,0]))\n",
    "print(\"Std. Dev. [Lat]:\",np.std(latlng_std[:,0]))\n",
    "print(\"Mean [Lon]:\",np.mean(latlng_std[:,1]))\n",
    "print(\"Std. Dev. [Lon]:\",np.std(latlng_std[:,1]))"
   ]
  },
  {
   "cell_type": "markdown",
   "metadata": {},
   "source": [
    "---\n",
    "### Plot the training data with Matplotlib\n",
    "\n",
    "Now, all the preprocessing on the training data have finished. Let's see how it looks like by using [Matplotlib](http://matplotlib.org/), the popular visualization library for Python. In this case we will use [scatter()](http://matplotlib.org/api/pyplot_api.html#matplotlib.pyplot.scatter) method to plot dots with the pairs of latitude and longitude. **Run the cell below** and see the plot."
   ]
  },
  {
   "cell_type": "code",
   "execution_count": 9,
   "metadata": {
    "collapsed": false
   },
   "outputs": [
    {
     "data": {
      "image/png": "iVBORw0KGgoAAAANSUhEUgAAAZ4AAAEJCAYAAACkH0H0AAAABHNCSVQICAgIfAhkiAAAAAlwSFlz\nAAALEgAACxIB0t1+/AAAIABJREFUeJzt3Xl0G+W9P/73jEaLFzk2bhKLKLLjJc1yQ6FAaAlpA21Z\nGpZcqFnaewo9IW3TBe7vlh7i/txLoaakpV+6BQKXQPO7t6EHQgIkl7XlJg04kC/hZqGExFIcSzHI\nSerI1maNNJr5/SHLtuyRrGVGo+XzOodzsJaZR4qkzzzP83k+DzM0NCSBEEIIyRNW6wYQQggpLxR4\nCCGE5BUFHkIIIXlFgYcQQkheUeAhhBCSVxR4CCGE5BUFHkIIIXlFgYcQQkheUeBRmN1u17oJqqDX\nVVzodRWXUn1dyVDgIYQQklcUeAghhOQVBR5CCCF5RYGHEEJIXlHgIYQQklcUeAgpY04ngzVrKnDt\ntVVYs6YCTiejdZNIGeC0bgAhRBtOJ4OVK6vQ368bu+2dd3R4+eUAGhtpmy6iHgo8hJQYp5PBT386\nD35/FSwWEXfcwWPDBiP27+cQjQIcJyESYRAIAOFw4qBHf78OHR0mPPPMiEatJ+WAAg8hJUSuF7N1\nqx5A+kNo771HPwtEXTTHQ0gJWbfOlBB0YmjehhQWCjyElJD9+3PvrVx0kaBASwhJjgIPISUkGs3t\n+VZrFOvXh5RpDCFJUOAhpISYTNlmo4lobw9TRhvJC5pFJKSEcFx2QaOqCnjyScpkI/lBPR5CSsS2\nbTq4XJMTC9JTX0+9HJI/1OMhpIg5nQzWrTPh3Xc5eDwMsstgk7BxY1DpphGSFAUeQoqU08ngyiur\ncOpUdr2cuJYWAcuWiQq1ipDp0VAbIUVq3TpTzkHnnHNEbN9OczskvyjwEFKk3n47+wELk0nCV78a\nxq5dfspiI3lHQ22EFCGnk4HPl/l8jk4n4cYbI+jsDFHAIZqhwENIkXE6GVx9dRWySSSYM0ektGmi\nORpqI6SIOJ0MVq2qgtudzdwOZa+RwkCBh5Ai0tVlwokT2QWdp54KUPYaKQgUeAgpIgcPZvuVlXDT\nTTkWciNEIRR4CCkS27bpYLdn19tZs4ZXvD2EZIsCDyFF4oc/rETmCQUSVq7k8fDDYTWaREhWKPAQ\nUgScTgbBYOZBZ82aELZsod4OKSyKB55HHnkEl19+OebOnYuWlhbccsstOHLkiNKnIaRsxLezzrS3\nY7VGqadDCpLigeftt9/G6tWr8frrr2PHjh3gOA6rVq2Cx+NR+lSElAX57ayn9/nPUwYbKUyKLyDd\nvn17wt9PPPEEbDYb3n33XVxzzTVKn46QkuZ0Mti1S5/x8z71KR6dnTTERgqT6nM8fr8foiiitrZW\n7VMRUnK+/W0TQqHMhth0OgldXb1UEocULGZoaEjVT+cdd9yB48ePY/fu3dDp5IcL7Ha7mk0gpCi9\n9toM/PSnrcimNM6nPsVj06ZjmDOH5nhI/rW1taW8X9XA85Of/ATbt2/Ha6+9hqamJrVOU1Dsdvu0\nb3oxoteVf+eea0YwmP2gxDXXhPHnP5dWXbZC/vfKRam+rmRUKxLa0dGB7du3Y+fOnWUTdAhRUubp\n04n276cawKQwqTLHc++992Lbtm3YsWMH5s+fr8YpCClJTieDNWsq8JnPVGndFEJUo/gl0T333INn\nn30Wf/rTn1BbW4tTp04BAKqqqlBdXa306QgpGY8/zqGjoxKSlFtPJ27xYkGR4xCiNMUDz6ZNmwAA\nN9xwQ8Lt9957Lzo6OpQ+HSEl4cEH9Xj44Qpkk0iQTEWFYociRFGKB56hoSGlD0lISevuZhUPOgDg\n91NFLFKY6JNJiMbWrs2m+Of0GhqocgEpTBR4CNHYP/6hfNABRHR2hlQ4LiG5o8BDiIa6u9mc06bl\nVFREqXIBKVgUeAjRSHc3i+uuy7zqdDpGRrLZMI6Q/KDAQ4gGurtZ3HBDNURRra8gg+5u+nqTwkSf\nTEI0sHZtJQRBjbmdOAbXXltFwYcUJPpUEqIBt1vNoBMjSSyuvbaagg8pOPSJJCTPHn+cQySifuAB\nAEli8M1vVublXISkiwIPIXnkdDLo6FB+sWgqg4P0NSeFhT6RhOSJ08ngqquqIEn5/9o5nfkLdIRM\nhwIPIXly++0VGBjQIs2ZwapVVRR8SMGgwEOIyrq7WcyeXY2DB7XbH+fECR26ukyanT/feN6Jvr41\nsNuvRV/fGvC8U+smkQlopyhCVNTdzWLlymrkc04nmYGB8rjO5HknHI5VCIdPjN0WCOxHa+uLAAC3\nuwuRiBt6vQUWSyeMxkatmlq2KPAQopLubhbXX59tZQIpy+clVy5FQ/v7OxKCDgCEwyfQ39+BUOij\nhPs8nu2w2f4D9fU35buZZY0CDyEq2LZNhzvvrMphUzdlA8+8edGiLRrK886xXkooVA2e/2XSXgrP\nO+HzvSl7XyDwHqLRM5NujcLlWg0AqK6+iHpDeUKBhxCFOZ0Mvv3tXHYSVTbomEwiNmwIFmXRULlh\ns6NH30Jz83Mwm5fJPPY6SBIve6xo9B9Jz+NyrQbHWSEI/WO3pTs8NzEwUsBKDwUeQhTW1WVCNJrr\nfIpygScUYrF5sxHLlo0odsx8kRs2E8UAHI7rYDQuQTh8FJIURSxPSgIQSXG01IF3YtAB4sNz6xAK\nHZWdLzIaG+HzdeP48a9BksbfW4/nJdTUfAlW63oKQElQ4CFEYUeOFE7QiZucWODzdaOv704IwmkA\nEhimGmbzZbBaH9Lsx9Ln64bLtRaCMASOq0VDw33wev+S5NEieP6Q6m0KBvdDEBKH58LhE3C7u2Cx\ndE4JOqOPgNf7KhyOo2MBiiQqjzQXQvKku5vFhx8W3pYEExMLfL5uOBzXQxDcAKIAREiSF17vK/jo\no8/B5+vOe/tibboB4bALouhFOOwanXtJ1YNRnyiGZW+PRAbgdnfJBJ1x4fAJHD36eU3ez0JHgYcQ\nhTidDL72NXX210mfBKs1mnDL5MQCl2stYgFH5tnSCHp7b877updYm4S8njMdouiTvV2vb0Ak4k7j\n+UE4HDdQ8JmEAg8hOXI6GaxZU4EvfKEaIyPafqWuuSaCl18O4OqrB7F8uYD29jBefDEwlljA806E\nw5+kPIYoBvDRR0tx/PhteQtAgjCUl/NkTgTDVCTcYjDMg8XSCb3ekuYxhNHASuJojoeQHMTrr+VW\nCkeZLDarNYr160NobJTw85+fQFtbW8L9PO+E3b4S6fQsJImH1/sqeno+QFPTExgc3Kxq1hbH1SIc\n9ip0NAbTJRJkQpL0qKlZgWBwPyQJMJkWAgAslk74/e8gEumf5ghAOJw8o64cUeAhJAff/nau9ddy\nDzpLlvwNDzxwO2prB+HxCDh7VgcgjAMHGOh01aiqugRW63r093ek9SM5kSD0w+G4FhN/yH2+dzB/\n/suKBh+bbSMcjhuQ63CbwWCDKAoQhNS9usyEEAodHUsy8HpfgcPxEVpbX4TFcv/YOqDU5FO8yxUN\ntRGSJaeTwb59uVy75X5VvmTJHvyf//Nl1NY6AfghSSEAAcQm5cOIRs/C630VR45cAq/3dUXaKQj9\n+OijFYrWQDObl6G19SUYDDaw7AwYDDa0tr4Mnc6awVGMaG3dmcEQWPrkKyGsw8mTP0jzCIaczl9q\nteeox0NIhrq7WaxdWwmXi0HuQ2S5Pb+j43bo9en0EpStWiBJHng8WxPWtOTKbF6GxYsPJ9xWU/N5\neDxb03o+wzBwub6PcPhkFmdnAciXFGLZCtnsNp9v12igT0cYPO/M6n3ieSd6elYmrDNSo9eZT6r0\neLq7u3Hrrbdi4cKFqK2txZYtW9Q4DSF5Fy/66XLpkNvXR5l5nepqT87HyEX8yl/OwMDjOHCgHgcO\n1OLAgXoMDDye8fEtls4pk/vJSFIIfv/biEZPZ3yeZEEHAERRfpgs/aADAFG43V0Ztimmv3/dlMWt\ngtCPI0fOx4ED5+DAgXr8/e8XF1VPSJXAEwgEsGjRIqxfvx4VFel9aAgpBtddV4ncA4aowDFiRkZq\nFTlOLrze16ekCw8MPA63ex3G07ajcLvX4cCBWhw6dC4GB7elfXyGqVGusVlRprc4PPxGRsHB5+vG\nhx+eB6/31SSPkBD7LEURidjh8WxFT8/Kogg+qgy1XXnllbjyyisBAN/73vfUOAUhedfdzUIUc71W\nk6DU9Z7NFsW8eY8hELgeydbl5IcIh2Pl6P8bYTDMRjjsSv5oMTg2IT9dVWi3uwuieErmnuRDY4VK\nFIfTHp6ML6jNNNlCEPrR378OLS1/zrG16qLkAkLStGqVEotDlVtc2tgoobHRCoapVuyYueNTBp2J\nTp78/rQT5skWaZpM/5T2EFyhiZfcSSWXBbXB4P6CT0YoiOQCu92udRMUVWqvJ66cX9e///tcRCJa\nD/mMa2g4gX/5l+/hyJH/ASBf1qXQSVIoIXFgaOgdmEwboNPNGbstFJIPqjw/kLJcTaEbGjo69rnz\n+/8dwKs4cCB+7zUAzmZ9bEEI4ciRzwEYf3/k3ls1TV5DNllBBJ7pGllM7HZ7Sb2euHJ9XU4ng899\nrhIjIzoUwi6iQCzo/Pa3X8bs2b1aN0VRktSPkZF21NR8eayyM8//Eg7HsYR0ZpatgigOatjS3EnS\nB/D7L05y76sAcunN+TE5BV6S+mEybUFT05M5HFc5NNRGSBJOJ4Pzz6/GyAiHwgk6x/H445eXXNAZ\nFxmtmLByLP24tfVF1NW1o6LiIgAmiGIA2s5p5cMIsv/Mya8Pi0QGsm6N0ijwEJLEtddWQpIK5yvS\n0NCLP/7xK5gxo7DG69UgCP1wOu8CABiNjbBYOhGJfAKl1yMVtnQXGDNgmDrodLNSPioUcuCDD9pw\n+HAbjh//uqbzPqoMtfn9fvT2xq7IRFFEf38/Dh8+jLq6OsydO1eNUxKiqAcf1OPkyULa3kDCL395\nJ0ymE9M/tEQEAn+Dz9cNg8EKh2OVwmVwSokESfIgOk0nMLYNRozX+wrs9sNoa9NmESozNDSk+H64\nb731Fq677ropt992223YuHGj0qcrKOU6F1Kskr2u2lozCmdAQMJdd72Jf/7nr2jdkLxj2UpUV6+A\n1/uK1k3RUA2AXAqoJi+aWl29AuFw79jmezbbxilbiqtBlR7P8uXLMTRUqGXOCUlt27bCSSQAJCxZ\ncgw33ng9JMUvEQufKAZT7EJaHjiuGtEoD0nKptAoC6NxIXj+Q9l7/f7dY/8fDnvhcFwLo3ERKisX\nqVKFfLxVhJAx3d0s7rxT683c4iQsXXoMGzd+pahTh3On7S6k2tJBED7JMugANTVXo7JyUQbPkMDz\nH8Lj2QqHY5Vq80AFkU5NSKFYu7YSkqR90LFYevHEEx0wm19BJOLXujlEEyxyyd5j2SpYrQ8BAIaH\n9ySpAJFcfKGrGinY1OMhZIIzZ7QOOhKWLrXjmWe+CLP5OcTWZBAg9kOayJSX89psT+XlPImYtCtS\n6HRWmfdGB6v19zAaG2E0NqK6+sKsWqFWCjYFHkImGNF0REvC5Zfz2LjxbgCZbdhW6lj2HCxYsBcc\ndzWqq5ejrq4dra3bAKhbJFWnOwfV1ReBYfIT5MYZwLLTDUjpYLGsx3nn/R3Nzc9NCj5RDAx0wefr\nRk/PqqyTM/T6hqyeNx0aaiMkgVY9Hgm33MLjiSd4HD68T6M2FDIGRmMjTKafj2UhHj/+dQDqJjGZ\nTOfB4ViV4RYISuDBMOfI3lNTc82UIqCDg5tHF9aOC4dPTNk9NhMGwzxYLJ1ZPXc6FHgIGeV0ajfM\nZjRKeOIJHjzvRDRKGaGTieLZKRPdgcB7Cp6BQ6za9XjFa5b9FHS6SgQC2qyd0uvnIJZcMN775Tgr\nrNb1Ux6brJhqpkGHYSrAMCYwDAeTaWFGz80EDbURMmrdOhO06fFIeOyxIACMVi0urnL/+SHB6bw7\n4RZG0X8qAZPfd1H0IBzObMiTZSunmZtJf1GyyTQP8+e/jLq69rHhxWS7jiqx3TfL1kCnq4coehCN\nnoHX+4pqmW3U4yFk1LvvavF1EPHUU0HcdFMseyn5lSsJBHajouJjALGhtsrKi1JskqaEKEKhjzJ6\nhiSxYBhJds2VwWCDyfRPac631I6to0mWVcbzTrjdXYhE3GDZGnCcdcpOpZkQRS9EMXGhqlqZbRR4\nCBkVDOb7jBLWrx8ZCzqAMleupYznHwGwAgBgta5HT88HOf3YTi+zNUQMI0IU5T5IDGy2jaPlfz5K\nqLY9mV6/AG1tz067UVxv780J8zp6vRU1NddAFP0Ih51p74s0HTUy22iojZBRBkM+zxbLYPvudxM3\n+4pN5ua1IUVFFP8+9v9GY+PYUBTHzdSwVXEc9PrmJPdJOH360YRq28naXF29JGXQ4Xknjh//2pRk\ngkikHzpdNWy2DTCZFiuWiadGZhsFHkJG8dktDs+KXi/ghRfkT8gw9LVM7iwOHmzA4OA2ABgbipo/\n/68wGOZp2C4WFksXKiuTT8j7fP8zttVDU9OTMJk+Lfu46XoYLtfdSStZ+P0HceTIZ+H1vqpIJp5a\nmW30CScEsYy2cDh/iQWRCDcli47nnejpWalB6m5xkaQQXK7VY8EHQFo9CXWJcLs7YTZfLbOYM0aS\nQnA4rgPPO8HzyYfCUvUweN4Jv/9vSe+PROxQaq+i2FqpF1Wp10ZzPIRAi4w2Bl1dJjz55PiVq9N5\nl8rzFaXF5boTPt9rY5Pw8Z6E3X4t/P4zGrRIgMv1HcQy5OSFwy709KwEw8SGxiab2MPgeSeczrsR\nDL4DSYqC42aO9pLUrxZrMl2i6m6lFHgIAbB3b/6/CgMD4wMOPO9EILAn720obhI8nq0IBPbDZtuA\nwcHNiETcik2qZyd50Bl7RJKLC4PBNtbDGBzcBpdr9aTnueH3q5/1yDD1aG7+D1XPQYGHEAA+X/7X\n7zQ0jK8bia3fKcN9DxQQDp+YkuFVjHS6WXC7uxAMHgbPH9OkDdXVK2Cz/U71zeEo8BACgGUliGI+\ng4+Ezs7xuRzl1+8w0OlmIho9rfBxC1OxBx0AGBnZj5GR/Zq2Qa+fmZcdSSm5gBAAM2fmt7fBMBIa\nG8fPqfz6HQl6/TzQtSXJhFrVqCejwEMIgLvvDiGfQ12VlYnnMpmyK1ufiiD0orX1JRgMNsWPTTJV\nHD+1alWjnqw43g1CVPb73+c3qy0QGP/q+XzdcLvXKX4OSQLM5mVobd2JTGqEkcwxTAVSL/wthPp7\nqT/fHGdVrRr1ZBR4SNnr7mbxySf5/yrE1u3cAIdjpSrHr6q6GEA8cUGZtR1EHsNUg2UrpnmUdj+3\nBsM82GybYDDYwLIzwHEWVFRcAp1uJjhuJmpqrklagFQNNABMytrHHxuwalU18l2V+txzT6CnZ6Wq\n63aCwV7Y7ddiZESbDKlyIorTrxti2XqI4lnk+yKgquqLaGyM7UZaX39TXs+dDAUeUtYefLARWmyF\n0Nl5t+qLRQXhKPy0c3bBSCc4KYHjLBDFIDhuBmy2jTCbl+XlvJmgwEPK2oED6e1rr6Q5c45j4cK/\n5v28pDwIwmnYbP9RML0bOTTHQ8qW08lAEPL/Fbjnnu8AoHpsRC3R0XJC3Vo3JCkKPKRsabHj6JIl\ne3DeeW/m9ZykHElwudZq3YikVAs8mzZtwnnnnYfZs2fji1/8Ivbu3avWqQjJmNPJ4C9/0ef9vB0d\nt4Olyz2SB4IwrHUTklLlK7B9+3asW7cOP/rRj7Bnzx4sXboU7e3tOHnypBqnIyRjXV0mCEL+kwpq\najx5PycpTxw3Q+smJKVKcsGjjz6Kr3/967j99tsBAA8//DDefPNNPP3007jvvvvUOCUhGTl8OPtr\nriVL9uBnP7sJtbX/AMMAPG/E44//EhdeuAuLFr0DhgGOHPkcHnvsEdTXN8LrZTB7toSmJhFm8wyI\nYuFeiWaDZasgihKAvO8dTpLiYLNt1LoRSSkeeMLhMA4ePIgf/vCHCbdfccUV2Ldvn9KnIyQrDkd2\ngWfJkj145JEV4LjxkjcmE4+77/5XMBM6UJddtgOXXvrfaGp6MiG7yOfbqNqCUW2wJVGgs5QwjAkt\nLdsKMo06TvGhtsHBQUSjUcycmbgL4MyZM3H6dHlUyiWFT5KyG2br6Lg9IejEMTKHY1kRLtfqhOwi\ns3kZTKbzsjp3YcpnKRgdaAVIahxnxcKF+wo66AAF8q9ot9u1boKiSu31xJXS6zIYzkcolOnHX0Jt\nbeaLAMd7OCyAxWAYU8bHIOcAOKt1IwpUNYAwABHRaBjHj78DvT6saYva2tpS3q944Kmvr4dOp8OZ\nM4lf0DNnzmDWrFmyz5mukcXEbreX1OuJK7XX9eijIaxeXYV006lZVsQf/3gEFRW5DCuJAD6ARPu9\nZYGCTnLj5Skk6TR4fi1mz95UXgtIDQYDzj//fOzatSvh9l27duGSSy5R+nSEZOWmm6J46qkAOE5A\nqu0QGEbEihVhvPvua2hsXJq/BpacVJWbSxvDGKHTyV90q0OCy3UneN6Zx3NmRpV06u9///t45pln\n8J//+Z84duwY7r33XgwMDOBb3/qWGqcjJCs33RTFO+8cxFNPBWA0ipgcgGbPjuLgQT+effYoRkZu\nhiSNaNPQIqHTnQOW/dSkW1nYbE9h0aL3UFfXjsrKi8FxFpTT2vWqqqX49Kf/kuchVglO5915PF9m\nVJnjufHGG3H27Fk8/PDDOHXqFBYuXIjnnnsONhttSEUKz003RXHTTT44nQy6ukwYGGDR0CCiszOE\nxkYJfX1dlLmVBr3ehubm/w9udxcikQHo9Q2wWDrHSu1bLJ1wOL4JQVB6m+/CxrLVMBobYTZfDq/3\n1bydNxAo3EX7qiUX3HnnnbjzzjvVOjwhimtslPDkk1N7NZFIef1QZisUOgSjsRFNTU8CiG1w19Pz\nFQhCfL63XCe3YvOIVut6HDmSv8ADhMHzzrztsZOJ8unvEpIlvd6idROKxHhg8fm64XBcD0E4PXp7\nuQYdQBR9mp07tglg4SmIdGpCCpHP1w2Xay0ikfzso1L8WPT1rUEo1IuRkYOgXU9j/P63cODAbLBs\n/tPoI5GBvJ8zHRR4CJERu2K/AYCgdVMKAsOYUFl5CXS6KgQCRxCN9sk8SoTHszXfTSsSPESRz/tZ\nWTb/+02lgwIPITL6+u4EBZ04DgsX7kM43A+Xay2i0UHE5i3Kd/gsv7J/r0WxMDMxKfAQMgnPOyEI\nhTlEoQ0BR45cAtq8TivZB/iRkQ8VbIdyKPAQMio+pxMOfwK6mp+Mgk4xkqshWAgo8JCy5fN1IxC4\nEwcOeMEwAiQp/2PwhKipsvIirZsgiwIPKUuTkweofhopNRxnhdW6XutmyKJ1PKQsxfajp+QBUppY\nthLz579ckItHAQo8pEwJwpDWTSBENVbrHwo26AAUeEiZ4rharZtAiGo++eS+8qtOTUihi+1HT1Oc\npYUBUFqb7On1zQD0GT9PEPoLtlwOQIGHlCmzeRlaW18Cw1gAVCDdDeFIIZMAhGCxrAdQqXVjFBGJ\n9AKIZPncwl2LRoGHlC2zeRmqqnbgggvcWLToIAwG2rajFLjd6wAEtW6G5gShcJcHUOAhBIDR2IjW\n1p0wGOZp3RRCFMHzH2jdhKQo8BAyKhZ8XkRdXTsqKi4Cw1Ro3SRCsiZJYa2bkBQFHkImiG9kNm/e\nU2CYGtXOw3GzRreAJokY6HT1WjeiJLCsUesmJEVpPYRMwPNOuN1dGBr6KyTJo8o5DIZ5aG19EUZj\nIw4coLRuANDpZqKmZgUslk4AwEcffQ6SpHVlZR2Mxn9CNHoaohiEKLIA1PlMqMFq/YPWTUiKAg8p\ne/Fg4/XuQzTqUvlsOthsGwp6cZ8WKioWjG2ZDQAtLc+jt/dmiGJA4TOxYNl6AAIkKYpYxpgOLFsJ\nSZIAhMFxM2CzbYTZvGzKs+OFZAVhGAxjhCgKoxcohVZzaQaqqwuzThtAgYeUuWj0Yzgc/w/C4RP5\nOiNOn94As3kZfL7uPJ2z8On1DQl/m83L0Nz8XM7Bp6LiIphM8xCJDECvb4DF0plT0Debl2Hx4sMJ\nt/G8E/396xAM7ockAdFoZjvW1tR8FZHIt7FgwQoASm1COIyenqswf/7rBXmRQ4GHlDWefwSimK+g\nE+P1voaPProSodD7eT1vIYtGp043Dw5uzrnHYzLNS+hJqcFobERLy5/H/u7p+QYCgZfTfr7X+wqA\n98Hzb8BobITZvAw22xNwub6NXLYPF4QB9Pd3oKXlmayPoRZKLiBli+edEMW9ih9Xr7eisvKSFI+Q\nEAr9X+Tyo1JqvN5np9wWibhzOqbBMG9sziif5s/fApPp8gyfdQpHj65AX98a8LwTPt9rUOLzEQi8\nl/Mx1EA9HlJ2JiYQ5DacwaKq6guQpAAE4RR0ulkwmWI/dn19q5VqbtnS6zPP+quqWgGGiSoyrJaL\nhQtfGB2C6xjt0UxPFD3weLYiENgPjlMms482giMlKf4jHom4wbI1ACSIog96vUXTL74cn68bfX13\njm5rnftksE5nhcEwExbL7xJep8/XjWDwQM7HL3cWSycCgf0ZzL9xmD//RVXblInYENwz4Hknjh79\nZ4hib1rPi71eZXrDtBEcKQrxQMLzJyAIp6HTzYTJ1Ixo9BsA2sbuD4V6EYl8gmj0bNKdO4eGdsJs\nvhxW63r4/fvR3/9DiCIPljXCav0D6utvytvrUmbCNlE06oLH44LP9w4qK8+DKHrBsmb4fLtBw2iT\ncUj13rNs85Tb4gt6Yxc2A2DZagQCAYjiu7KLIzlulpINVozR2IjPfOZ/AcS+Xz09V0MQUg8j6nSz\nYDDoEoKuwTAPNtsGDA5uxvDwGxDF4ZTHKOSN4JihoSFF8wA3b96M559/HocPH4bX68WhQ4fQ2Fg4\nV71qs9vtaGtr07oZWeF5JxyOVbJXmAxjRUvLE3C5fpBFBpgecoUOLZb1aGj4bnaNzdCHH56HcFjt\nVGmSDMedC5Y1JvnsVGDRonfT6h3b7XY0NJyGw3E9EoO7Dq2tO2RToAsNzztht69EJNKf9DF1de2w\nWDrHgu46l5ztAAAgAElEQVTkocO+vjXweLbKPJNDRcX5Y0O+hTTiMJHigeexxx5DKBSCyWTCT37y\nEwo8BWxi7yYc/hiC8A+kqoRrMNgU//FetOhQXr4cBw+eC0miwpHa4NDa+hIMButob/kEotHT4LjZ\nMBqbMvqBjH+/Jq6nSbXuplCNf/f6EAodScjem7jAONXzJ18ksmwVmpufK4r3QfHAE3fgwAFcfvnl\nFHgK1MDA43C7O5DZXEfq4ZJs1NW1K5ruOnHOKT7PFA73w+FYqdg5SCZq0Nr6Z8V+DIvl+5WJ2PDb\nvTCZAhklRYx/1pVZo5RPNMdThOR+XI3GxqS3x58TX+QmCD4AoSzOrGzQAYBQSLk1NHJXgfLDESQf\n8jmUWsyMxkaYTD/POKDG6woWIwo8BSRV4Jj4mMk/roHAfthsG9DX9x0Iwvi4sc/3DubPjy1k6+lZ\nmXCf8ljENlPLbFI9EvlYsRa43V15rEBAUqmra6ego7DBwW2aJugoKa2htq6uLvz6179O+ZidO3di\n+fLlY39nMtRmt9vTbG7pikY/Rij0A0jSeHBgGCtMpg3Q6eaM3RYK/RSC8JrMEWYBOJ3k9kYAaiwk\n0wOYB+AkgGwLOlahunq3Iq0JBr8LUaRqAFqT+9yS3PD8a4hEfjrldr3+5zAar9agRalN13tLq8ez\ndu1a3HzzzSkfY7Va02/VJKU0ZpvtGHRf368wMpLYI5GkfphMWxK603a7H36/3BHkgk789mT35Ybj\nZkKSPIhGc6kiPKLYv39fXzM8Hgo82tGjunoZbLbfqTbXUIpzPMD0r+vQoS/K3h6NPoS2th+q1SzV\npBV46uvrUV9Pe2RkIp1hs4mSlQeZvG96Nqu51SIInyhwFFGBY8RYLJ3weF6AGnNRJB0R+P1vIRzu\nL5pJ7mIhivJr5ZLdXugUn+M5deoUTp06BYfDAQA4duwYhoeHMXfuXNTV1Sl9uoKUbB4mVYoky5qT\n3F6d8LfF0onh4VdUKBevFUPOR5gY5BmmEpLkVaBdJDtRuFxrp1RwJrlhWSNEcepygELe7C0VxYuE\nPv300/jCF76ANWvWAABuvvlmfOELX8Arr6RXr6gUyE1yh8Mn4HZ3JdzG80709a2B3X4t/P79sseK\nRkfGHtPXF3tPTaaF6jRcA1VVn8/p+fEg7/Fshd//NgWdAiAIqVfUk8wl29StkDd7S0XxHk9HRwc6\nOjqUPmxRSWfYLFWVgImCwXcRCIynPscKCKYqDVKHYtolsbHx9zk9nzLZCg/HzdC6CSUnnr1WKllt\nlE6tgmTzMBM3u0r3B1OSEtfbhMMnUjyPBTA06TYGhbc7onJyLZ1PlKaDzbZR60aUpPr6m4o20ExG\n+/GowGLphMEwL+G2yXuDpPeDmWlNcxFTg4yaQSf3muuThx8zVUjJFuWjChw3EzrdOaPbSOsBcOC4\nc4umXhrRFvV4VDC5qq5cOYt0fjA5zqJQ5pgalOlJDQ+/gb6+NVmX+8i8dD5Jn/y/cV3dV4t2xTwp\nDNTjUUm8nEVb2040NT055UdVrlc0kcEQ27J36mMyv1bQ6WZB+X9qZXpSojgMj2crHI5V4Hlnxs83\nGhths22AwWAbzQzUKdIuAsj9G2u1qycpLdTj0YjcXiMAM7qJ2ngPqbX1xbEaa5IEGI3NCAbfg9z6\nF45rgCCcnnQfh3nz/ggAcLnWIhz+GIW4V0w4fAJHj34ezc1bMxqq4Xnn6FYNtOWB2hjGWFIZlUQ7\nFHg0lG6Rv1DoKAThDAAgGDwDjmsAwEAQfGBZEXq9DZIUhE43E0bjAvD8MYhiECxbCZPp0xgYeAh6\nvQUNDffh5MnvQZLkAg+n+RoYUQzC4VgJm+2ptCdRKastfySJh9f7ChyOj6Yt209IKjTUVsBiKdfX\nTflhFYQBmM2X4YIL+rFgwTuQJB7hsAsjI+8jENgNQIeKigsQjXrg9++G3/82PJ6tcLlWJ90tFBBG\ng44BLFubUTsZRtlFbC7Xavh83Wk9lrLa8k9uTRohmaAeTwGQK68DYHSdj/wQUnxNkNwVvyD051CJ\nOgxRnLqtcCpm8yr4/f+taDWF3t6bsWDB3mmvqimrTRuTSzkR5WVadquYUODRWLLyOibTgpRDSPE1\nQYVwxe/1Pqv4MUUxALe7a9qhSMpq08bENWnFoFB+xCe3o77+DgwObkYw2Au73YxQ6BhEMQCWrQIg\nQRDGA/x0ZbeKCQUejSUrryOKsiWox5hMFwIo7St+n283eN6Z8osWT8Do6fny2DwYyR3LVsFoXAi9\nfiZGRj5AJDLegy62zDafrxu9vTcn9Mi1+BGP7TSauC+Wx7MN8WSgiVXnRXHqXGt8iLMUUtlpjkdj\nyXos0jTZyqdOPQBg+rTsYiYIZ9JKszYaG2E2r8hPo8qCAQsW7MWCBX9FS8uf0db2Murq2lFdvRx1\nde1FddXN884pQQfQZp7K6bxbZgg8s+rspTLESYFHY8l6LFVVF492t+XFy6HH17Gkemzucq9QkK10\nfyAsls5p3wOOs6K1NfYjqkRV7FLFshUJgWW6NWmFzO3uSjr3yPN9eWsHzzsRCOzJ+TjFNsSZDAUe\njSUrr2O1PgSjcUHS500shz44uDnJlyvZP296/+wsOwN1de2wWB5K6/FqSecqz2hsRHPzc7LBh2Vr\nUVNzDebPfxlm87LRoQrl9gEqNaVU5DPVHGg4rOZW8IliF0+5feYYxlRUQ5yp0ByPxlKV1zGZmjEy\nIr+j5sRy6Mm+XAZDG8LhY1NuN5kuRii0b9q2iaJvrC1u9xYAH6T3oiaorl4Bv393xs+bKN2rPLN5\nGRYs2JuyVFEcw+ggSeW+YZwVwCdI/EFkS6rIZ6o50ORLC5SnRBJQZeUlRdXbTIV6PAUg2VCG/PwN\nA4tlfcICy+RfLvktqSMRe5otE8eGuSoqfp7hXFIdTKZLEAweyuA5U2U6kZ3usFBl5edyalfxq0Zr\n6xNTttjguFkwGLLfxr7Q1NffkeLe/JVXUiIJiOePZVVWqhBR4Clg8d7QxIndRYsOoqHhuwmPs1g6\nodcn/ljo9VbodDNljxuNTt46ITmvN5ZZptPNQWvri6ip+erocZPPkdTU3AJgCKHQPohi9nsDsew5\nqk1kx/YBKp95HoYxguMsqKi4aPRz1I3Bwc0J6bpAbHHykSPn49ChczE4uE2j1ipncHBz0vuqqi7O\nWzvq6+/IeR5WEAbQ0/Nl9PWtKfoARENtBYbnnejv70Ag8B4YBqisvAhW6/ppf3wnZ8FJEqDXz8aI\nbKcn/bHmaDSWWabT/QbAPIRCHyEaTZ22rNS6HlH0qDa0EAvqL8Dh+Bom9gwZxgSj8TPg+cOQJPke\nYzGSJB5m82UJqbjJh38kiGIQLtdqACjqPWCSv0YjrNbp5y6zWf8z8TmSxCEUOoJo9HQWrZ9KEM7A\n49la9Gt6KPAUEJ53wm5fmbBmwut9FceO/S+qqj47WkB06off7e6akqYZ+3sJDIZ5CeuEGMY0ZXM5\nANDr2xCNfiKbpBAOnwDHPQ6ncyTPCzUl+Hzdqu3vYjYvQ0XFn2EybZkyJ8TzThw9eqmi1Ri0NjmL\nK53hn/7+HxZ14En2Gmtqrkj5ox2/APR63wAwPhc4PLwHzc1PY3Bw85RgFHvOOvh8u2S/Y0oq9jU9\nFHgKSH9/R0LQiYtGT8HrfXXs78lXO8mu6kTRPyVxIRr1Jxwrrrr6fFgszyddiCkIb0MQUi9qTR+H\niV/mVFyutVi8+LBC551Kp5sj++U1GhthNC5ImtxRjAThVMLf6VR9iKftFyu51xjLGl2f9DmptqUX\nxVNwOG4EMP6+eDzbYDAsQSTSk9decjGv6aHAUyB43gmf7820Hjv5aifZVV04HBsHnvjDGvtSHZ3y\nRYxftZnNK+DxbJU5mlJBB2DZOohielUGBGFYsfNmKlVWYTGK7cs0bmJG5cQV9BNNTNsvRnLbj4ji\nCI4d+zKAKBjGCL3+XJhMzWPla7zeNxGNnk1x1MnBWEQ4nFsSTTaKeU0PBZ4C4XZ3ZZTeGYkMjI0l\n8/wJsGyVzOpsFxyOVQm9o+l2R81H7TNJ8iHdXo+Wa0pKrQ6cyTQ1KzGeBWg2Xz02pzPRxLT9YhV/\njT5fN44fv2nKMJgguDEy8j48nu0oxL2qOO5csKxR9mKxWFHgKRCZ5vmzbLXMcMDUH3O5seBU+wDF\nKyEcP36jauscJCkEjjs3jW29GU3XlEwO0n7/YQDa9cByMd0PVXwep7//hxBFHixrhNX6h6Ke35k4\nyc+yZni9f0Hqi538BR2GMcJoPB+h0PtI3SZmdCdia1rr04oFBZ4CkXqi1wBgfKuC2HoaRuZKXP4D\nnMlYcHxHT7UX1xkMcxCNnk0xCcvBZntCtcSCdE0M0jzvxEcfXaL6xLFyjKioWAKTaV5aP1T19TdN\nG2h8vm64XGshCEPguFrYbBs1/zeSk2qeJjc6xH420/l+sKiouBiRiAvRqA8MI0Kvb0Fl5YKEhASn\n8y4EAu8AiGDiduMsW4Pm5j+Pvb/FmkgghwJPgbBYOjE8/IpsFlVNzZeh01UlXO24XN9P+9iSpMOH\nH56X1o9Fvnb0NBqbwHGfkk10MBhsaG3dWXBXdLFqEouLaN6HhyAMwGJ5SpH30ufrhsNxA+IXOOGw\nFw7HDWhtfakggs/AwONwu/9fxHouDCb+iCuBZSvR3Byb/zx+/GspEwlYtgrNzc9N+74YjY2YP/8l\n2O12tLW1KdreQkaBp0DEa41NrqQ7Xretcexq8+jR5UjWu5k816PTzUYg8Bbiwwipfix8vm54PC8p\n/tom/whMHPaRS3QotPUJE4dsplvDVGgikX7F0m5drrWY+rkTVM88nCga/Rh9fb+aksocCzrrJjxS\n2aADAJWVF459ZxYufDdhvZ3RuBg6XQVE0V8SQ2FqUzTweDwe/OIXv8Du3btx8uRJ1NfX46qrrkJn\nZyfOOeccJU9VUiYOXzBMFVi2EkAYHDcDNtuGsaAz8WpTjsEwDzbbhtE1BrEMHp9vF6aOXQvo7W3H\nggXvjH05Yse/XuaxSpDAcedCkiJgGMBkihU/nS7RoRDID9mknw5eCJRKuxUE+YoX+co85HknQqEf\nYGRkfMnB8PArMJkWIhhUvxc6MYvMaGxES8szqp+zVCkaeNxuN9xuN+6//34sWLAAn3zyCe655x6s\nXr0aL7zwgpKnKhlTA8r4BlDh8DBcrh+gtfXFJFebse5/ZeWFCT/aZvOysR/MZPMRohgcy3gDgN7e\ndqg5uTpxPsfrfRUOx9Gxnk0hj13LDz0KMBhskCQTIpEeTdqVCaXSbjmuFuHw1A3Kcsk8zKQyQCzz\nM3GdmygGEAzuz/r86Sr2LLJCo2jgWbRoEf70pz+N/d3c3IwHHngAt9xyC7xeL2pqapQ8XUlIFlDi\n4llpya42AT3a2nZOuTWduZpw+AR6er6CaHRY9WSCyQGwWFZeJ8s2jERO5bW6cbb0eqtiP5g220aZ\nXjeXdeZhsm3fJw61TgxModDUSuu5qUJ19cVg2dgQGctWA2Agij6wrBmx0kE0dKYG1ed4fD4fjEYj\nKisr1T5VUUoeUMZFIgNJrzZF0Y9Dh2xg2SqYTJ8GIIBlzQgEpt/2IHZ+ZWpIjUt/GKoYVl5LkvxX\npBiCjk53DtraXlbsB9NsXobW1pdGh4WHR4eCs89qS7bte/yCRInMtJkzf4zh4ecLfh6x3KgaeIaG\nhvDggw/im9/8JjiO8hjkJAsoE+n1DWhoWJdkjicKUfRCFL3w+3Pf8yN3EiyW9RgcfAzhsCvlIwt9\n5bXP1z2amFGcamq+pPiPq9m8TLFEguS9ydgFSXYZlvFEFh0slgfR0PBdzJz5LwU9j1iOmKGhoWnT\nP7q6uvDrX/865WN27tyJ5cuXj/3t9/vR3t4OlmWxbds2mEympM+129PdH6b0jIw8g2j0N0nvZxgr\nTKYN0OnmIBJ5H+Hw/aMr/4Mo7F00mwD0Jb134usqVIHA9ZCkQgjmmSuG9zcU+ikE4bUpt3Pc1TCZ\nfo5g8LsQRbmkgXMAWAD0IrGyeOG/5nIxXWp4WoFncHAQg4ODKR9jtVrHhtPiQQcAtm7diurq6nTb\nW/QyycdPlqlmMHwGBkNN0qsznnfiyJHzoUbKqHJ0kEtW4LiZMJtXFMxVZ6p/r0OHbBDF1L1R7dWD\n44wQBC9YVoTB0IqKik8jFPoGFixYoXXjUpIbSps4DNbXt0a2bmBdXfvYUFyp9GRoHY+M+vp61NfX\np3VAn8+H9vZ2SJKE559/vqyCTqaSJxZ40Nb2t6TPi+0KWshBBwCkKVsyFNvYejrDoCqeHRZLFwKB\nvyEY3A9JikKSdADCkKQQWLYKVVWXJN2rqRhGEbKpG8gw48kShZ4RSZJTdOLF5/PhxhtvhM/nw5Yt\nWxAMBhEMBgEAdXV1MBjKZ8fHuFQbu2W7LkKJ/dtzYTKdD57/KOUEO8uaCn6NznTks7jSo9PVI35x\nwDBGGAxWGI1NqK+/A273wwgE9iJWIgUAKsFxNWOPSXyfvitz9NIxXd3AyZ+hUOgbRfUZIvIUDTwH\nDx7Ee++9BwC48MILE+6bPAdUDpJt7Hb06P9iwYI30l4XMXmtA8tqm5bOcWYYDFfIlruJs1r/UPRX\npBOzuCKRs2AYERw3F4LQn1AdguOsqKw8b3SjvukDbCGUlykWkz9DxdCTI9NTNPAsX74cQ0PTpweX\ni1iwmLqxmyiegtN5F8Jh+R6DXr8EBw7UTrglcb6E46zQ662yx86H+I/r5HI3QGyH07lzHy3qqsYT\nyWVxldLcAiFaoBznLMWqyt6NYPAdSFIUHDcTTU2bAIxvtpVqSCwQSD6HEwi8POmWxEl6QeiHybQU\n1dWfHyuNMzLyQZ4CkQ719XcURbkbtRR7T44QrVHgyQLPO3Hs2JWIRse3EhYENxyO62E0Pgoglp2S\nzp722QqF/i9mzfoOfL7XEIm4UVGxBEZjK/z+vZi4hYLyojh9+lGYzcvoB7hAxWqa/RR2u3/aMjSE\naIECTwbiQyxe7+4kVYqjCIfvB3ArgFhWztDQf6u2D7vL9W1M7A3FssZegMPxLwA8qpwTAAKB91Q7\nNslNPEVZEE7AP7pb+eQyNIRojdW6AcUi/oX2eLamLI0vSW588EEbjh+/DQDQ0vI8GKZCpVYlDsHF\nyo08DOWCjl72VoZR6PBEcanK0BBSKCjwjOJ5J/r61sBuvxZ9fWvA886E+zMp3yEIZ+D1voqenpUw\nGKxYuPBd1NRcA46bCYYxqtH8MYHAbkWOYzDMQ1XVpbL3VVZepMg5iPKmK0NDSCGgoTakVyU3m7Uz\ngtCP/v51sFrXIxQ6CkEo7E3EYoVGF42tJQGAnp6VEITxpAWOs8JqXa9VE8k0ks0rFnpdPFJeyjrw\njM/ZvIlo9GzCfeHwCTgc141twZw8UYBFqpppXu//oL9/XV62k86cDlVVl43uBS+flTZ//stwu7sw\nPNyLGTOaaaK6wMmt9qe9ZEihKdvAk07J9XDYNbZZmtwXWq+3oqJiCYLB/Sl6Mzx8vjcVbn2uOBgM\n56ZV0j6euWa329HUVD61pIpVPM29p+demEyBskpzJ8WjbANPunM2E3s+E9etsKwZfv/7KVfvx0lS\n7unNOt05EMVg0h1F08WyVViwYC/9EJUwo7ERJtPPy6roJCkuZZtckMmcTbznAwBNTU+O7vgpQRRP\npX6igkQxoEjQaW5+joIOIURTZRt4Ml3cOTkl1efrVrpJKeW646XBYMOCBXupThghRHNlG3gslk4Y\nDPMyes7ElFRJ8ivdJNXEFpbupJ4OIaQglG3giU/C1tW1I92prsSU1OneOhYm01Lo9dZsm5gzhjGh\npuartGqdEFJQyja5ABjP2PL5dk+7xiaekhpPwU4VeAwG21jGWPzxfv/7iER6FX4F8gptl09CCJmo\nrANPXGXlRSmy0xjU1FwDq/UhAJg2BRuIJSP09X0H8+e/nFBI8+9/vwiRiEPJpk/BslWYP/+vFHAI\nIQWrpIfapiuDE1db+7Wkx6ipuRotLc/AaGzMsGxOrGrBRNXVFyR5tBEcl/vKcspaI4QUg5Lt8aRT\nBiduYOD+JEdhE8rDhELJhso4yG2PHAjsS/g72ary1tYXAWC0QsBrEEVf8heWhMFgowQCQkhRKNke\nTyZVegUh2a6pInp6rsahQzZ8+OF54PlkvZ2o/K3Rswlp1xMTGqqrl6Ourn0sEMaH5GbMuDrpa2LZ\nqqS3U9AhhBSLkg08yRaI+ny7pwy9cVyt7GOB2AZvouhFOOyCKJ5N8qjkHcfe3psThvjiAaatbSea\nmp6cEiwslk5w3NRMOIapgNX6+ykp4DS8RggpNiU71JZsgaggnIHfH8tgiw+92Wwb4XCszPpcLFsN\nUQxAbudPUQzA7e6aslNnPNstEnFDr7egvv4ODA5uHg2YU3tQkjQCn++1st1umhBSOko28MjNp0wW\nH3qLBQUjgOyqA1RXfw7RaBCBwN9k75+8F4rc/JPH8wLk5okmH4e2myaEFLuSHWqbPJ+i050j+zie\n7wMAMIz8bptTJb5l8f1pdDr5+Rdg6l4o8tlxqYOO3HEIIaQYlWzgAWLBx2LphF7fMDoUNpUgxAp9\n6vXygSkRA4vlFwnJAfPnvwwACAbfk38GY5qyF0o2m8rRniqEkFJRskNtQGxIy25fiUikP+ljdLpZ\nADA6z3MDEnseLABp9D8AkDA4+MRY+rPTeReOHLkYcnM7cWbzFVPmYNItUGow2GAwNNJcDiGkpJR0\n4Onv70gZdADAZIpliZnNy9Da+hJcrrUQhGFw3Azo9c0IBHYnPD4cPoH+/g74/e9Puy2CwTBvrOLB\nRPLzT4lrgeLreyjYEEJKTUkFnsmZYj7fOykfP3n4ymxehsWLD4/9bbdfK/u8QOA9iGLq2m463cyk\ngSM+/zQxO208q42y1QghpU3xwHPXXXdhz549GBgYQFVVFZYuXYqf/exn+PSnP630qRKks5X1RLGV\n/ql7FMmGxBhm+uPX1KxIeWy57DTaK4cQUg4UTy644IIL8Nhjj2Hfvn3Ytm0bJEnCqlWrEIlElD5V\nQi02h+O6tIMOABgMjdP2KOT27DEY5qGy8qKUz2PZKkoEIISQJBTv8XzrW98a+//GxkZ0dnbisssu\nQ19fn6J7wGfaw5ksndRkuSGxeEA5evR/k87xmEyLaJiMEEKSUHWOJxAIYMuWLbBarbDZbIoeO5NK\n0ZNlkpqcbMHmggVv4OjRL8vO9RiNTVm1ixBCygEzNDQkTf+wzGzatAn33XcfAoEA2tra8Oyzz6K5\nuTnp4+12e8bnCAa/C1F8P+PnMYwFJtNG6HRzMn7uZNHoxwiFfgBJGs+cYxgrTKYNihyfEEKK0XSj\nW2kFnq6uLvz6179O+ZidO3di+fLlAIDh4WH84x//wMDAAP7whz/g448/xuuvv47KysoMmp5aX98a\neDxbM3qOGinK45l0saG4UOgbWLBghWLHLxR2u13RodJCQa+ruNDrKg1pDbWtXbsWN998c8rHWK3j\nFZVnzJiBGTNmoKWlBRdffDGampqwY8cO3Hrrrbm1dgKLpRPDw6/IViRgmApI0sikW1no9crPu0we\nisum90YIIeUkrcBTX1+P+vr6rE4gSRIkSUI4nHx1fzaMxkZYrb+Hy/UdTF54qdfbZAp2iggEdsPh\nWEULMwkhREOKplP39vbit7/9LQ4ePIiTJ09i3759uP3222EwGHDVVVcpeSrwvBMDA12YGHRYtgo2\n2wYwjPzGbEDyzeAIIYTkh6JZbQaDAW+//TY2bNiA4eFhzJo1C5deein+8pe/YPbs2UqeSjarTRQD\nGBzcPG0ttMnbFBBCCMkfRQOP1WrF888/r+Qhk0pW4TkSGYDNtiHlXjy0vQAhhGinaLdFSNar0esb\nxhZ+1tRcA4YxJdxP2wsQQoi2irZIqFyF54lBxWhsREvLn6ekO1PxTUII0VbRBp5k5WwmBxXaKpoQ\nQgpL0QYegIIKIYQUo6Kd4yGEEFKcKPAQQgjJKwo8hBBC8ooCDyGEkLyiwEMIISSvKPAQQgjJK1U2\ngiOEEEKSoR4PIYSQvKLAQwghJK8o8BBCCMkrCjyEEELyigIPIYSQvKLAo5K77roL559/PhoaGtDS\n0oLbbrsNx44d07pZOfF4PPjxj3+Miy++GA0NDVi8eDH+7d/+DWfPntW6aTnbvHkzrr32WthsNtTW\n1sLpdGrdpKxs2rQJ5513HmbPno0vfvGL2Lt3r9ZNyll3dzduvfVWLFy4ELW1tdiyZYvWTVLEI488\ngssvvxxz585FS0sLbrnlFhw5ckTrZuUFBR6VXHDBBXjsscewb98+bNu2DZIkYdWqVYhEIlo3LWtu\ntxtutxv3338/9u7diyeeeAJ79+7F6tWrtW5azoLBIK644gqsW7dO66Zkbfv27Vi3bh1+9KMfYc+e\nPVi6dCna29tx8uRJrZuWk0AggEWLFmH9+vWoqKjQujmKefvtt7F69Wq8/vrr2LFjBziOw6pVq+Dx\neLRumupoHU+e/P3vf8dll12G9957D21tbVo3RzFvvPEGbrnlFjidTtTU1GjdnJwdOHAAl19+OQ4d\nOoTGxuLaMPBLX/oSFi9ejN///vdjt332s5/FDTfcgPvuu0/Dlilnzpw5+NWvfoVvfOMbWjdFcX6/\nHzabDVu2bME111yjdXNURT2ePAgEAtiyZQusVitsNpvWzVGUz+eD0WhEZWWl1k0pa+FwGAcPHsQV\nV1yRcPsVV1yBffv2adQqkgm/3w9RFFFbW6t1U1RHgUdFmzZtwpw5czBnzhz89a9/xY4dO2A0GrVu\nlmKGhobw4IMP4pvf/CY4rqj3FCx6g4ODiEajmDlzZsLtM2fOxOnTpzVqFcnEunXrsGTJEixdulTr\npqiOAk8Gurq6UFtbm/K/t956a+zx7e3t2LNnD15++WW0tLTg9ttvRzAY1PAVyMv0dQGxq7PbbrsN\nFoodKAYAAAKESURBVIsFDzzwgEYtTy2b10WIFn7yk5/g3XffxX/9139Bp9Np3RzV0WVqBtauXYub\nb7455WOsVuvY/8+YMQMzZsxAS0sLLr74YjQ1NWHHjh249dZb1W5qRjJ9XX6/H+3t7QCAZ599FiaT\nSdX2ZSvT11XM6uvrodPpcObMmYTbz5w5g1mzZmnUKpKOjo4ObN++HTt37kRTU5PWzckLCjwZqK+v\nR319fVbPlSQJkiQhHA4r3KrcZfK6fD4f2tvbIUkSnn/+eVRXV6vcuuzl8u9VbAwGA84//3zs2rUL\nq1atGrt9165duP766zVsGUnl3nvvxQsvvICdO3di/vz5WjcnbyjwqKC3txc7duzAihUrUF9fj08+\n+QS/+c1vYDAYcNVVV2ndvKz5fD7ceOON8Pl82LJlC4LB4NjQYV1dHQwGg8YtzN6pU6dw6tQpOBwO\nAMCxY8cwPDyMuXPnoq6uTuPWpef73/8+vvOd7+DCCy/EJZdcgqeffhoDAwP41re+pXXTcuL3+9Hb\n2wsAEEUR/f39OHz4MOrq6jB37lyNW5e9e+65B88++yz+9Kc/oba2FqdOnQIAVFVVFfQFnRIonVoF\n/f39+Nd//VccPHgQw8PDmDVrFi699FL8+Mc/LuqrmrfeegvXXXed7H07d+7E8uXL89wi5Tz00EP4\n5S9/OeX2Rx99tKhSdzdt2oTf/e53OHXqFBYuXIhf/OIXWLZsmdbNykmyz91tt92GjRs3atAiZSTL\nXrv33nvR0dGR59bkFwUeQggheUVZbYQQQvKKAg8hhJC8osBDCCEkryjwEEIIySsKPIQQQvKKAg8h\nhJC8osBDCCEkryjwEEIIySsKPIQQQvLq/we1EYjU3LJxlgAAAABJRU5ErkJggg==\n",
      "text/plain": [
       "<matplotlib.figure.Figure at 0x113caf898>"
      ]
     },
     "metadata": {},
     "output_type": "display_data"
    }
   ],
   "source": [
    "import matplotlib.pyplot as plt\n",
    "plt.style.use('fivethirtyeight')\n",
    "lat = latlng_std[:,0]\n",
    "lng = latlng_std[:,1]\n",
    "plt.scatter(lng[is_mt == 1], lat[is_mt == 1], c='b', marker='o') # plot points in Manhattan in blue\n",
    "plt.scatter(lng[is_mt == 0], lat[is_mt == 0], c='y', marker='o') # plot points outside Manhattan in yellow\n",
    "plt.show()"
   ]
  },
  {
   "cell_type": "code",
   "execution_count": 10,
   "metadata": {
    "collapsed": false
   },
   "outputs": [
    {
     "name": "stdout",
     "output_type": "stream",
     "text": [
      "Longs in Manhattan 2925\n",
      "Lats in Manhattan 2925\n",
      "Longs not in Manhattan 7075\n",
      "Lats not in Manhattan 7075\n"
     ]
    }
   ],
   "source": [
    "print(\"Longs in Manhattan\", lng[is_mt == 1].shape[0])\n",
    "print(\"Lats in Manhattan\", lat[is_mt == 1].shape[0])\n",
    "print(\"Longs not in Manhattan\", lng[is_mt == 0].shape[0])\n",
    "print(\"Lats not in Manhattan\", lat[is_mt == 0].shape[0])"
   ]
  },
  {
   "cell_type": "markdown",
   "metadata": {},
   "source": [
    "You can see that the geolocations in Manhattan are plotted in blue dots, and others are in yellow dots. Also, latitudes and longitudes are scaled to have 0 as the center."
   ]
  },
  {
   "cell_type": "markdown",
   "metadata": {},
   "source": [
    "### Split the data into \"Training Data\" and \"Test Data\"\n",
    "\n",
    "Before start training the neural network model, we need to separate a part of the training data as test data. The test data will be used for checking accuracy of classifications by the model after the training. This is a common practice in machine learning to accurately evaluate the performance of your model.\n",
    "\n",
    "**Run the cell below** and split the data into 8,000 pairs of training data and 2,000 pairs of test data."
   ]
  },
  {
   "cell_type": "code",
   "execution_count": 11,
   "metadata": {
    "collapsed": false
   },
   "outputs": [
    {
     "name": "stdout",
     "output_type": "stream",
     "text": [
      "Split finished.\n"
     ]
    }
   ],
   "source": [
    "# 8,000 pairs for training\n",
    "latlng_train = latlng_std[0:8000]\n",
    "is_mt_train = is_mt[0:8000]\n",
    "\n",
    "# 2,000 pairs for test\n",
    "latlng_test = latlng_std[8000:10000]\n",
    "is_mt_test = is_mt[8000:10000]\n",
    "\n",
    "print(\"Split finished.\")"
   ]
  },
  {
   "cell_type": "markdown",
   "metadata": {},
   "source": [
    "---\n",
    "### Lab: Disscuss the preprocessing\n",
    "\n",
    "Disscuss with your buddy about the following topics.\n",
    "\n",
    "- What are the proprocess we have done so far\n",
    "- Why is each proprocess required\n",
    "- What function of NumPy and Matplotlib we have used to plot the map\n",
    "- Why we need to split the data into training and testing."
   ]
  },
  {
   "cell_type": "markdown",
   "metadata": {},
   "source": [
    "---\n",
    "## 2-3. Train the Neural Network with TensorFlow High level API\n",
    "\n",
    "<br/>\n",
    "![](images/tflogo.png)\n",
    "<br/>\n",
    "\n",
    "Now, let's use [TensorFlow](https://www.tensorflow.org/).\n",
    "\n",
    "TensorFlow is an open source library for machine learning. You can define your own neural network or deep learning model and run a training for it on your laptop, or on [many CPUs and GPUs in the cloud](https://cloud.google.com/ml/) for scalable and faster training and prediction.\n",
    "\n",
    "TensorFlow provides two kind of APIs:\n",
    "\n",
    "- [High level API](https://www.tensorflow.org/get_started/tflearn): provides easy-to-use [predefined machine learning models](https://www.tensorflow.org/api_guides/python/contrib.learn#estimators)\n",
    "- [Low level API](https://www.tensorflow.org/get_started/get_started): provides customizable data flow computation framework for machine learning\n",
    "\n",
    "If you use common neural network and machine learning models (such as fully-connected neural network, convolutional neural network, logistic regression and k-means), the high level API is recommended. If you want to design your own neural network model with sophisticated or new algorithm, or if you like to learn the underlying technology used for implementing the high level API, the low level API is the best option.\n",
    "\n",
    "In this codelab, we will use the high level API first, and then look at the low level API to learn more about the underlying technology."
   ]
  },
  {
   "cell_type": "markdown",
   "metadata": {},
   "source": [
    "### Define a single layer neural network\n",
    "\n",
    "**Run the cell below** to define a neural network."
   ]
  },
  {
   "cell_type": "code",
   "execution_count": 15,
   "metadata": {
    "collapsed": false
   },
   "outputs": [
    {
     "data": {
      "text/plain": [
       "DNNClassifier(params={'gradient_clip_norm': None, 'feature_columns': (_RealValuedColumn(column_name='', dimension=2, default_value=None, dtype=tf.float32, normalizer=None),), 'input_layer_min_slice_size': None, 'head': <tensorflow.contrib.learn.python.learn.estimators.head._BinaryLogisticHead object at 0x111a8aa20>, 'embedding_lr_multipliers': None, 'optimizer': None, 'dropout': None, 'hidden_units': [10, 10, 10], 'activation_fn': <function relu at 0x11b432620>})"
      ]
     },
     "execution_count": 15,
     "metadata": {},
     "output_type": "execute_result"
    }
   ],
   "source": [
    "import tensorflow as tf\n",
    "tf.logging.set_verbosity(tf.logging.ERROR) # supress warning messages\n",
    "\n",
    "# define two feature columns with real values\n",
    "feature_columns = [tf.contrib.layers.real_valued_column(\"\", dimension=2)]\n",
    "\n",
    "# create a neural network\n",
    "dnnc = tf.contrib.learn.DNNClassifier(\n",
    "  feature_columns=feature_columns,\n",
    "  hidden_units=[10, 10, 10],\n",
    "  n_classes=2)\n",
    "\n",
    "dnnc"
   ]
  },
  {
   "cell_type": "markdown",
   "metadata": {},
   "source": [
    "The code above does the following:\n",
    "\n",
    "- At line 2, setting the log level to ERROR to supress warning messages\n",
    "- At line 5, defining \"feature columns\" (columns in the training data used for training the model) as two dimensional real values\n",
    "- At line 8, defining a neural network by using [DNNClassifier](https://www.tensorflow.org/api_docs/python/tf/contrib/learn/DNNClassifier) class with the following parameters:\n",
    " - No hidden units (= fully connected single layer neural network)\n",
    " - Use two classes for classification (Manhattan or not)\n",
    " \n",
    "In a nutshell, this code defines a neural network like this, which is the same single neuron we tried with the Playground, where we put latitude and longitude as input to x1 and x2 respectively.\n",
    "\n",
    "<br/>\n",
    "![](images/singleneuron.png)\n",
    "![](images/nnformula.png)\n",
    "<br/>\n",
    "\n",
    "Just like we saw on the Playground, the neuron can classify each datapoint into two groups by drawing **a single straight line**. While training this neuron with the training data, the neuron tries to move the weight and bias values to find what's the best angle and position for the line to classify Manhattan correctly.\n",
    "\n",
    "<br/>\n",
    "![](https://cloud.google.com/blog/big-data/2016/07/images/146798944178238/neuralnetworks-22.png)\n",
    "<br/>\n",
    "\n",
    "This time, we will train the neuron for classifying whether a geolocation is in Manhattan or not by drawing a line on the map with a single neuron."
   ]
  },
  {
   "cell_type": "markdown",
   "metadata": {},
   "source": [
    "### Check the accuracy of the neural network\n",
    "\n",
    "Before start training the neural network, let's define two methods for checking the accuracy of the neural network. **Run the cell below**."
   ]
  },
  {
   "cell_type": "code",
   "execution_count": 16,
   "metadata": {
    "collapsed": false
   },
   "outputs": [
    {
     "name": "stderr",
     "output_type": "stream",
     "text": [
      "  equality = a == b\n"
     ]
    },
    {
     "data": {
      "image/png": "iVBORw0KGgoAAAANSUhEUgAAAZ4AAAEJCAYAAACkH0H0AAAABHNCSVQICAgIfAhkiAAAAAlwSFlz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\nCIIgiJBCwkMQBEGElP8PWqFnK6mWpIAAAAAASUVORK5CYII=\n",
      "text/plain": [
       "<matplotlib.figure.Figure at 0x11d7b6fd0>"
      ]
     },
     "metadata": {},
     "output_type": "display_data"
    },
    {
     "name": "stdout",
     "output_type": "stream",
     "text": [
      "Accuracy: 45.00%\n"
     ]
    }
   ],
   "source": [
    "# plot a predicted map of Manhattan\n",
    "def plot_predicted_map():\n",
    "    is_mt_pred = dnnc.predict(latlng_std, as_iterable=False) # an array of predictions\n",
    "    plt.scatter(lng[is_mt_pred == 1], lat[is_mt_pred == 1], c='b')\n",
    "    plt.scatter(lng[is_mt_pred == 0], lat[is_mt_pred == 0], c='y')\n",
    "    plt.show()\n",
    "\n",
    "# print the accuracy of the neural network \n",
    "def print_accuracy():\n",
    "    accuracy = dnnc.evaluate(x=latlng_test, y=is_mt_test)[\"accuracy\"]\n",
    "    print('Accuracy: {:.2%}'.format(accuracy))\n",
    "\n",
    "# train the model just for 1 step and print the accuracy\n",
    "dnnc.fit(x=latlng_train, y=is_mt_train, steps=1)\n",
    "plot_predicted_map()\n",
    "print_accuracy()"
   ]
  },
  {
   "cell_type": "markdown",
   "metadata": {},
   "source": [
    "In the first method `plot_predicted_map()` at line 3, it calls [predict()](https://www.tensorflow.org/api_docs/python/tf/contrib/learn/DNNClassifier#predict) method of `DNNClassifier` class to get an array of prediction results (10,000 rows) like `[1 0 0 1 ... 0 0 1 0]` where `1` means that the neural network believes the geolocation is in Manhattan, and `0` means it's not. By using this array as index for selecting `lat` and `lng`, the method plots geolocations predicted as Manhattan in blue dots and others in yellow dots.\n",
    "\n",
    "In the second method `print_accuracy()` at line 9, it calls [evaluate()](https://www.tensorflow.org/api_docs/python/tf/contrib/learn/Evaluable#evaluate) method of `DNNClassifier` class to calculate the accuracy of the prediction with the test data `latlng_test` and `is_mt_test` and print it.\n",
    "\n",
    "After defining the two methods, it calls [fit()](https://www.tensorflow.org/api_docs/python/tf/contrib/learn/Trainable#fit) method of `DNNClassifier` class at line 14 to train the model for just **one step**. A step in the `fit()` method moves the weights and bias in the neural network only for a little towards the direction of less error. But usually it takes thousands of steps for neural networks to find the best weights and bias. So, what you are seeing shows how the neural network in the initial state (= before the training) gives so low accuracy and can not classify the Manhattan properly. "
   ]
  },
  {
   "cell_type": "markdown",
   "metadata": {},
   "source": [
    "### Train the neural network\n",
    "\n",
    "Finally let's start training the neural network. This time, we will train the network by calling `fit()` method for 500 steps with the training data `latlng_train` and `is_mt_train`. At every 100 steps, it will call `plot_predicted_map()` and `print_accuracy()` to show the current accuracy of the network. **Run the cell below** and wait for a while until the message \"Finished\" is printed. You will see the network is trying to **move the weights and bias slowly** to minimize the error and find the best position of the line for classifying geolocations in Manhattan. The final accuracy would be as high as 97%."
   ]
  },
  {
   "cell_type": "code",
   "execution_count": 17,
   "metadata": {
    "collapsed": false,
    "scrolled": false
   },
   "outputs": [
    {
     "name": "stderr",
     "output_type": "stream",
     "text": [
      "  equality = a == b\n"
     ]
    },
    {
     "data": {
      "image/png": "iVBORw0KGgoAAAANSUhEUgAAAZ4AAAEJCAYAAACkH0H0AAAABHNCSVQICAgIfAhkiAAAAAlwSFlz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\njj7Psp+/wAAAAABJRU5ErkJggg==\n",
      "text/plain": [
       "<matplotlib.figure.Figure at 0x111ba89b0>"
      ]
     },
     "metadata": {},
     "output_type": "display_data"
    },
    {
     "name": "stdout",
     "output_type": "stream",
     "text": [
      "Steps: 5\n",
      "Accuracy: 78.20%\n"
     ]
    },
    {
     "data": {
      "image/png": "iVBORw0KGgoAAAANSUhEUgAAAZ4AAAEJCAYAAACkH0H0AAAABHNCSVQICAgIfAhkiAAAAAlwSFlz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\nA0GHhcsAAAAASUVORK5CYII=\n",
      "text/plain": [
       "<matplotlib.figure.Figure at 0x1122d2160>"
      ]
     },
     "metadata": {},
     "output_type": "display_data"
    },
    {
     "name": "stdout",
     "output_type": "stream",
     "text": [
      "Steps: 10\n",
      "Accuracy: 82.40%\n"
     ]
    },
    {
     "data": {
      "image/png": "iVBORw0KGgoAAAANSUhEUgAAAZ4AAAEJCAYAAACkH0H0AAAABHNCSVQICAgIfAhkiAAAAAlwSFlz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\n",
      "text/plain": [
       "<matplotlib.figure.Figure at 0x11ed064e0>"
      ]
     },
     "metadata": {},
     "output_type": "display_data"
    },
    {
     "name": "stdout",
     "output_type": "stream",
     "text": [
      "Steps: 15\n",
      "Accuracy: 92.90%\n"
     ]
    },
    {
     "data": {
      "image/png": "iVBORw0KGgoAAAANSUhEUgAAAZ4AAAEJCAYAAACkH0H0AAAABHNCSVQICAgIfAhkiAAAAAlwSFlz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\nIYQQUlIUeAghhJQUBR5CCCEl9f8B4hVOF8/FyFoAAAAASUVORK5CYII=\n",
      "text/plain": [
       "<matplotlib.figure.Figure at 0x11e387f60>"
      ]
     },
     "metadata": {},
     "output_type": "display_data"
    },
    {
     "name": "stdout",
     "output_type": "stream",
     "text": [
      "Steps: 20\n",
      "Accuracy: 94.60%\n"
     ]
    },
    {
     "data": {
      "image/png": "iVBORw0KGgoAAAANSUhEUgAAAZ4AAAEJCAYAAACkH0H0AAAABHNCSVQICAgIfAhkiAAAAAlwSFlz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\nOUg5VAUADQ3tkqa7is0zBYMOWK3lu4q7utWhtfUP0OsXJfzb