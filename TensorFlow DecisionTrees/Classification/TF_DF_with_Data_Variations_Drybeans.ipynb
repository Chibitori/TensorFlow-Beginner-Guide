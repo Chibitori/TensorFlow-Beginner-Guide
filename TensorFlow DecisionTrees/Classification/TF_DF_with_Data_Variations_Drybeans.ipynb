
{
  "nbformat": 4,
  "nbformat_minor": 0,
  "metadata": {
    "colab": {
      "name": "TF DF with Data Variations - Drybeans.ipynb",
      "provenance": [],
      "collapsed_sections": [],
      "authorship_tag": "ABX9TyMP2OyBYe6h/VRJJg8JfBbj",
      "include_colab_link": true
    },
    "kernelspec": {
      "name": "python3",
      "display_name": "Python 3"
    },
    "language_info": {
      "name": "python"
    }
  },
  "cells": [
    {
      "cell_type": "markdown",
      "metadata": {
        "id": "view-in-github",
        "colab_type": "text"
      },
      "source": [
        "<a href=\"https://colab.research.google.com/github/karthikmswamy/TF_Intro_Notebooks/blob/master/TF_DF_with_Data_Variations_Drybeans.ipynb\" target=\"_parent\"><img src=\"https://colab.research.google.com/assets/colab-badge.svg\" alt=\"Open In Colab\"/></a>"
      ]
    },
    {
      "cell_type": "markdown",
      "metadata": {
        "id": "u6xrI9mMFGAK"
      },
      "source": [
        "## Installs"
      ]
    },
    {
      "cell_type": "code",
      "metadata": {
        "id": "4u1n95o8f1Sz"
      },
      "source": [
        "# !pip install -U augly\n",
        "# !sudo apt-get install python3-magic\n",
        "!pip install tensorflow_decision_forests\n",
        "!pip install wurlitzer"
      ],
      "execution_count": null,
      "outputs": []
    },
    {
      "cell_type": "markdown",
      "metadata": {
        "id": "qZjEjvCeFJtI"
      },
      "source": [
        "## Imports"
      ]
    },
    {
      "cell_type": "code",
      "metadata": {
        "id": "AWIfTG5Mgok3"
      },
      "source": [
        "from time import time\n",
        "\n",
        "import tensorflow_decision_forests as tfdf\n",
        "import pandas as pd\n",
        "import tensorflow as tf\n",
        "try:\n",
        "  from wurlitzer import sys_pipes\n",
        "except:\n",
        "  from colabtools.googlelog import CaptureLog as sys_pipes\n",
        "\n",
        "from IPython.core.magic import register_line_magic\n",
        "from IPython.display import Javascript\n",
        "import matplotlib.pyplot as plt"
      ],
      "execution_count": 2,
      "outputs": []
    },
    {
      "cell_type": "markdown",
      "metadata": {
        "id": "Av22s03cFNMg"
      },
      "source": [
        "## Data Download and Check"
      ]
    },
    {
      "cell_type": "code",
      "metadata": {
        "colab": {
          "base_uri": "https://localhost:8080/",
          "height": 164
        },
        "id": "ORMNK-GRvs1N",
        "outputId": "a9ba666a-4bc8-478c-e722-866f955739b9"
      },
      "source": [
        "# Downloading file from https://archive.ics.uci.edu/ml/machine-learning-databases/00602/DryBeanDataset.zip\n",
        "\n",
        "# Load a dataset into a Pandas Dataframe.\n",
        "dataset_df = pd.read_csv(\"./Dry_Bean_Dataset.csv\")\n",
        "\n",
        "# Display the first 3 examples.\n",
        "dataset_df.head(3)"
      ],
      "execution_count": 3,
      "outputs": [
        {
          "output_type": "execute_result",
          "data": {
            "text/html": [
              "<div>\n",
              "<style scoped>\n",
              "    .dataframe tbody tr th:only-of-type {\n",
              "        vertical-align: middle;\n",
              "    }\n",
              "\n",
              "    .dataframe tbody tr th {\n",
              "        vertical-align: top;\n",
              "    }\n",
              "\n",
              "    .dataframe thead th {\n",
              "        text-align: right;\n",
              "    }\n",
              "</style>\n",
              "<table border=\"1\" class=\"dataframe\">\n",
              "  <thead>\n",
              "    <tr style=\"text-align: right;\">\n",
              "      <th></th>\n",
              "      <th>Area</th>\n",
              "      <th>Perimeter</th>\n",
              "      <th>MajorAxisLength</th>\n",
              "      <th>MinorAxisLength</th>\n",
              "      <th>AspectRation</th>\n",
              "      <th>Eccentricity</th>\n",
              "      <th>ConvexArea</th>\n",
              "      <th>EquivDiameter</th>\n",
              "      <th>Extent</th>\n",
              "      <th>Solidity</th>\n",
              "      <th>roundness</th>\n",
              "      <th>Compactness</th>\n",
              "      <th>ShapeFactor1</th>\n",
              "      <th>ShapeFactor2</th>\n",
              "      <th>ShapeFactor3</th>\n",
              "      <th>ShapeFactor4</th>\n",
              "      <th>Class</th>\n",
              "    </tr>\n",
              "  </thead>\n",
              "  <tbody>\n",
              "    <tr>\n",
              "      <th>0</th>\n",
              "      <td>28395</td>\n",
              "      <td>610.291</td>\n",
              "      <td>208.178117</td>\n",
              "      <td>173.888747</td>\n",
              "      <td>1.197191</td>\n",
              "      <td>0.549812</td>\n",
              "      <td>28715</td>\n",
              "      <td>190.141097</td>\n",
              "      <td>0.763923</td>\n",
              "      <td>0.988856</td>\n",
              "      <td>0.958027</td>\n",
              "      <td>0.913358</td>\n",
              "      <td>0.007332</td>\n",
              "      <td>0.003147</td>\n",
              "      <td>0.834222</td>\n",
              "      <td>0.998724</td>\n",
              "      <td>SEKER</td>\n",
              "    </tr>\n",
              "    <tr>\n",
              "      <th>1</th>\n",
              "      <td>28734</td>\n",
              "      <td>638.018</td>\n",
              "      <td>200.524796</td>\n",
              "      <td>182.734419</td>\n",
              "      <td>1.097356</td>\n",
              "      <td>0.411785</td>\n",
              "      <td>29172</td>\n",
              "      <td>191.272751</td>\n",
              "      <td>0.783968</td>\n",
              "      <td>0.984986</td>\n",
              "      <td>0.887034</td>\n",
              "      <td>0.953861</td>\n",
              "      <td>0.006979</td>\n",
              "      <td>0.003564</td>\n",
              "      <td>0.909851</td>\n",
              "      <td>0.998430</td>\n",
              "      <td>SEKER</td>\n",
              "    </tr>\n",
              "    <tr>\n",
              "      <th>2</th>\n",
              "      <td>29380</td>\n",
              "      <td>624.110</td>\n",
              "      <td>212.826130</td>\n",
              "      <td>175.931143</td>\n",
              "      <td>1.209713</td>\n",
              "      <td>0.562727</td>\n",
              "      <td>29690</td>\n",
              "      <td>193.410904</td>\n",
              "      <td>0.778113</td>\n",
              "      <td>0.989559</td>\n",
              "      <td>0.947849</td>\n",
              "      <td>0.908774</td>\n",
              "      <td>0.007244</td>\n",
              "      <td>0.003048</td>\n",
              "      <td>0.825871</td>\n",
              "      <td>0.999066</td>\n",
              "      <td>SEKER</td>\n",
              "    </tr>\n",
              "  </tbody>\n",
              "</table>\n",
              "</div>"
            ],
            "text/plain": [
              "    Area  Perimeter  MajorAxisLength  ...  ShapeFactor3  ShapeFactor4  Class\n",
              "0  28395    610.291       208.178117  ...      0.834222      0.998724  SEKER\n",
              "1  28734    638.018       200.524796  ...      0.909851      0.998430  SEKER\n",
              "2  29380    624.110       212.826130  ...      0.825871      0.999066  SEKER\n",
              "\n",
              "[3 rows x 17 columns]"
            ]
          },
          "metadata": {
            "tags": []
          },
          "execution_count": 3
        }
      ]
    },
    {
      "cell_type": "code",
      "metadata": {
        "colab": {
          "base_uri": "https://localhost:8080/",
          "height": 164
        },
        "id": "yjv87O8s43Kw",
        "outputId": "7443e1be-7b90-4834-c4a1-9729668e485e"
      },
      "source": [
        "dataset_df.tail(3)"
      ],
      "execution_count": 4,
      "outputs": [
        {
          "output_type": "execute_result",
          "data": {
            "text/html": [
              "<div>\n",
              "<style scoped>\n",
              "    .dataframe tbody tr th:only-of-type {\n",
              "        vertical-align: middle;\n",
              "    }\n",
              "\n",
              "    .dataframe tbody tr th {\n",
              "        vertical-align: top;\n",
              "    }\n",
              "\n",
              "    .dataframe thead th {\n",
              "        text-align: right;\n",
              "    }\n",
              "</style>\n",
              "<table border=\"1\" class=\"dataframe\">\n",
              "  <thead>\n",
              "    <tr style=\"text-align: right;\">\n",
              "      <th></th>\n",
              "      <th>Area</th>\n",
              "      <th>Perimeter</th>\n",
              "      <th>MajorAxisLength</th>\n",
              "      <th>MinorAxisLength</th>\n",
              "      <th>AspectRation</th>\n",
              "      <th>Eccentricity</th>\n",
              "      <th>ConvexArea</th>\n",
              "      <th>EquivDiameter</th>\n",
              "      <th>Extent</th>\n",
              "      <th>Solidity</th>\n",
              "      <th>roundness</th>\n",
              "      <th>Compactness</th>\n",
              "      <th>ShapeFactor1</th>\n",
              "      <th>ShapeFactor2</th>\n",
              "      <th>ShapeFactor3</th>\n",
              "      <th>ShapeFactor4</th>\n",
              "      <th>Class</th>\n",
              "    </tr>\n",
              "  </thead>\n",
              "  <tbody>\n",
              "    <tr>\n",
              "      <th>13608</th>\n",
              "      <td>42139</td>\n",
              "      <td>759.321</td>\n",
              "      <td>281.539928</td>\n",
              "      <td>191.187979</td>\n",
              "      <td>1.472582</td>\n",
              "      <td>0.734065</td>\n",
              "      <td>42569</td>\n",
              "      <td>231.631261</td>\n",
              "      <td>0.729932</td>\n",
              "      <td>0.989899</td>\n",
              "      <td>0.918424</td>\n",
              "      <td>0.822730</td>\n",
              "      <td>0.006681</td>\n",
              "      <td>0.001888</td>\n",
              "      <td>0.676884</td>\n",
              "      <td>0.996767</td>\n",
              "      <td>DERMASON</td>\n",
              "    </tr>\n",
              "    <tr>\n",
              "      <th>13609</th>\n",
              "      <td>42147</td>\n",
              "      <td>763.779</td>\n",
              "      <td>283.382636</td>\n",
              "      <td>190.275731</td>\n",
              "      <td>1.489326</td>\n",
              "      <td>0.741055</td>\n",
              "      <td>42667</td>\n",
              "      <td>231.653248</td>\n",
              "      <td>0.705389</td>\n",
              "      <td>0.987813</td>\n",
              "      <td>0.907906</td>\n",
              "      <td>0.817457</td>\n",
              "      <td>0.006724</td>\n",
              "      <td>0.001852</td>\n",
              "      <td>0.668237</td>\n",
              "      <td>0.995222</td>\n",
              "      <td>DERMASON</td>\n",
              "    </tr>\n",
              "    <tr>\n",
              "      <th>13610</th>\n",
              "      <td>42159</td>\n",
              "      <td>772.237</td>\n",
              "      <td>295.142741</td>\n",
              "      <td>182.204716</td>\n",
              "      <td>1.619841</td>\n",
              "      <td>0.786693</td>\n",
              "      <td>42600</td>\n",
              "      <td>231.686223</td>\n",
              "      <td>0.788962</td>\n",
              "      <td>0.989648</td>\n",
              "      <td>0.888380</td>\n",
              "      <td>0.784997</td>\n",
              "      <td>0.007001</td>\n",
              "      <td>0.001640</td>\n",
              "      <td>0.616221</td>\n",
              "      <td>0.998180</td>\n",
              "      <td>DERMASON</td>\n",
              "    </tr>\n",
              "  </tbody>\n",
              "</table>\n",
              "</div>"
            ],
            "text/plain": [
              "        Area  Perimeter  MajorAxisLength  ...  ShapeFactor3  ShapeFactor4     Class\n",
              "13608  42139    759.321       281.539928  ...      0.676884      0.996767  DERMASON\n",
              "13609  42147    763.779       283.382636  ...      0.668237      0.995222  DERMASON\n",
              "13610  42159    772.237       295.142741  ...      0.616221      0.998180  DERMASON\n",
              "\n",
              "[3 rows x 17 columns]"
            ]
          },
          "metadata": {
            "tags": []
          },
          "execution_count": 4
        }
      ]
    },
    {
      "cell_type": "code",
      "metadata": {
        "id": "ueBkfGBICQlA",
        "colab": {
          "base_uri": "https://localhost:8080/"
        },
        "outputId": "75cb3b26-a2d8-402a-fb1c-46d3ed242925"
      },
      "source": [
        "dataset_df.info()"
      ],
      "execution_count": 5,
      "outputs": [
        {
          "output_type": "stream",
          "text": [
            "<class 'pandas.core.frame.DataFrame'>\n",
            "RangeIndex: 13611 entries, 0 to 13610\n",
            "Data columns (total 17 columns):\n",
            " #   Column           Non-Null Count  Dtype  \n",
            "---  ------           --------------  -----  \n",
            " 0   Area             13611 non-null  int64  \n",
            " 1   Perimeter        13611 non-null  float64\n",
            " 2   MajorAxisLength  13611 non-null  float64\n",
            " 3   MinorAxisLength  13611 non-null  float64\n",
            " 4   AspectRation     13611 non-null  float64\n",
            " 5   Eccentricity     13611 non-null  float64\n",
            " 6   ConvexArea       13611 non-null  int64  \n",
            " 7   EquivDiameter    13611 non-null  float64\n",
            " 8   Extent           13611 non-null  float64\n",
            " 9   Solidity         13611 non-null  float64\n",
            " 10  roundness        13611 non-null  float64\n",
            " 11  Compactness      13611 non-null  float64\n",
            " 12  ShapeFactor1     13611 non-null  float64\n",
            " 13  ShapeFactor2     13611 non-null  float64\n",
            " 14  ShapeFactor3     13611 non-null  float64\n",
            " 15  ShapeFactor4     13611 non-null  float64\n",
            " 16  Class            13611 non-null  object \n",
            "dtypes: float64(14), int64(2), object(1)\n",
            "memory usage: 1.8+ MB\n"
          ],
          "name": "stdout"
        }
      ]
    },
    {
      "cell_type": "code",
      "metadata": {
        "id": "-AckVwakyK2w",
        "colab": {
          "base_uri": "https://localhost:8080/"
        },
        "outputId": "25cc2f30-6950-4f15-df8f-b1b709f66934"
      },
      "source": [
        "# Name of the label column.\n",
        "label = \"Class\"\n",
        "\n",
        "classes = dataset_df[label].unique().tolist()\n",
        "print(f\"Label classes: {classes}\")\n",
        "\n",
        "dataset_df[label] = dataset_df[label].map(classes.index)"
      ],
      "execution_count": 6,
      "outputs": [
        {
          "output_type": "stream",
          "text": [
            "Label classes: ['SEKER', 'BARBUNYA', 'BOMBAY', 'CALI', 'HOROZ', 'SIRA', 'DERMASON']\n"
          ],
          "name": "stdout"
        }
      ]
    },
    {
      "cell_type": "code",
      "metadata": {
        "id": "kGW2uRrSojrU",
        "colab": {
          "base_uri": "https://localhost:8080/"
        },
        "outputId": "fe87522f-e5f9-4b7d-eac4-8a7e1ef11442"
      },
      "source": [
        "print(f\"Number of records: {len(dataset_df)}\")"
      ],
      "execution_count": 7,
      "outputs": [
        {
          "output_type": "stream",
          "text": [
            "Number of records: 13611\n"
          ],
          "name": "stdout"
        }
      ]
    },
    {
      "cell_type": "markdown",
      "metadata": {
        "id": "csVpYLqVFSbI"
      },
      "source": [
        "## Helper Methods"
      ]
    },
    {
      "cell_type": "code",
      "metadata": {
        "id": "0guQ8ZfPyUGp"
      },
      "source": [
        "# Split the dataset into a training and a testing dataset.\n",
        "# Test split remains a constant \n",
        "def split_dataset(dataset, num_train=10000):\n",
        "  \"\"\"Splits a panda dataframe in two.\"\"\"\n",
        "  dataset = dataset.sample(frac=1.0, random_state=1729)\n",
        "  \n",
        "  test_dataset = dataset[num_train:]\n",
        "  train_dataset = dataset[:num_train]\n",
        "  \n",
        "  return train_dataset, test_dataset"
      ],
      "execution_count": 8,
      "outputs": []
    },
    {
      "cell_type": "code",
      "metadata": {
        "id": "BhY2Dcoopv6V"
      },
      "source": [
        "def train_rf_model_with_dataframes(train_df, test_df, label):\n",
        "    train_ds = tfdf.keras.pd_dataframe_to_tf_dataset(train_df, label=label)\n",
        "    test_ds = tfdf.keras.pd_dataframe_to_tf_dataset(test_df, label=label)\n",
        "\n",
        "    # Specify the model.\n",
        "    model_1 = tfdf.keras.RandomForestModel(num_trees=30)\n",
        "\n",
        "    # Optionally, add evaluation metrics.\n",
        "    model_1.compile(metrics=[\"accuracy\"])\n",
        "\n",
        "    t1 = time()\n",
        "    # Train the model.\n",
        "    with sys_pipes():\n",
        "        model_1.fit(x=train_ds)\n",
        "\n",
        "    evaluation = model_1.evaluate(test_ds)\n",
        "\n",
        "    # print(f\"Loss: {evaluation[0]}\")\n",
        "    print(f\"Accuracy: {evaluation[1]} in {time() - t1} secs\")\n",
        "    return evaluation[1], time() - t1"
      ],
      "execution_count": 9,
      "outputs": []
    },
    {
      "cell_type": "code",
      "metadata": {
        "id": "8KWdeFTmwXlu"
      },
      "source": [
        "def train_gbdt_model_with_dataframes(train_df, test_df, label):\n",
        "    train_ds = tfdf.keras.pd_dataframe_to_tf_dataset(train_df, label=label)\n",
        "    test_ds = tfdf.keras.pd_dataframe_to_tf_dataset(test_df, label=label)\n",
        "\n",
        "    # Specify the model.\n",
        "    model_1 = tfdf.keras.GradientBoostedTreesModel(num_trees=30)\n",
        "\n",
        "    # Optionally, add evaluation metrics.\n",
        "    model_1.compile(metrics=[\"accuracy\"])\n",
        "\n",
        "    t1 = time()\n",
        "    # Train the model.\n",
        "    with sys_pipes():\n",
        "        model_1.fit(x=train_ds)\n",
        "\n",
        "    evaluation = model_1.evaluate(test_ds)\n",
        "\n",
        "    # print(f\"Loss: {evaluation[0]}\")\n",
        "    print(f\"Accuracy: {evaluation[1]} in {time() - t1} secs\")\n",
        "    return evaluation[1], time() - t1"
      ],
      "execution_count": 10,
      "outputs": []
    },
    {
      "cell_type": "code",
      "metadata": {
        "id": "SPDKs0dWMEKU"
      },
      "source": [
        "def train_cart_model_with_dataframes(train_df, test_df, label):\n",
        "    train_ds = tfdf.keras.pd_dataframe_to_tf_dataset(train_df, label=label)\n",
        "    test_ds = tfdf.keras.pd_dataframe_to_tf_dataset(test_df, label=label)\n",
        "\n",
        "    # Specify the model.\n",
        "    model_1 = tfdf.keras.CartModel()\n",
        "\n",
        "    # Optionally, add evaluation metrics.\n",
        "    model_1.compile(metrics=[\"accuracy\"])\n",
        "\n",
        "    t1 = time()\n",
        "    # Train the model.\n",
        "    with sys_pipes():\n",
        "        model_1.fit(x=train_ds)\n",
        "\n",
        "    evaluation = model_1.evaluate(test_ds)\n",
        "\n",
        "    # print(f\"Loss: {evaluation[0]}\")\n",
        "    print(f\"Accuracy: {evaluation[1]} in {time() - t1} secs\")\n",
        "    return evaluation[1], time() - t1"
      ],
      "execution_count": 11,
      "outputs": []
    },
    {
      "cell_type": "markdown",
      "metadata": {
        "id": "ZHQjlNHKFayw"
      },
      "source": [
        "## Train with Different Records"
      ]
    },
    {
      "cell_type": "code",
      "metadata": {
        "id": "fDiNb6QjF30m"
      },
      "source": [
        "def train_and_evaluate_on_data(num_train, results_rf, results_gb, results_cm):\n",
        "    train_ds_pd, test_ds_pd = split_dataset(dataset_df, num_train)\n",
        "    print(f\"{len(train_ds_pd)} examples in training, {len(test_ds_pd)} examples for testing.\")\n",
        "\n",
        "    accuracy, time_taken = train_rf_model_with_dataframes(train_ds_pd, test_ds_pd, label)\n",
        "    results_rf.append([num_train, accuracy, time_taken])\n",
        "\n",
        "    accuracy, time_taken = train_gbdt_model_with_dataframes(train_ds_pd, test_ds_pd, label)\n",
        "    results_gb.append([num_train, accuracy, time_taken])\n",
        "\n",
        "    accuracy, time_taken = train_cart_model_with_dataframes(train_ds_pd, test_ds_pd, label)\n",
        "    results_cm.append([num_train, accuracy, time_taken])\n",
        "\n",
        "    return results_rf, results_gb, results_cm"
      ],
      "execution_count": 12,
      "outputs": []
    },
    {
      "cell_type": "code",
      "metadata": {
        "id": "SSg1c2rUWv2_",
        "colab": {
          "base_uri": "https://localhost:8080/"
        },
        "outputId": "698f59a1-de9f-4bdb-f234-dbb6fc9e74ca"
      },
      "source": [
        "results_rf, results_gb, results_cm = [], [], []\n",
        "num_train_list = [2500, 5000, 7500, 10000]\n",
        "for num_train in num_train_list:\n",
        "    results_rf, results_gb, results_cm = train_and_evaluate_on_data(num_train, results_rf, results_gb, results_cm)"
      ],
      "execution_count": 13,
      "outputs": [
        {
          "output_type": "stream",
          "text": [
            "2500 examples in training, 3611 examples for testing.\n"
          ],
          "name": "stdout"
        },
        {
          "output_type": "stream",
          "text": [
            "2021-08-01 17:45:51.559698: I tensorflow/compiler/mlir/mlir_graph_optimization_pass.cc:176] None of the MLIR Optimization Passes are enabled (registered 2)\n",
            "2021-08-01 17:45:51.566236: I tensorflow/core/platform/profile_utils/cpu_utils.cc:114] CPU Frequency: 2299995000 Hz\n"
          ],
          "name": "stderr"
        },
        {
          "output_type": "stream",
          "text": [
            "40/40 [==============================] - 5s 2ms/step\n"
          ],
          "name": "stdout"
        },
        {
          "output_type": "stream",
          "text": [
            "[INFO kernel.cc:746] Start Yggdrasil model training\n",
            "[INFO kernel.cc:747] Collect training examples\n",
            "[INFO kernel.cc:392] Number of batches: 40\n",
            "[INFO kernel.cc:393] Number of examples: 2500\n",
            "[INFO kernel.cc:769] Dataset:\n",
            "Number of records: 2500\n",
            "Number of columns: 17\n",
            "\n",
            "Number of columns by type:\n",
            "\tNUMERICAL: 16 (94.1176%)\n",
            "\tCATEGORICAL: 1 (5.88235%)\n",
            "\n",
            "Columns:\n",
            "\n",
            "NUMERICAL: 16 (94.1176%)\n",
            "\t0: \"Area\" NUMERICAL mean:53563 min:20942 max:254616 sd:30558.6\n",
            "\t1: \"AspectRation\" NUMERICAL mean:1.57967 min:1.04196 max:2.38326 sd:0.248823\n",
            "\t2: \"Compactness\" NUMERICAL mean:0.800922 min:0.645796 max:0.979432 sd:0.0624747\n",
            "\t3: \"ConvexArea\" NUMERICAL mean:54296.2 min:21191 max:263261 sd:31059.7\n",
            "\t4: \"Eccentricity\" NUMERICAL mean:0.748831 min:0.280937 max:0.907712 sd:0.0946055\n",
            "\t5: \"EquivDiameter\" NUMERICAL mean:253.856 min:163.292 max:569.374 sd:61.2837\n",
            "\t6: \"Extent\" NUMERICAL mean:0.749117 min:0.555315 max:0.866195 sd:0.0502453\n",
            "\t7: \"MajorAxisLength\" NUMERICAL mean:320.8 min:191.177 max:738.86 sd:88.1648\n",
            "\t8: \"MinorAxisLength\" NUMERICAL mean:203.156 min:131.433 max:447.418 sd:46.8222\n",
            "\t9: \"Perimeter\" NUMERICAL mean:858.152 min:530.683 max:1985.37 sd:221.747\n",
            "\t10: \"ShapeFactor1\" NUMERICAL mean:0.00655067 min:0.00287836 max:0.00972006 sd:0.00115606\n",
            "\t11: \"ShapeFactor2\" NUMERICAL mean:0.00172286 min:0.000590595 max:0.00354518 sd:0.000606447\n",
            "\t12: \"ShapeFactor3\" NUMERICAL mean:0.645379 min:0.417053 max:0.959287 sd:0.100418\n",
            "\t13: \"ShapeFactor4\" NUMERICAL mean:0.995064 min:0.947687 max:0.999707 sd:0.00440292\n",
            "\t14: \"Solidity\" NUMERICAL mean:0.987131 min:0.919246 max:0.99426 sd:0.00482084\n",
            "\t15: \"roundness\" NUMERICAL mean:0.873203 min:0.571801 max:0.990685 sd:0.0601134\n",
            "\n",
            "CATEGORICAL: 1 (5.88235%)\n",
            "\t16: \"__LABEL\" CATEGORICAL integerized vocab-size:8 no-ood-item\n",
            "\n",
            "Terminology:\n",
            "\tnas: Number of non-available (i.e. missing) values.\n",
            "\tood: Out of dictionary.\n",
            "\tmanually-defined: Attribute which type is manually defined by the user i.e. the type was not automatically inferred.\n",
            "\ttokenized: The attribute value is obtained through tokenization.\n",
            "\thas-dict: The attribute is attached to a string dictionary e.g. a categorical attribute stored as a string.\n",
            "\tvocab-size: Number of unique values.\n",
            "\n",
            "[INFO kernel.cc:772] Configure learner\n",
            "[INFO kernel.cc:797] Training config:\n",
            "learner: \"RANDOM_FOREST\"\n",
            "features: \"Area\"\n",
            "features: \"AspectRation\"\n",
            "features: \"Compactness\"\n",
            "features: \"ConvexArea\"\n",
            "features: \"Eccentricity\"\n",
            "features: \"EquivDiameter\"\n",
            "features: \"Extent\"\n",
            "features: \"MajorAxisLength\"\n",
            "features: \"MinorAxisLength\"\n",
            "features: \"Perimeter\"\n",
            "features: \"ShapeFactor1\"\n",
            "features: \"ShapeFactor2\"\n",
            "features: \"ShapeFactor3\"\n",
            "features: \"ShapeFactor4\"\n",
            "features: \"Solidity\"\n",
            "features: \"roundness\"\n",
            "label: \"__LABEL\"\n",
            "task: CLASSIFICATION\n",
            "[yggdrasil_decision_forests.model.random_forest.proto.random_forest_config] {\n",
            "  num_trees: 30\n",
            "  decision_tree {\n",
            "    max_depth: 16\n",
            "    min_examples: 5\n",
            "    in_split_min_examples_check: true\n",
            "    missing_value_policy: GLOBAL_IMPUTATION\n",
            "    allow_na_conditions: false\n",
            "    categorical_set_greedy_forward {\n",
            "      sampling: 0.1\n",
            "      max_num_items: -1\n",
            "      min_item_frequency: 1\n",
            "    }\n",
            "    growing_strategy_local {\n",
            "    }\n",
            "    categorical {\n",
            "      cart {\n",
            "      }\n",
            "    }\n",
            "    num_candidate_attributes_ratio: -1\n",
            "    axis_aligned_split {\n",
            "    }\n",
            "    internal {\n",
            "      sorting_strategy: PRESORTED\n",
            "    }\n",
            "  }\n",
            "  winner_take_all_inference: true\n",
            "  compute_oob_performances: true\n",
            "  compute_oob_variable_importances: false\n",
            "  adapt_bootstrap_size_ratio_for_maximum_training_duration: false\n",
            "}\n",
            "\n",
            "[INFO kernel.cc:800] Deployment config:\n",
            "num_threads: 6\n",
            "\n",
            "[INFO kernel.cc:837] Train model\n",
            "[INFO random_forest.cc:303] Training random forest on 2500 example(s) and 16 feature(s).\n",
            "[INFO random_forest.cc:578] Training of tree  1/30 (tree index:0) done accuracy:0.884534 logloss:4.16182\n",
            "[INFO random_forest.cc:578] Training of tree  11/30 (tree index:9) done accuracy:0.890323 logloss:1.62871\n",
            "[INFO random_forest.cc:578] Training of tree  21/30 (tree index:20) done accuracy:0.9028 logloss:0.76599\n",
            "[INFO random_forest.cc:578] Training of tree  30/30 (tree index:27) done accuracy:0.9088 logloss:0.616142\n",
            "[INFO random_forest.cc:645] Final OOB metrics: accuracy:0.9088 logloss:0.616142\n",
            "[INFO kernel.cc:856] Export model in log directory: /tmp/tmpzrxewfz4\n",
            "[INFO kernel.cc:864] Save model in resources\n",
            "[INFO kernel.cc:988] Loading model from path\n",
            "[INFO decision_forest.cc:590] Model loaded with 30 root(s), 5504 node(s), and 16 input feature(s).\n",
            "[INFO abstract_model.cc:993] Engine \"RandomForestGeneric\" built\n",
            "[INFO kernel.cc:848] Use fast generic engine\n"
          ],
          "name": "stderr"
        },
        {
          "output_type": "stream",
          "text": [
            "57/57 [==============================] - 0s 2ms/step - loss: 0.0000e+00 - accuracy: 0.9136\n",
            "Accuracy: 0.9135973453521729 in 8.247654914855957 secs\n",
            "40/40 [==============================] - 0s 2ms/step\n"
          ],
          "name": "stdout"
        },
        {
          "output_type": "stream",
          "text": [
            "[INFO kernel.cc:746] Start Yggdrasil model training\n",
            "[INFO kernel.cc:747] Collect training examples\n",
            "[INFO kernel.cc:392] Number of batches: 40\n",
            "[INFO kernel.cc:393] Number of examples: 2500\n",
            "[INFO kernel.cc:769] Dataset:\n",
            "Number of records: 2500\n",
            "Number of columns: 17\n",
            "\n",
            "Number of columns by type:\n",
            "\tNUMERICAL: 16 (94.1176%)\n",
            "\tCATEGORICAL: 1 (5.88235%)\n",
            "\n",
            "Columns:\n",
            "\n",
            "NUMERICAL: 16 (94.1176%)\n",
            "\t0: \"Area\" NUMERICAL mean:53563 min:20942 max:254616 sd:30558.6\n",
            "\t1: \"AspectRation\" NUMERICAL mean:1.57967 min:1.04196 max:2.38326 sd:0.248823\n",
            "\t2: \"Compactness\" NUMERICAL mean:0.800922 min:0.645796 max:0.979432 sd:0.0624747\n",
            "\t3: \"ConvexArea\" NUMERICAL mean:54296.2 min:21191 max:263261 sd:31059.7\n",
            "\t4: \"Eccentricity\" NUMERICAL mean:0.748831 min:0.280937 max:0.907712 sd:0.0946055\n",
            "\t5: \"EquivDiameter\" NUMERICAL mean:253.856 min:163.292 max:569.374 sd:61.2837\n",
            "\t6: \"Extent\" NUMERICAL mean:0.749117 min:0.555315 max:0.866195 sd:0.0502453\n",
            "\t7: \"MajorAxisLength\" NUMERICAL mean:320.8 min:191.177 max:738.86 sd:88.1648\n",
            "\t8: \"MinorAxisLength\" NUMERICAL mean:203.156 min:131.433 max:447.418 sd:46.8222\n",
            "\t9: \"Perimeter\" NUMERICAL mean:858.152 min:530.683 max:1985.37 sd:221.747\n",
            "\t10: \"ShapeFactor1\" NUMERICAL mean:0.00655067 min:0.00287836 max:0.00972006 sd:0.00115606\n",
            "\t11: \"ShapeFactor2\" NUMERICAL mean:0.00172286 min:0.000590595 max:0.00354518 sd:0.000606447\n",
            "\t12: \"ShapeFactor3\" NUMERICAL mean:0.645379 min:0.417053 max:0.959287 sd:0.100418\n",
            "\t13: \"ShapeFactor4\" NUMERICAL mean:0.995064 min:0.947687 max:0.999707 sd:0.00440292\n",
            "\t14: \"Solidity\" NUMERICAL mean:0.987131 min:0.919246 max:0.99426 sd:0.00482084\n",
            "\t15: \"roundness\" NUMERICAL mean:0.873203 min:0.571801 max:0.990685 sd:0.0601134\n",
            "\n",
            "CATEGORICAL: 1 (5.88235%)\n",
            "\t16: \"__LABEL\" CATEGORICAL integerized vocab-size:8 no-ood-item\n",
            "\n",
            "Terminology:\n",
            "\tnas: Number of non-available (i.e. missing) values.\n",
            "\tood: Out of dictionary.\n",
            "\tmanually-defined: Attribute which type is manually defined by the user i.e. the type was not automatically inferred.\n",
            "\ttokenized: The attribute value is obtained through tokenization.\n",
            "\thas-dict: The attribute is attached to a string dictionary e.g. a categorical attribute stored as a string.\n",
            "\tvocab-size: Number of unique values.\n",
            "\n",
            "[INFO kernel.cc:772] Configure learner\n",
            "[WARNING gradient_boosted_trees.cc:1692] Subsample hyperparameter given but sampling method does not match.\n",
            "[WARNING gradient_boosted_trees.cc:1705] GOSS alpha hyperparameter given but GOSS is disabled.\n",
            "[WARNING gradient_boosted_trees.cc:1714] GOSS beta hyperparameter given but GOSS is disabled.\n",
            "[WARNING gradient_boosted_trees.cc:1726] SelGB ratio hyperparameter given but SelGB is disabled.\n",
            "[INFO kernel.cc:797] Training config:\n",
            "learner: \"GRADIENT_BOOSTED_TREES\"\n",
            "features: \"Area\"\n",
            "features: \"AspectRation\"\n",
            "features: \"Compactness\"\n",
            "features: \"ConvexArea\"\n",
            "features: \"Eccentricity\"\n",
            "features: \"EquivDiameter\"\n",
            "features: \"Extent\"\n",
            "features: \"MajorAxisLength\"\n",
            "features: \"MinorAxisLength\"\n",
            "features: \"Perimeter\"\n",
            "features: \"ShapeFactor1\"\n",
            "features: \"ShapeFactor2\"\n",
            "features: \"ShapeFactor3\"\n",
            "features: \"ShapeFactor4\"\n",
            "features: \"Solidity\"\n",
            "features: \"roundness\"\n",
            "label: \"__LABEL\"\n",
            "task: CLASSIFICATION\n",
            "[yggdrasil_decision_forests.model.gradient_boosted_trees.proto.gradient_boosted_trees_config] {\n",
            "  num_trees: 30\n",
            "  decision_tree {\n",
            "    max_depth: 6\n",
            "    min_examples: 5\n",
            "    in_split_min_examples_check: true\n",
            "    missing_value_policy: GLOBAL_IMPUTATION\n",
            "    allow_na_conditions: false\n",
            "    categorical_set_greedy_forward {\n",
            "      sampling: 0.1\n",
            "      max_num_items: -1\n",
            "      min_item_frequency: 1\n",
            "    }\n",
            "    growing_strategy_local {\n",
            "    }\n",
            "    categorical {\n",
            "      cart {\n",
            "      }\n",
            "    }\n",
            "    num_candidate_attributes_ratio: -1\n",
            "    axis_aligned_split {\n",
            "    }\n",
            "    internal {\n",
            "      sorting_strategy: PRESORTED\n",
            "    }\n",
            "  }\n",
            "  shrinkage: 0.1\n",
            "  validation_set_ratio: 0.1\n",
            "  early_stopping: VALIDATION_LOSS_INCREASE\n",
            "  early_stopping_num_trees_look_ahead: 30\n",
            "  l2_regularization: 0\n",
            "  lambda_loss: 1\n",
            "  mart {\n",
            "  }\n",
            "  adapt_subsample_for_maximum_training_duration: false\n",
            "  l1_regularization: 0\n",
            "  use_hessian_gain: false\n",
            "  l2_regularization_categorical: 1\n",
            "  apply_link_function: true\n",
            "}\n",
            "\n",
            "[INFO kernel.cc:800] Deployment config:\n",
            "num_threads: 6\n",
            "\n",
            "[INFO kernel.cc:837] Train model\n",
            "[INFO gradient_boosted_trees.cc:503] Default loss set to MULTINOMIAL_LOG_LIKELIHOOD\n",
            "[INFO gradient_boosted_trees.cc:1079] Training gradient boosted tree on 2500 example(s) and 16 feature(s).\n",
            "[INFO gradient_boosted_trees.cc:1493] \tnum-trees:1 train-loss:1.453708 train-accuracy:0.931110 valid-loss:1.460613 valid-accuracy:0.941176\n",
            "[INFO gradient_boosted_trees.cc:1495] \tnum-trees:2 train-loss:1.172175 train-accuracy:0.932865 valid-loss:1.182757 valid-accuracy:0.941176\n",
            "[INFO gradient_boosted_trees.cc:1493] \tnum-trees:30 train-loss:0.071097 train-accuracy:0.986398 valid-loss:0.178064 valid-accuracy:0.945701\n",
            "[INFO gradient_boosted_trees.cc:336] Truncates the model to 210 tree(s) i.e. 30  iteration(s).\n",
            "[INFO gradient_boosted_trees.cc:370] Final model num-trees:30 valid-loss:0.178064 valid-accuracy:0.945701\n",
            "[INFO kernel.cc:856] Export model in log directory: /tmp/tmppewjtm_1\n",
            "[INFO kernel.cc:864] Save model in resources\n",
            "[INFO kernel.cc:988] Loading model from path\n",
            "[INFO decision_forest.cc:590] Model loaded with 210 root(s), 9158 node(s), and 16 input feature(s).\n",
            "[INFO kernel.cc:848] Use fast generic engine\n"
          ],
          "name": "stderr"
        },
        {
          "output_type": "stream",
          "text": [
            "57/57 [==============================] - 0s 3ms/step - loss: 0.0000e+00 - accuracy: 0.9189\n",
            "Accuracy: 0.91885906457901 in 3.3346166610717773 secs\n",
            "40/40 [==============================] - 0s 2ms/step\n"
          ],
          "name": "stdout"
        },
        {
          "output_type": "stream",
          "text": [
            "[INFO kernel.cc:746] Start Yggdrasil model training\n",
            "[INFO kernel.cc:747] Collect training examples\n",
            "[INFO kernel.cc:392] Number of batches: 40\n",
            "[INFO kernel.cc:393] Number of examples: 2500\n",
            "[INFO kernel.cc:769] Dataset:\n",
            "Number of records: 2500\n",
            "Number of columns: 17\n",
            "\n",
            "Number of columns by type:\n",
            "\tNUMERICAL: 16 (94.1176%)\n",
            "\tCATEGORICAL: 1 (5.88235%)\n",
            "\n",
            "Columns:\n",
            "\n",
            "NUMERICAL: 16 (94.1176%)\n",
            "\t0: \"Area\" NUMERICAL mean:53563 min:20942 max:254616 sd:30558.6\n",
            "\t1: \"AspectRation\" NUMERICAL mean:1.57967 min:1.04196 max:2.38326 sd:0.248823\n",
            "\t2: \"Compactness\" NUMERICAL mean:0.800922 min:0.645796 max:0.979432 sd:0.0624747\n",
            "\t3: \"ConvexArea\" NUMERICAL mean:54296.2 min:21191 max:263261 sd:31059.7\n",
            "\t4: \"Eccentricity\" NUMERICAL mean:0.748831 min:0.280937 max:0.907712 sd:0.0946055\n",
            "\t5: \"EquivDiameter\" NUMERICAL mean:253.856 min:163.292 max:569.374 sd:61.2837\n",
            "\t6: \"Extent\" NUMERICAL mean:0.749117 min:0.555315 max:0.866195 sd:0.0502453\n",
            "\t7: \"MajorAxisLength\" NUMERICAL mean:320.8 min:191.177 max:738.86 sd:88.1648\n",
            "\t8: \"MinorAxisLength\" NUMERICAL mean:203.156 min:131.433 max:447.418 sd:46.8222\n",
            "\t9: \"Perimeter\" NUMERICAL mean:858.152 min:530.683 max:1985.37 sd:221.747\n",
            "\t10: \"ShapeFactor1\" NUMERICAL mean:0.00655067 min:0.00287836 max:0.00972006 sd:0.00115606\n",
            "\t11: \"ShapeFactor2\" NUMERICAL mean:0.00172286 min:0.000590595 max:0.00354518 sd:0.000606447\n",
            "\t12: \"ShapeFactor3\" NUMERICAL mean:0.645379 min:0.417053 max:0.959287 sd:0.100418\n",
            "\t13: \"ShapeFactor4\" NUMERICAL mean:0.995064 min:0.947687 max:0.999707 sd:0.00440292\n",
            "\t14: \"Solidity\" NUMERICAL mean:0.987131 min:0.919246 max:0.99426 sd:0.00482084\n",
            "\t15: \"roundness\" NUMERICAL mean:0.873203 min:0.571801 max:0.990685 sd:0.0601134\n",
            "\n",
            "CATEGORICAL: 1 (5.88235%)\n",
            "\t16: \"__LABEL\" CATEGORICAL integerized vocab-size:8 no-ood-item\n",
            "\n",
            "Terminology:\n",
            "\tnas: Number of non-available (i.e. missing) values.\n",
            "\tood: Out of dictionary.\n",
            "\tmanually-defined: Attribute which type is manually defined by the user i.e. the type was not automatically inferred.\n",
            "\ttokenized: The attribute value is obtained through tokenization.\n",
            "\thas-dict: The attribute is attached to a string dictionary e.g. a categorical attribute stored as a string.\n",
            "\tvocab-size: Number of unique values.\n",
            "\n",
            "[INFO kernel.cc:772] Configure learner\n",
            "[INFO kernel.cc:797] Training config:\n",
            "learner: \"CART\"\n",
            "features: \"Area\"\n",
            "features: \"AspectRation\"\n",