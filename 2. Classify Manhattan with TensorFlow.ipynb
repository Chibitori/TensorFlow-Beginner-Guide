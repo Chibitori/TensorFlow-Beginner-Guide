{
 "cells": [
  {
   "cell_type": "markdown",
   "metadata": {},
   "source": [
    "# 2. Classify Manhattan with TensorFlow\n",
    "\n",
    "In this codelab, we will use TensorFlow to train a neural network to predict whether a geolocation is in Manhattan or not, by looking at its longitude and latitude.\n",
    "\n",
    "<br/>\n",
    "![](images/manhattan.png)\n",
    "<br/>\n",
    "<br/>"
   ]
  },
  {
   "cell_type": "markdown",
   "metadata": {},
   "source": [
    "## 2-1. Read and Process the Data\n",
    "### Labs and Solutions\n",
    "\n",
    "In this codelab there are several labs where you need to write your code to solve the problems. If you need some hints, you may check with the mentor about possible solutions to run this lab."
   ]
  },
  {
   "cell_type": "markdown",
   "metadata": {},
   "source": [
    "### TensorFlow Requirement > version 1.0\n",
    "\n",
    "To check the version of TensorFlow you are running, **select the cell below and run the code by clicking \"Run\" on the menu**."
   ]
  },
  {
   "cell_type": "code",
   "execution_count": 1,
   "metadata": {
    "collapsed": false
   },
   "outputs": [
    {
     "data": {
      "text/plain": [
       "'1.2.1'"
      ]
     },
     "execution_count": 1,
     "metadata": {},
     "output_type": "execute_result"
    }
   ],
   "source": [
    "import tensorflow as tf\n",
    "tf.__version__"
   ]
  },
  {
   "cell_type": "markdown",
   "metadata": {},
   "source": [
    "This codelab requires TensorFlow 1.0 or above. If you see older versions such as 0.11.x, 0.12.x, please follow the instruction below to update your local Datalab.\n",
    "\n",
    "- Stop your notebook by pressing Ctrl+C on the console\n",
    "- Run the following command on the console if you do not have a GPU\n",
    "```\n",
    "> pip install tensorflow\n",
    "```\n",
    "- Run the following command on the console if you have a GPU\n",
    "```\n",
    "> pip install tensorflow-gpu\n",
    "```"
   ]
  },
  {
   "cell_type": "markdown",
   "metadata": {},
   "source": [
    "### Import Pandas and read the data as a NumPy array\n",
    "\n",
    "We need to read the comma separated values (CSV) file as a Pandas DataFrame. **Run the cell below** and confirm that there are three columns and that there are 10,000 rows."
   ]
  },
  {
   "cell_type": "code",
   "execution_count": 1,
   "metadata": {
    "collapsed": false
   },
   "outputs": [
    {
     "name": "stdout",
     "output_type": "stream",
     "text": [
      "Columns:  ['is_mt' 'latitude' 'longitude']\n",
      "Rows:  RangeIndex(start=0, stop=10000, step=1)\n"
     ]
    }
   ],
   "source": [
    "import pandas as pd\n",
    "df = pd.read_csv('manhattan_latlong.csv')\n",
    "print(\"Columns: \", df.columns.values)\n",
    "print(\"Rows: \", df.index)"
   ]
  },
  {
   "cell_type": "code",
   "execution_count": 2,
   "metadata": {
    "collapsed": false
   },
   "outputs": [
    {
     "data": {
      "text/html": [
       "<div>\n",
       "<table border=\"1\" class=\"dataframe\">\n",
       "  <thead>\n",
       "    <tr style=\"text-align: right;\">\n",
       "      <th></th>\n",
       "      <th>is_mt</th>\n",
       "      <th>latitude</th>\n",
       "      <th>longitude</th>\n",
       "    </tr>\n",
       "  </thead>\n",
       "  <tbody>\n",
       "    <tr>\n",
       "      <th>0</th>\n",
       "      <td>0</td>\n",
       "      <td>40.704062</td>\n",
       "      <td>-73.824442</td>\n",
       "    </tr>\n",
       "    <tr>\n",
       "      <th>1</th>\n",
       "      <td>0</td>\n",
       "      <td>40.613985</td>\n",
       "      <td>-74.101276</td>\n",
       "    </tr>\n",
       "    <tr>\n",
       "      <th>2</th>\n",
       "      <td>0</td>\n",
       "      <td>40.761280</td>\n",
       "      <td>-73.904727</td>\n",
       "    </tr>\n",
       "    <tr>\n",
       "      <th>3</th>\n",
       "      <td>0</td>\n",
       "      <td>40.750352</td>\n",
       "      <td>-73.818837</td>\n",
       "    </tr>\n",
       "    <tr>\n",
       "      <th>4</th>\n",
       "      <td>0</td>\n",
       "      <td>40.641081</td>\n",
       "      <td>-73.918163</td>\n",
       "    </tr>\n",
       "  </tbody>\n",
       "</table>\n",
       "</div>"
      ],
      "text/plain": [
       "   is_mt   latitude  longitude\n",
       "0      0  40.704062 -73.824442\n",
       "1      0  40.613985 -74.101276\n",
       "2      0  40.761280 -73.904727\n",
       "3      0  40.750352 -73.818837\n",
       "4      0  40.641081 -73.918163"
      ]
     },
     "execution_count": 2,
     "metadata": {},
     "output_type": "execute_result"
    }
   ],
   "source": [
    "df.head()"
   ]
  },
  {
   "cell_type": "code",
   "execution_count": 3,
   "metadata": {
    "collapsed": false
   },
   "outputs": [
    {
     "data": {
      "text/html": [
       "<div>\n",
       "<table border=\"1\" class=\"dataframe\">\n",
       "  <thead>\n",
       "    <tr style=\"text-align: right;\">\n",
       "      <th></th>\n",
       "      <th>is_mt</th>\n",
       "      <th>latitude</th>\n",
       "      <th>longitude</th>\n",
       "    </tr>\n",
       "  </thead>\n",
       "  <tbody>\n",
       "    <tr>\n",
       "      <th>9995</th>\n",
       "      <td>1</td>\n",
       "      <td>40.721576</td>\n",
       "      <td>-73.997760</td>\n",
       "    </tr>\n",
       "    <tr>\n",
       "      <th>9996</th>\n",
       "      <td>0</td>\n",
       "      <td>40.634912</td>\n",
       "      <td>-74.010160</td>\n",
       "    </tr>\n",
       "    <tr>\n",
       "      <th>9997</th>\n",
       "      <td>0</td>\n",
       "      <td>40.676707</td>\n",
       "      <td>-73.977103</td>\n",
       "    </tr>\n",
       "    <tr>\n",
       "      <th>9998</th>\n",
       "      <td>0</td>\n",
       "      <td>40.683250</td>\n",
       "      <td>-73.818677</td>\n",
       "    </tr>\n",
       "    <tr>\n",
       "      <th>9999</th>\n",
       "      <td>0</td>\n",
       "      <td>40.663067</td>\n",
       "      <td>-73.836880</td>\n",
       "    </tr>\n",
       "  </tbody>\n",
       "</table>\n",
       "</div>"
      ],
      "text/plain": [
       "      is_mt   latitude  longitude\n",
       "9995      1  40.721576 -73.997760\n",
       "9996      0  40.634912 -74.010160\n",
       "9997      0  40.676707 -73.977103\n",
       "9998      0  40.683250 -73.818677\n",
       "9999      0  40.663067 -73.836880"
      ]
     },
     "execution_count": 3,
     "metadata": {},
     "output_type": "execute_result"
    }
   ],
   "source": [
    "df.tail()"
   ]
  },
  {
   "cell_type": "code",
   "execution_count": 4,
   "metadata": {
    "collapsed": false
   },
   "outputs": [
    {
     "data": {
      "text/html": [
       "<div>\n",
       "<table border=\"1\" class=\"dataframe\">\n",
       "  <thead>\n",
       "    <tr style=\"text-align: right;\">\n",
       "      <th></th>\n",
       "      <th>is_mt</th>\n",
       "      <th>latitude</th>\n",
       "      <th>longitude</th>\n",
       "    </tr>\n",
       "  </thead>\n",
       "  <tbody>\n",
       "    <tr>\n",
       "      <th>count</th>\n",
       "      <td>10000.000000</td>\n",
       "      <td>10000.000000</td>\n",
       "      <td>10000.000000</td>\n",
       "    </tr>\n",
       "    <tr>\n",
       "      <th>mean</th>\n",
       "      <td>0.292500</td>\n",
       "      <td>40.703688</td>\n",
       "      <td>-73.932314</td>\n",
       "    </tr>\n",
       "    <tr>\n",
       "      <th>std</th>\n",
       "      <td>0.454933</td>\n",
       "      <td>0.063900</td>\n",
       "      <td>0.087100</td>\n",
       "    </tr>\n",
       "    <tr>\n",
       "      <th>min</th>\n",
       "      <td>0.000000</td>\n",
       "      <td>40.500737</td>\n",
       "      <td>-74.249465</td>\n",
       "    </tr>\n",
       "    <tr>\n",
       "      <th>25%</th>\n",
       "      <td>0.000000</td>\n",
       "      <td>40.661133</td>\n",
       "      <td>-73.984189</td>\n",
       "    </tr>\n",
       "    <tr>\n",
       "      <th>50%</th>\n",
       "      <td>0.000000</td>\n",
       "      <td>40.708496</td>\n",
       "      <td>-73.948210</td>\n",
       "    </tr>\n",
       "    <tr>\n",
       "      <th>75%</th>\n",
       "      <td>1.000000</td>\n",
       "      <td>40.753638</td>\n",
       "      <td>-73.887226</td>\n",
       "    </tr>\n",
       "    <tr>\n",
       "      <th>max</th>\n",
       "      <td>1.000000</td>\n",
       "      <td>40.872385</td>\n",
       "      <td>-73.700837</td>\n",
       "    </tr>\n",
       "  </tbody>\n",
       "</table>\n",
       "</div>"
      ],
      "text/plain": [
       "              is_mt      latitude     longitude\n",
       "count  10000.000000  10000.000000  10000.000000\n",
       "mean       0.292500     40.703688    -73.932314\n",
       "std        0.454933      0.063900      0.087100\n",
       "min        0.000000     40.500737    -74.249465\n",
       "25%        0.000000     40.661133    -73.984189\n",
       "50%        0.000000     40.708496    -73.948210\n",
       "75%        1.000000     40.753638    -73.887226\n",
       "max        1.000000     40.872385    -73.700837"
      ]
     },
     "execution_count": 4,
     "metadata": {},
     "output_type": "execute_result"
    }
   ],
   "source": [
    "df.describe()"
   ]
  },
  {
   "cell_type": "markdown",
   "metadata": {},
   "source": [
    "Let's take a look at what's inside the result. **Run the cell below** and check the variable `is_mt` has an array of 1s and 0s representing each geolocation is in Manhattan or not, and the variable `latlng` has an array of pairs of latitude and longitude."
   ]
  },
  {
   "cell_type": "code",
   "execution_count": 5,
   "metadata": {
    "collapsed": false
   },
   "outputs": [],
   "source": [
    "import numpy as np\n",
    "\n",
    "is_mt = np.asarray(list(df['is_mt'])).astype(np.int32)\n",
    "l