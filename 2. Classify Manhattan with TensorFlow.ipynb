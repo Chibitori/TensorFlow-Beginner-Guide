{
 "cells": [
  {
   "cell_type": "markdown",
   "metadata": {},
   "source": [
    "# 2. Classify Manhattan with TensorFlow\n",
    "\n",
    "In this codelab, we will use TensorFlow to train a neural network to predict whether a geolocation is in Manhattan or not, by looking at its longitude and latitude.\n",
    "\n",
    "<br/>\n",
    "![](images/manhattan.png)\n",
    "<br/>\n",
    "<br/>"
   ]
  },
  {
   "cell_type": "markdown",
   "metadata": {},
   "source": [
    "## 2-1. Read and Process the Data\n",
    "### Labs and Solutions\n",
    "\n",
    "In this codelab there are several labs where you need to write your code to solve the problems. If you need some hints, you may check with the mentor about possible solutions to run this lab."
   ]
  },
  {
   "cell_type": "markdown",
   "metadata": {},
   "source": [
    "### TensorFlow Requirement > version 1.0\n",
    "\n",
    "To check the version of TensorFlow you are running, **select the cell below and run the code by clicking \"Run\" on the menu**."
   ]
  },
  {
   "cell_type": "code",
   "execution_count": 1,
   "metadata": {
    "collapsed": false
   },
   "outputs": [
    {
     "data": {
      "text/plain": [
       "'1.2.1'"
      ]
     },
     "execution_count": 1,
     "metadata": {},
     "output_type": "execute_result"
    }
   ],
   "source": [
    "import tensorflow as tf\n",
    "tf.__version__"
   ]
  },
  {
   "cell_type": "markdown",
   "metadata": {},
   "source": [
    "This codelab requires TensorFlow 1.0 or above. If you see older versions such as 0.11.x, 0.12.x, please follow the instruction below to update your local Datalab.\n",
    "\n",
    "- Stop your notebook by pressing Ctrl+C on the console\n",
    "- Run the following command on the console if you do not have a GPU\n",
    "```\n",
    "> pip install tensorflow\n",
    "```\n",
    "- Run the following command on the console if you have a GPU\n",
    "```\n",
    "> pip install tensorflow-gpu\n",
    "```"
   ]
  },
  {
   "cell_type": "markdown",
   "metadata": {},
   "source": [
    "### Import Pandas and read the data as a NumPy array\n",
    "\n",
    "We need to read the comma separated values (CSV) file as a Pandas DataFrame. **Run the cell below** and confirm that there are three columns and that there are 10,000 rows."
   ]
  },
  {
   "cell_type": "code",
   "execution_count": 1,
   "metadata": {
    "collapsed": false
   },
   "outputs": [
    {
     "name": "stdout",
     "output_type": "stream",
     "text": [
      "Columns:  ['is_mt' 'latitude' 'longitude']\n",
      "Rows:  RangeIndex(start=0, stop=10000, step=1)\n"
     ]
    }
   ],
   "source": [
    "import pandas as pd\n",
    "df = pd.read_csv('manhattan_latlong.csv')\n",
    "print(\"Columns: \", df.columns.values)\n",
    "print(\"Rows: \", df.index)"
   ]
  },
  {
   "cell_type": "code",
   "execution_count": 2,
   "metadata": {
    "collapsed": false
   },
   "outputs": [
    {
     "data": {
      "text/html": [
       "<div>\n",
       "<table border=\"1\" class=\"dataframe\">\n",
       "  <thead>\n",
       "    <tr style=\"text-align: right;\">\n",
       "      <th></th>\n",
       "      <th>is_mt</th>\n",
       "      <th>latitude</th>\n",
       "      <th>longitude</th>\n",
       "    </tr>\n",
       "  </thead>\n",
       "  <tbody>\n",
       "    <tr>\n",
       "      <th>0</th>\n",
       "      <td>0</td>\n",
       "      <td>40.704062</td>\n",
       "      <td>-73.824442</td>\n",
       "    </tr>\n",
       "    <tr>\n",
       "      <th>1</th>\n",
       "      <td>0</td>\n",
       "      <td>40.613985</td>\n",
       "      <td>-74.101276</td>\n",
       "    </tr>\n",
       "    <tr>\n",
       "      <th>2</th>\n",
       "      <td>0</td>\n",
       "      <td>40.761280</td>\n",
       "      <td>-73.904727</td>\n",
       "    </tr>\n",
       "    <tr>\n",
       "      <th>3</th>\n",
       "      <td>0</td>\n",
       "      <td>40.750352</td>\n",
       "      <td>-73.818837</td>\n",
       "    </tr>\n",
       "    <tr>\n",
       "      <th>4</th>\n",
       "      <td>0</td>\n",
       "      <td>40.641081</td>\n",
       "      <td>-73.918163</td>\n",
       "    </tr>\n",
       "  </tbody>\n",
       "</table>\n",
       "</div>"
      ],
      "text/plain": [
       "   is_mt   latitude  longitude\n",
       "0      0  40.704062 -73.824442\n",
       "1      0  40.613985 -74.101276\n",
       "2      0  40.761280 -73.904727\n",
       "3      0  40.750352 -73.818837\n",
       "4      0  40.641081 -73.918163"
      ]
     },
     "execution_count": 2,
     "metadata": {},
     "output_type": "execute_result"
    }
   ],
   "source": [
    "df.head()"
   ]
  },
  {
   "cell_type": "code",
   "execution_count": 3,
   "metadata": {
    "collapsed": false
   },
   "outputs": [
    {
     "data": {
      "text/html": [
       "<div>\n",
       "<table border=\"1\" class=\"dataframe\">\n",
       "  <thead>\n",
       "    <tr style=\"text-align: right;\">\n",
       "      <th></th>\n",
       "      <th>is_mt</th>\n",
       "      <th>latitude</th>\n",
       "      <th>longitude</th>\n",
       "    </tr>\n",
       "  </thead>\n",
       "  <tbody>\n",
       "    <tr>\n",
       "      <th>9995</th>\n",
       "      <td>1</td>\n",
       "      <td>40.721576</td>\n",
       "      <td>-73.997760</td>\n",
       "    </tr>\n",
       "    <tr>\n",
       "      <th>9996</th>\n",
       "      <td>0</td>\n",
       "      <td>40.634912</td>\n",
       "      <td>-74.010160</td>\n",
       "    </tr>\n",
       "    <tr>\n",
       "      <th>9997</th>\n",
       "      <td>0</td>\n",
       "      <td>40.676707</td>\n",
       "      <td>-73.977103</td>\n",
       "    </tr>\n",
       "    <tr>\n",
       "      <th>9998</th>\n",
       "      <td>0</td>\n",
       "      <td>40.683250</td>\n",
       "      <td>-73.818677</td>\n",
       "    </tr>\n",
       "    <tr>\n",
       "      <th>9999</th>\n",
       "      <td>0</td>\n",
       "      <td>40.663067</td>\n",
       "      <td>-73.836880</td>\n",
       "    </tr>\n",
       "  </tbody>\n",
       "</table>\n",
       "</div>"
      ],
      "text/plain": [
       "      is_mt   latitude  longitude\n",
       "9995      1  40.721576 -73.997760\n",
       "9996      0  40.634912 -74.010160\n",
       "9997      0  40.676707 -73.977103\n",
       "9998      0  40.683250 -73.818677\n",
       "9999      0  40.663067 -73.836880"
      ]
     },
     "execution_count": 3,
     "metadata": {},
     "output_type": "execute_result"
    }
   ],
   "source": [
    "df.tail()"
   ]
  },
  {
   "cell_type": "code",
   "execution_count": 4,
   "metadata": {
    "collapsed": false
   },
   "outputs": [
    {
     "data": {
      "text/html": [
       "<div>\n",
       "<table border=\"1\" class=\"dataframe\">\n",
       "  <thead>\n",
       "    <tr style=\"text-align: right;\">\n",
       "      <th></th>\n",
       "      <th>is_mt</th>\n",
       "      <th>latitude</th>\n",
       "      <th>longitude</th>\n",
       "    </tr>\n",
       "  </thead>\n",
       "  <tbody>\n",
       "    <tr>\n",
       "      <th>count</th>\n",
       "      <td>10000.000000</td>\n",
       "      <td>10000.000000</td>\n",
       "      <td>10000.000000</td>\n",
       "    </tr>\n",
       "    <tr>\n",
       "      <th>mean</th>\n",
       "      <td>0.292500</td>\n",
       "      <td>40.703688</td>\n",
       "      <td>-73.932314</td>\n",
       "    </tr>\n",
       "    <tr>\n",
       "      <th>std</th>\n",
       "      <td>0.454933</td>\n",
       "      <td>0.063900</td>\n",
       "      <td>0.087100</td>\n",
       "    </tr>\n",
       "    <tr>\n",
       "      <th>min</th>\n",
       "      <td>0.000000</td>\n",
       "      <td>40.500737</td>\n",
       "      <td>-74.249465</td>\n",
       "    </tr>\n",
       "    <tr>\n",
       "      <th>25%</th>\n",
       "      <td>0.000000</td>\n",
       "      <td>40.661133</td>\n",
       "      <td>-73.984189</td>\n",
       "    </tr>\n",
       "    <tr>\n",
       "      <th>50%</th>\n",
       "      <td>0.000000</td>\n",
       "      <td>40.708496</td>\n",
       "      <td>-73.948210</td>\n",
       "    </tr>\n",
       "    <tr>\n",
       "      <th>75%</th>\n",
       "      <td>1.000000</td>\n",
       "      <td>40.753638</td>\n",
       "      <td>-73.887226</td>\n",
       "    </tr>\n",
       "    <tr>\n",
       "      <th>max</th>\n",
       "      <td>1.000000</td>\n",
       "      <td>40.872385</td>\n",
       "      <td>-73.700837</td>\n",
       "    </tr>\n",
       "  </tbody>\n",
       "</table>\n",
       "</div>"
      ],
      "text/plain": [
       "              is_mt      latitude     longitude\n",
       "count  10000.000000  10000.000000  10000.000000\n",
       "mean       0.292500     40.703688    -73.932314\n",
       "std        0.454933      0.063900      0.087100\n",
       "min        0.000000     40.500737    -74.249465\n",
       "25%        0.000000     40.661133    -73.984189\n",
       "50%        0.000000     40.708496    -73.948210\n",
       "75%        1.000000     40.753638    -73.887226\n",
       "max        1.000000     40.872385    -73.700837"
      ]
     },
     "execution_count": 4,
     "metadata": {},
     "output_type": "execute_result"
    }
   ],
   "source": [
    "df.describe()"
   ]
  },
  {
   "cell_type": "markdown",
   "metadata": {},
   "source": [
    "Let's take a look at what's inside the result. **Run the cell below** and check the variable `is_mt` has an array of 1s and 0s representing each geolocation is in Manhattan or not, and the variable `latlng` has an array of pairs of latitude and longitude."
   ]
  },
  {
   "cell_type": "code",
   "execution_count": 5,
   "metadata": {
    "collapsed": false
   },
   "outputs": [],
   "source": [
    "import numpy as np\n",
    "\n",
    "is_mt = np.asarray(list(df['is_mt'])).astype(np.int32)\n",
    "lat = np.asarray(df['latitude']).astype(np.float32)\n",
    "lon = np.asarray(df['longitude']).astype(np.float32)\n",
    "latlng = np.vstack([lat, lon]).T"
   ]
  },
  {
   "cell_type": "markdown",
   "metadata": {},
   "source": [
    "### View the data\n",
    "Read the top 10 values from the dataframe and view how the data looks"
   ]
  },
  {
   "cell_type": "code",
   "execution_count": 6,
   "metadata": {
    "collapsed": false
   },
   "outputs": [
    {
     "name": "stdout",
     "output_type": "stream",
     "text": [
      "[0 0 0 0 0 1 0 0 0 0]\n",
      "[[ 40.70406342 -73.82444   ]\n",
      " [ 40.61398697 -74.10127258]\n",
      " [ 40.76128006 -73.90472412]\n",
      " [ 40.75035095 -73.81884003]\n",
      " [ 40.64107895 -73.91815948]\n",
      " [ 40.73986435 -73.98957825]\n",
      " [ 40.72327423 -73.9422226 ]\n",
      " [ 40.69698715 -73.93522644]\n",
      " [ 40.68451309 -73.90937805]\n",
      " [ 40.65890121 -73.84178925]]\n"
     ]
    }
   ],
   "source": [
    "print(is_mt[:10])\n",
    "print(latlng[:10, :])"
   ]
  },
  {
   "cell_type": "markdown",
   "metadata": {},
   "source": [
    "---\n",
    "### Start Lab: NumPy basics\n",
    "\n",
    "(You can skip this lab if you know how to use NumPy)\n",
    "\n",
    "You might notice that we just used NumPy for extracting the results. NumPy is the most popular Python library for numerical calculations. For machine learning with Python, many people are using NumPy for wide variety of numerical operations, including the basic array operations such as reshaping, merging, splitting, filtering, slicing and indexing. Many of TensorFlow APIs are also influenced by NumPy and use similar concepts. If you want to learn machine learning and TensorFlow with Python, we recommend you to learn [the basics of NumPy](https://docs.scipy.org/doc/numpy-dev/user/quickstart.html).\n",
    "\n",
    "In this lab, Let's try a few basic array operations with NumPy. **Run the cell below** and see what kind of numpy array will be created."
   ]
  },
  {
   "cell_type": "code",
   "execution_count": null,
   "metadata": {
    "collapsed": false
   },
   "outputs": [],
   "source": [
    "# create an numpy array with numbers from 0 to 14\n",
    "A = np.arange(15)\n",
    "print(A)"
   ]
  },
  {
   "cell_type": "markdown",
   "metadata": {},
   "source": [
    "Now, please write and run code in the following cells to get the result described in the comments with NumPy. You may refer to the [NumPy Quickstart](https://docs.scipy.org/doc/numpy-dev/user/quickstart.html) to learn how to write those."
   ]
  },
  {
   "cell_type": "code",
   "execution_count": null,
   "metadata": {
    "collapsed": false
   },
   "outputs": [],
   "source": [
    "# reshape the array A into an array with shape in 3 rows and 5 columns,\n",
    "# set it to variable A, and print it.\n",
    "\n",
    "# *** ADD YOUR CODE HERE ***\n",
    "\n",
    "print(A)\n",
    "\n",
    "# expected result:\n",
    "# [[ 0  1  2  3  4]\n",
    "#  [ 5  6  7  8  9]\n",
    "#  [10 11 12 13 14]]"
   ]
  },
  {
   "cell_type": "code",
   "execution_count": null,
   "metadata": {
    "collapsed": false
   },
   "outputs": [],
   "source": [
    "# print the shape, data type name, size (total number of elements) of the array A\n",
    "\n",
    "# *** ADD YOUR CODE HERE ***\n",
    "\n",
    "# expected result:\n",
    "# (3, 5)\n",
    "#  int64\n",
    "# 15"
   ]
  },
  {
   "cell_type": "code",
   "execution_count": null,
   "metadata": {
    "collapsed": false
   },
   "outputs": [],
   "source": [
    "# multiply the array A with a number 2 and print it\n",
    "\n",
    "# *** ADD YOUR CODE HERE ***\n",
    "\n",
    "# expected result:\n",
    "# [[ 0  2  4  6  8]\n",
    "#  [10 12 14 16 18]\n",
    "#  [20 22 24 26 28]]"
   ]
  },
  {
   "cell_type": "code",
   "execution_count": null,
   "metadata": {
    "collapsed": false
   },
   "outputs": [],
   "source": [
    "# create a new array that has the same shape as the array A filled with zeros, and print it\n",
    "\n",
    "# *** ADD YOUR CODE HERE ***\n",
    "\n",
    "# expected result:\n",
    "# [[ 0.  0.  0.  0.  0.]\n",
    "#  [ 0.  0.  0.  0.  0.]\n",
    "#  [ 0.  0.  0.  0.  0.]]"
   ]
  },
  {
   "cell_type": "code",
   "execution_count": null,
   "metadata": {
    "collapsed": false
   },
   "outputs": [],
   "source": [
    "# create a new array that has the elements in the right most column of the array A\n",
    "\n",
    "# *** ADD YOUR CODE HERE ***\n",
    "\n",
    "# expected result:\n",
    "# [ 4  9 14]"
   ]
  },
  {
   "cell_type": "code",
   "execution_count": null,
   "metadata": {
    "collapsed": false
   },
   "outputs": [],
   "source": [
    "# Collect elements in array B with an index \"I % 2 == 0\" and print it\n",
    "B = np.arange(10)\n",
    "I = np.arange(10)\n",
    "\n",
    "# *** ADD YOUR CODE HERE ***\n",
    "\n",
    "# expected result:\n",
    "# [0 2 4 6 8]"
   ]
  },
  {
   "cell_type": "markdown",
   "metadata": {},
   "source": [
    "### End Lab\n",
    "---"
   ]
  },
  {
   "cell_type": "markdown",
   "metadata": {},
   "source": [
    "## 2-2. Feature scaling and splitting data\n",
    "\n",
    "Now we got the training data. But it's not ready for training a neural network model yet. If you use the raw data directly, you would fail on the training because the scales of each feature (latitude and longitude in this case) are quite different. \n",
    "\n",
    "In machine learning, usually you need to preprocess the raw data with [feature scaling](https://en.wikipedia.org/wiki/Feature_scaling) to normalize the feature data to have the same scale. So that it gets much easier for machine learning algorithms to compare those features and find relationships between them.\n",
    "\n",
    "In this codelab, we will use [StandardScaler](http://scikit-learn.org/stable/modules/generated/sklearn.preprocessing.StandardScaler.html#sklearn.preprocessing.StandardScaler) in [scikit-learn](http://scikit-learn.org/). Scikit-learn is another popular library for machine learning in Python that provides wide variety of training algorithms, preprocessing and validation tools. \n",
    "\n",
    "The StandardScaler scales the features so that their mean value will be 0 and standard deviation will be 1. This scaling is called **Standardization**. Let's **Run the cell below** and see how it scales the latitudes and longitudes and stores them into a variable `latlng_std`."
   ]
  },
  {
   "cell_type": "code",
   "execution_count": 7,
   "metadata": {
    "collapsed": false
   },
   "outputs": [
    {
     "name": "stdout",
     "output_type": "stream",
     "text": [
      "[[ 0.00591037  1.2385484 ]\n",
      " [-1.40380359 -1.9399457 ]\n",
      " [ 0.901362    0.31675443]\n",
      " ..., \n",
      " [-0.42220375 -0.51428795]\n",
      " [-0.31981695  1.30468488]\n",
      " [-0.63569361  1.09567606]]\n"
     ]
    }
   ],
   "source": [
    "from sklearn.preprocessing import StandardScaler\n",
    "latlng_std = StandardScaler().fit_transform(latlng)\n",
    "print(latlng_std)"
   ]
  },
  {
   "cell_type": "markdown",
   "metadata": {},
   "source": [
    "---\n",
    "### Lab: check the standardized feature values\n",
    "\n",
    "- Print mean and standard deviation values on both latitude and longitude of variable `latlng_std` by using NumPy and confirm the mean is almost 0 and standard deviation is 1."
   ]
  },
  {
   "cell_type": "code",
   "execution_count": 8,
   "metadata": {
    "collapsed": false
   },
   "outputs": [
    {
     "name": "stdout",
     "output_type": "stream",
     "text": [
      "Mean [Lat]: 2.84245e-05\n",
      "Std. Dev. [Lat]: 1.0\n",
      "Mean [Lon]: -2.14008e-05\n",
      "Std. Dev. [Lon]: 1.0\n"
     ]
    }
   ],
   "source": [
    "# *** ADD YOUR CODE HERE ***\n",
    "print(\"Mean [Lat]:\", np.mean(latlng_std[:,0]))\n",
    "print(\"Std. Dev. [Lat]:\",np.std(latlng_std[:,0]))\n",
    "print(\"Mean [Lon]:\",np.mean(latlng_std[:,1]))\n",
    "print(\"Std. Dev. [Lon]:\",np.std(latlng_std[:,1]))"
   ]
  },
  {
   "cell_type": "markdown",
   "metadata": {},
   "source": [
    "---\n",
    "### Plot the training data with Matplotlib\n",
    "\n",
    "Now, all the preprocessing on the training data have finished. Let's see how it looks like by using [Matplotlib](http://matplotlib.org/), the popular visualization library for Python. In this case we will use [scatter()](http://matplotlib.org/api/pyplot_api.html#matplotlib.pyplot.scatter) method to plot dots with the pairs of latitude and longitude. **Run the cell below** and see the plot."
   ]
  },
  {
   "cell_type": "code",
   "execution_count": 9,
   "metadata": {
    "collapsed": false
   },
   "outputs": [
    {
     "data": {
      "image/png": "iVBORw0KGgoAAAANSUhEUgAAAZ4AAAEJCAYAAACkH0H0AAAABHNCSVQICAgIfAhkiAAAAAlwSFlz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\n",
      "text/plain": [
       "<matplotlib.figure.Figure at 0x113caf898>"
      ]
     },
     "metadata": {},
     "output_type": "display_data"
    }
   ],
   "source": [
    "import matplotlib.pyplot as plt\n",
    "plt.style.use('fivethirtyeight')\n",
    "lat = latlng_std[:,0]\n",
    "lng = latlng_std[:,1]\n",
    "plt.scatter(lng[is_mt == 1], lat[is_mt == 1], c='b', marker='o') # plot points in Manhattan in blue\n",
    "plt.scatter(lng[is_mt == 0], lat[is_mt == 0], c='y', marker='o') # plot points outside Manhattan in yellow\n",
    "plt.show()"
   ]
  },
  {
   "cell_type": "code",
   "execution_count": 10,
   "metadata": {
    "collapsed": false
   },
   "outputs": [
    {
     "name": "stdout",
     "output_type": "stream",
     "text": [
      "Longs in Manhattan 2925\n",
      "Lats in Manhattan 2925\n",
      "Longs not in Manhattan 7075\n",
      "Lats not in Manhattan 7075\n"
     ]
    }
   ],
   "source": [
    "print(\"Longs in Manhattan\", lng[is_mt == 1].shape[0])\n",
    "print(\"Lats in Manhattan\", lat[is_mt == 1].shape[0])\n",
    "print(\"Longs not in Manhattan\", lng[is_mt == 0].shape[0])\n",
    "print(\"Lats not in Manhattan\", lat[is_mt == 0].shape[0])"
   ]
  },
  {
   "cell_type": "markdown",
   "metadata": {},
   "source": [
    "You can see that the geolocations in Manhattan are plotted in blue dots, and others are in yellow dots. Also, latitudes and longitudes are scaled to have 0 as the center."
   ]
  },
  {
   "cell_type": "markdown",
   "metadata": {},
   "source": [
    "### Split the data into \"Training Data\" and \"Test Data\"\n",
    "\n",
    "Before start training the neural network model, we need to separate a part of the training data as test data. The test data will be used for checking accuracy of classifications by the model after the training. This is a common practice in machine learning to accurately evaluate the performance of your model.\n",
    "\n",
    "**Run the cell below** and split the data into 8,000 pairs of training data and 2,000 pairs of test data."
   ]
  },
  {
   "cell_type": "code",
   "execution_count": 11,
   "metadata": {
    "collapsed": false
   },
   "outputs": [
    {
     "name": "stdout",
     "output_type": "stream",
     "text": [
      "Split finished.\n"
     ]
    }
   ],
   "source": [
    "# 8,000 pairs for training\n",
    "latlng_train = latlng_std[0:8000]\n",
    "is_mt_train = is_mt[0:8000]\n",
    "\n",
    "# 2,000 pairs for test\n",
    "latlng_test = latlng_std[8000:10000]\n",
    "is_mt_test = is_mt[8000:10000]\n",
    "\n",
    "print(\"Split finished.\")"
   ]
  },
  {
   "cell_type": "markdown",
   "metadata": {},
   "source": [
    "---\n",
    "### Lab: Disscuss the preprocessing\n",
    "\n",
    "Disscuss with your buddy about the following topics.\n",
    "\n",
    "- What are the proprocess we have done so far\n",
    "- Why is each proprocess required\n",
    "- What function of NumPy and Matplotlib we have used to plot the map\n",
    "- Why we need to split the data into training and testing."
   ]
  },
  {
   "cell_type": "markdown",
   "metadata": {},
   "source": [
    "---\n",
    "## 2-3. Train the Neural Network with TensorFlow High level API\n",
    "\n",
    "<br/>\n",
    "![](images/tflogo.png)\n",
    "<br/>\n",
    "\n",
    "Now, let's use [TensorFlow](https://www.tensorflow.org/).\n",
    "\n",
    "TensorFlow is an open source library for machine learning. You can define your own neural network or deep learning model and run a training for it on your laptop, or on [many CPUs and GPUs in the cloud](https://cloud.google.com/ml/) for scalable and faster training and prediction.\n",
    "\n",
    "TensorFlow provides two kind of APIs:\n",
    "\n",
    "- [High level API](https://www.tensorflow.org/get_started/tflearn): provides easy-to-use [predefined machine learning models](https://www.tensorflow.org/api_guides/python/contrib.learn#estimators)\n",
    "- [Low level API](https://www.tensorflow.org/get_started/get_started): provides customizable data flow computation framework for machine learning\n",
    "\n",
    "If you use common neural network and machine learning models (such as fully-connected neural network, convolutional neural network, logistic regression and k-means), the high level API is recommended. If you want to design your own neural network model with sophisticated or new algorithm, or if you like to learn the underlying technology used for implementing the high level API, the low level API is the best option.\n",
    "\n",
    "In this codelab, we will use the high level API first, and then look at the low level API to learn more about the underlying technology."
   ]
  },
  {
   "cell_type": "markdown",
   "metadata": {},
   "source": [
    "### Define a single layer neural network\n",
    "\n",
    "**Run the cell below** to define a neural network."
   ]
  },
  {
   "cell_type": "code",
   "execution_count": 15,
   "metadata": {
    "collapsed": false
   },
   "outputs": [
    {
     "data": {
      "text/plain": [
       "DNNClassifier(params={'gradient_clip_norm': None, 'feature_columns': (_RealValuedColumn(column_name='', dimension=2, default_value=None, dtype=tf.float32, normalizer=None),), 'input_layer_min_slice_size': None, 'head': <tensorflow.contrib.learn.python.learn.estimators.head._BinaryLogisticHead object at 0x111a8aa20>, 'embedding_lr_multipliers': None, 'optimizer': None, 'dropout': None, 'hidden_units': [10, 10, 10], 'activation_fn': <function relu at 0x11b432620>})"
      ]
     },
     "execution_count": 15,
     "metadata": {},
     "output_type": "execute_result"
    }
   ],
   "source": [
    "import tensorflow as tf\n",
    "tf.logging.set_verbosity(tf.logging.ERROR) # supress warning messages\n",
    "\n",
    "# define two feature columns with real values\n",
    "feature_columns = [tf.contrib.layers.real_valued_column(\"\", dimension=2)]\n",
    "\n",
    "# create a neural network\n",
    "dnnc = tf.contrib.learn.DNNClassifier(\n",
    "  feature_columns=feature_columns,\n",
    "  hidden_units=[10, 10, 10],\n",
    "  n_classes=2)\n",
    "\n",
    "dnnc"
   ]
  },
  {
   "cell_type": "markdown",
   "metadata": {},
   "source": [
    "The code above does the following:\n",
    "\n",
    "- At line 2, setting the log level to ERROR to supress warning messages\n",
    "- At line 5, defining \"feature columns\" (columns in the training data used for training the model) as two dimensional real values\n",
    "- At line 8, defining a neural network by using [DNNClassifier](https://www.tensorflow.org/api_docs/python/tf/contrib/learn/DNNClassifier) class with the following parameters:\n",
    " - No hidden units (= fully connected single layer neural network)\n",
    " - Use two classes for classification (Manhattan or not)\n",
    " \n",
    "In a nutshell, this code defines a neural network like this, which is the same single neuron we tried with the Playground, where we put latitude and longitude as input to x1 and x2 respectively.\n",
    "\n",
    "<br/>\n",
    "![](images/singleneuron.png)\n",
    "![](images/nnformula.png)\n",
    "<br/>\n",
    "\n",
    "Just like we saw on the Playground, the neuron can classify each datapoint into two groups by drawing **a single straight line**. While training this neuron with the training data, the neuron tries to move the weight and bias values to find what's the best angle and position for the line to classify Manhattan correctly.\n",
    "\n",
    "<br/>\n",
    "![](https://cloud.google.com/blog/big-data/2016/07/images/146798944178238/neuralnetworks-22.png)\n",
    "<br/>\n",
    "\n",
    "This time, we will train the neuron for classifying whether a geolocation is in Manhattan or not by drawing a line on the map with a single neuron."
   ]
  },
  {
   "cell_type": "markdown",
   "metadata": {},
   "source": [
    "### Check the accuracy of the neural network\n",
    "\n",
    "Before start training the neural network, let's define two methods for checking the accuracy of the neural network. **Run the cell below**."
   ]
  },
  {
   "cell_type": "code",
   "execution_count": 16,
   "metadata": {
    "collapsed": false
   },
   "outputs": [
    {
     "name": "stderr",
     "output_type": "stream",
     "text": [
      "  equality = a == b\n"
     ]
    },
    {
     "data": {
      "image/png": "iVBORw0KGgoAAAANSUhEUgAAAZ4AAAEJCAYAAACkH0H0AAAABHNCSVQICAgIfAhkiAAAAAlwSFlz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\nlLamRp1dvDpbRRAqwGxmMW6cCY