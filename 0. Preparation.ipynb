
{
 "cells": [
  {
   "cell_type": "markdown",
   "metadata": {},
   "source": [
    "# 0. TensorFlow Introduction: Preparation\n",
    "\n",
    "<br/>\n",
    "\n",
    "## 0-1. Prerequisites\n",
    "\n",
    "This codelab requires:\n",
    "\n",
    "- A computer running: Mac OS X, Windows or Linux\n",
    "- A learner with: Basic experience on Python\n",
    "\n",
    "<br/>\n",
    "\n",
    "# 1. Download and Run\n",
    "\n",
    "## 1-1. Download the codelab materials\n",
    "\n",
    "From [TensorFlow-Intro repository on GitHub](https://github.com/karthikmswamy/TF_Intro_Notebooks), click the green `Clone or download` button, download a zip file, and extract the zip file. You can move the extracted folder `TensorFlow-Intro-master` to anywhere you like. Then open [the top page of your local Datalab folder](http://localhost:8080/tree), navigate to the `TensorFlow-Intro-master` folder, so you will see the list of the codelab materials.\n",
    "\n",
    "![](images/codelab_materials.png)\n",
    "\n",
    "## 1-2. Learn Jupyter Notebook basics\n",
    "\n",
    "Follow the [Introduction to Notebooks](http://bebi103.caltech.edu.s3-website-us-east-1.amazonaws.com/2015/tutorials/t0b_intro_to_jupyter_notebooks.html) to learn basics of Jupyter Notebook.\n",
    "\n",
    "## 1-3. Saving and exiting notebooks\n",
    "\n",
    "1. Ensure your notebook is saved:\n",
    "    File -> Save and Checkpoint\n",
    "2. Close Jupyter notebooks by clicking: \n",
    "    File -> Close and Halt"
   ]
  },
  {
   "cell_type": "markdown",
   "metadata": {},
   "source": [
    "# What's Next?\n",
    "\n",
    "Now you're ready to join the TensorFlow Introduction notebook. Please start the codelab from [1. Understanding neural network with TensorFlow Playground](1.%20Understanding%20neural%20network%20with%20TensorFlow%20Playground.ipynb)"
   ]
  }
 ],
 "metadata": {
  "anaconda-cloud": {},
  "kernelspec": {
   "display_name": "Python [default]",
   "language": "python",
   "name": "python3"
  },
  "language_info": {
   "codemirror_mode": {
    "name": "ipython",
    "version": 3
   },
   "file_extension": ".py",
   "mimetype": "text/x-python",
   "name": "python",
   "nbconvert_exporter": "python",
   "pygments_lexer": "ipython3",
   "version": "3.5.3"
  }
 },
 "nbformat": 4,
 "nbformat_minor": 2
}