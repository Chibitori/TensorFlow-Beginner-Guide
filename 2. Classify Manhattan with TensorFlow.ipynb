{
 "cells": [
  {
   "cell_type": "markdown",
   "metadata": {},
   "source": [
    "# 2. Classify Manhattan with TensorFlow\n",
    "\n",
    "In this codelab, we will use TensorFlow to train a neural network to predict whether a geolocation is in Manhattan or not, by looking at its longitude and latitude.\n",
    "\n",
    "<br/>\n",
    "![](images/manhattan.png)\n",
    "<br/>\n",
    "<br/>"
   ]
  },
  {
   "cell_type": "markdown",
   "metadata": {},
   "source": [
    "## 2-1. Read and Process the Data\n",
    "### Labs and Solutions\n",
    "\n",
    "In this codelab there are several labs where you need to write your code to solve the problems. If you need some hints, you may check with the mentor about possible solutions to run this lab."
   ]
  },
  {
   "cell_type": "markdown",
   "metadata": {},
   "source": [
    "### TensorFlow Requirement > version 1.0\n",
    "\n",
    "To check the version of TensorFlow you are running, **select the cell below and run the code by clicking \"Run\" on the menu**."
   ]
  },
  {
   "cell_type": "code",
   "execution_count": 1,
   "metadata": {
    "collapsed": false
   },
   "outputs": [
    {
     "data": {
      "text/plain": [
       "'1.2.1'"
      ]
     },
     "execution_count": 1,
     "metadata": {},
     "output_type": "execute_result"
    }
   ],
   "source": [
    "import tensorflow as tf\n",
    "tf.__version__"
   ]
  },
  {
   "cell_type": "markdown",
   "metadata": {},
   "source": [
    "This codelab requires TensorFlow 1.0 or above. If you see older versions such as 0.11.x, 0.12.x, please follow the instruction below to update your local Datalab.\n",
    "\n",
    "- Stop your notebook by pressing Ctrl+C on the console\n",
    "- Run the following command on the console if you do not have a GPU\n",
    "```\n",
    "> pip install tensorflow\n",
    "```\n",
    "- Run the following command on the console if you have a GPU\n",
    "```\n",
    "> pip install tensorflow-gpu\n",
    "```"
   ]
  },
  {
   "cell_type": "markdown",
   "metadata": {},
   "source": [
    "### Import Pandas and read the data as a NumPy array\n",
    "\n",
    "We need to read the comma separated values (CSV) file as a Pandas DataFrame. **Run the cell below** and confirm that there are three columns and that there are 10,000 rows."
   ]
  },
  {
   "cell_type": "code",
   "execution_count": 1,
   "metadata": {
    "collapsed": false
   },
   "outputs": [
    {
     "name": "stdout",
     "output_type": "stream",
     "text": [
      "Columns:  ['is_mt' 'latitude' 'longitude']\n",
      "Rows:  RangeIndex(start=0, stop=10000, step=1)\n"
     ]
    }
   ],
   "source": [
    "import pandas as pd\n",
    "df = pd.read_csv('manhattan_latlong.csv')\n",
    "print(\"Columns: \", df.columns.values)\n",
    "print(\"Rows: \", df.index)"
   ]
  },
  {
   "cell_type": "code",
   "execution_count": 2,
   "metadata": {
    "collapsed": false
   },
   "outputs": [
    {
     "data": {
      "text/html": [
       "<div>\n",
       "<table border=\"1\" class=\"dataframe\">\n",
       "  <thead>\n",
       "    <tr style=\"text-align: right;\">\n",
       "      <th></th>\n",
       "      <th>is_mt</th>\n",
       "      <th>latitude</th>\n",
       "      <th>longitude</th>\n",
       "    </tr>\n",
       "  </thead>\n",
       "  <tbody>\n",
       "    <tr>\n",
       "      <th>0</th>\n",
       "      <td>0</td>\n",
       "      <td>40.704062</td>\n",
       "      <td>-73.824442</td>\n",
       "    </tr>\n",
       "    <tr>\n",
       "      <th>1</th>\n",
       "      <td>0</td>\n",
       "      <td>40.613985</td>\n",
       "      <td>-74.101276</td>\n",
       "    </tr>\n",
       "    <tr>\n",
       "      <th>2</th>\n",
       "      <td>0</td>\n",
       "      <td>40.761280</td>\n",
       "      <td>-73.904727</td>\n",
       "    </tr>\n",
       "    <tr>\n",
       "      <th>3</th>\n",
       "      <td>0</td>\n",
       "      <td>40.750352</td>\n",
       "      <td>-73.818837</td>\n",
       "    </tr>\n",
       "    <tr>\n",
       "      <th>4</th>\n",
       "      <td>0</td>\n",
       "      <td>40.641081</td>\n",
       "      <td>-73.918163</td>\n",
       "    </tr>\n",
       "  </tbody>\n",
       "</table>\n",
       "</div>"
      ],
      "text/plain": [
       "   is_mt   latitude  longitude\n",
       "0      0  40.704062 -73.824442\n",
       "1      0  40.613985 -74.101276\n",
       "2      0  40.761280 -73.904727\n",
       "3      0  40.750352 -73.818837\n",
       "4      0  40.641081 -73.918163"
      ]
     },
     "execution_count": 2,
     "metadata": {},
     "output_type": "execute_result"
    }
   ],
   "source": [
    "df.head()"
   ]
  },
  {
   "cell_type": "code",
   "execution_count": 3,
   "metadata": {
    "collapsed": false
   },
   "outputs": [
    {
     "data": {
      "text/html": [
       "<div>\n",
       "<table border=\"1\" class=\"dataframe\">\n",
       "  <thead>\n",
       "    <tr style=\"text-align: right;\">\n",
       "      <th></th>\n",
       "      <th>is_mt</th>\n",
       "      <th>latitude</th>\n",
       "      <th>longitude</th>\n",
       "    </tr>\n",
       "  </thead>\n",
       "  <tbody>\n",
       "    <tr>\n",
       "      <th>9995</th>\n",
       "      <td>1</td>\n",
       "      <td>40.721576</td>\n",
       "      <td>-73.997760</td>\n",
       "    </tr>\n",
       "    <tr>\n",
       "      <th>9996</th>\n",
       "      <td>0</td>\n",
       "      <td>40.634912</td>\n",
       "      <td>-74.010160</td>\n",
       "    </tr>\n",
       "    <tr>\n",
       "      <th>9997</th>\n",
       "      <td>0</td>\n",
       "      <td>40.676707</td>\n",
       "      <td>-73.977103</td>\n",
       "    </tr>\n",
       "    <tr>\n",
       "      <th>9998</th>\n",
       "      <td>0</td>\n",
       "      <td>40.683250</td>\n",
       "      <td>-73.818677</td>\n",
       "    </tr>\n",
       "    <tr>\n",
       "      <th>9999</th>\n",
       "      <td>0</td>\n",
       "      <td>40.663067</td>\n",
       "      <td>-73.836880</td>\n",
       "    </tr>\n",
       "  </tbody>\n",
       "</table>\n",
       "</div>"
      ],
      "text/plain": [
       "      is_mt   latitude  longitude\n",
       "9995      1  40.721576 -73.997760\n",
       "9996      0  40.634912 -74.010160\n",
       "9997      0  40.676707 -73.977103\n",
       "9998      0  40.683250 -73.818677\n",
       "9999      0  40.663067 -73.836880"
      ]
     },
     "execution_count": 3,
     "metadata": {},
     "output_type": "execute_result"
    }
   ],
   "source": [
    "df.tail()"
   ]
  },
  {
   "cell_type": "code",
   "execution_count": 4,
   "metadata": {
    "collapsed": false
   },
   "outputs": [
    {
     "data": {
      "text/html": [
       "<div>\n",
       "<table border=\"1\" class=\"dataframe\">\n",
       "  <thead>\n",
       "    <tr style=\"text-align: right;\">\n",
       "      <th></th>\n",
       "      <th>is_mt</th>\n",
       "      <th>latitude</th>\n",
       "      <th>longitude</th>\n",
       "    </tr>\n",
       "  </thead>\n",
       "  <tbody>\n",
       "    <tr>\n",
       "      <th>count</th>\n",
       "      <td>10000.000000</td>\n",
       "      <td>10000.000000</td>\n",
       "      <td>10000.000000</td>\n",
       "    </tr>\n",
       "    <tr>\n",
       "      <th>mean</th>\n",
       "      <td>0.292500</td>\n",
       "      <td>40.703688</td>\n",
       "      <td>-73.932314</td>\n",
       "    </tr>\n",
       "    <tr>\n",
       "      <th>std</th>\n",
       "      <td>0.454933</td>\n",
       "      <td>0.063900</td>\n",
       "      <td>0.087100</td>\n",
       "    </tr>\n",
       "    <tr>\n",
       "      <th>min</th>\n",
       "      <td>0.000000</td>\n",
       "      <td>40.500737</td>\n",
       "      <td>-74.249465</td>\n",
       "    </tr>\n",
       "    <tr>\n",
       "      <th>25%</th>\n",
       "      <td>0.000000</td>\n",
       "      <td>40.661133</td>\n",
       "      <td>-73.984189</td>\n",
       "    </tr>\n",
       "    <tr>\n",
       "      <th>50%</th>\n",
       "      <td>0.000000</td>\n",
       "      <td>40.708496</td>\n",
       "      <td>-73.948210</td>\n",
       "    </tr>\n",
       "    <tr>\n",
       "      <th>75%</th>\n",
       "      <td>1.000000</td>\n",
       "      <td>40.753638</td>\n",
       "      <td>-73.887226</td>\n",
       "    </tr>\n",
       "    <tr>\n",
       "      <th>max</th>\n",
       "      <td>1.000000</td>\n",
       "      <td>40.872385</td>\n",
       "      <td>-73.700837</td>\n",
       "    </tr>\n",
       "  </tbody>\n",
       "</table>\n",
       "</div>"
      ],
      "text/plain": [
       "              is_mt      latitude     longitude\n",
       "count  10000.000000  10000.000000  10000.000000\n",
       "mean       0.292500     40.703688    -73.932314\n",
       "std        0.454933      0.063900      0.087100\n",
       "min        0.000000     40.500737    -74.249465\n",
       "25%        0.000000     40.661133    -73.984189\n",
       "50%        0.000000     40.708496    -73.948210\n",
       "75%        1.000000     40.753638    -73.887226\n",
       "max        1.000000     40.872385    -73.700837"
      ]
     },
     "execution_count": 4,
     "metadata": {},
     "output_type": "execute_result"
    }
   ],
   "source": [
    "df.describe()"
   ]
  },
  {
   "cell_type": "markdown",
   "metadata": {},
   "source": [
    "Let's take a look at what's inside the result. **Run the cell below** and check the variable `is_mt` has an array of 1s and 0s representing each geolocation is in Manhattan or not, and the variable `latlng` has an array of pairs of latitude and longitude."
   ]
  },
  {
   "cell_type": "code",
   "execution_count": 5,
   "metadata": {
    "collapsed": false
   },
   "outputs": [],
   "source": [
    "import numpy as np\n",
    "\n",
    "is_mt = np.asarray(list(df['is_mt'])).astype(np.int32)\n",
    "lat = np.asarray(df['latitude']).astype(np.float32)\n",
    "lon = np.asarray(df['longitude']).astype(np.float32)\n",
    "latlng = np.vstack([lat, lon]).T"
   ]
  },
  {
   "cell_type": "markdown",
   "metadata": {},
   "source": [
    "### View the data\n",
    "Read the top 10 values from the dataframe and view how the data looks"
   ]
  },
  {
   "cell_type": "code",
   "execution_count": 6,
   "metadata": {
    "collapsed": false
   },
   "outputs": [
    {
     "name": "stdout",
     "output_type": "stream",
     "text": [
      "[0 0 0 0 0 1 0 0 0 0]\n",
      "[[ 40.70406342 -73.82444   ]\n",
      " [ 40.61398697 -74.10127258]\n",
      " [ 40.76128006 -73.90472412]\n",
      " [ 40.75035095 -73.81884003]\n",
      " [ 40.64107895 -73.91815948]\n",
      " [ 40.73986435 -73.98957825]\n",
      " [ 40.72327423 -73.9422226 ]\n",
      " [ 40.69698715 -73.93522644]\n",
      " [ 40.68451309 -73.90937805]\n",
      " [ 40.65890121 -73.84178925]]\n"
     ]
    }
   ],
   "source": [
    "print(is_mt[:10])\n",
    "print(latlng[:10, :])"
   ]
  },
  {
   "cell_type": "markdown",
   "metadata": {},
   "source": [
    "---\n",
    "### Start Lab: NumPy basics\n",
    "\n",
    "(You can skip this lab if you know how to use NumPy)\n",
    "\n",
    "You might notice that we just used NumPy for extracting the results. NumPy is the most popular Python library for numerical calculations. For machine learning with Python, many people are using NumPy for wide variety of numerical operations, including the basic array operations such as reshaping, merging, splitting, filtering, slicing and indexing. Many of TensorFlow APIs are also influenced by NumPy and use similar concepts. If you want to learn machine learning and TensorFlow with Python, we recommend you to learn [the basics of NumPy](https://docs.scipy.org/doc/numpy-dev/user/quickstart.html).\n",
    "\n",
    "In this lab, Let's try a few basic array operations with NumPy. **Run the cell below** and see what kind of numpy array will be created."
   ]
  },
  {
   "cell_type": "code",
   "execution_count": null,
   "metadata": {
    "collapsed": false
   },
   "outputs": [],
   "source": [
    "# create an numpy array with numbers from 0 to 14\n",
    "A = np.arange(15)\n",
    "print(A)"
   ]
  },
  {
   "cell_type": "markdown",
   "metadata": {},
   "source": [
    "Now, please write and run code in the following cells to get the result described in the comments with NumPy. You may refer to the [NumPy Quickstart](https://docs.scipy.org/doc/numpy-dev/user/quickstart.html) to learn how to write those."
   ]
  },
  {
   "cell_type": "code",
   "execution_count": null,
   "metadata": {
    "collapsed": false
   },
   "outputs": [],
   "source": [
    "# reshape the array A into an array with shape in 3 rows and 5 columns,\n",
    "# set it to variable A, and print it.\n",
    "\n",
    "# *** ADD YOUR CODE HERE ***\n",
    "\n",
    "print(A)\n",
    "\n",
    "# expected result:\n",
    "# [[ 0  1  2  3  4]\n",
    "#  [ 5  6  7  8  9]\n",
    "#  [10 11 12 13 14]]"
   ]
  },
  {
   "cell_type": "code",
   "execution_count": null,
   "metadata": {
    "collapsed": false
   },
   "outputs": [],
   "source": [
    "# print the shape, data type name, size (total number of elements) of the array A\n",
    "\n",
    "# *** ADD YOUR CODE HERE ***\n",
    "\n",
    "# expected result:\n",
    "# (3, 5)\n",
    "#  int64\n",
    "# 15"
   ]
  },
  {
   "cell_type": "code",
   "execution_count": null,
   "metadata": {
    "collapsed": false
   },
   "outputs": [],
   "source": [
    "# multiply the array A with a number 2 and print it\n",
    "\n",
    "# *** ADD YOUR CODE HERE ***\n",
    "\n",
    "# expected result:\n",
    "# [[ 0  2  4  6  8]\n",
    "#  [10 12 14 16 18]\n",
    "#  [20 22 24 26 28]]"
   ]
  },
  {
   "cell_type": "code",
   "execution_count": null,
   "metadata": {
    "collapsed": false
   },
   "outputs": [],
   "source": [
    "# create a new array that has the same shape as the array A filled with zeros, and print it\n",
    "\n",
    "# *** ADD YOUR CODE HERE ***\n",
    "\n",
    "# expected result:\n",
    "# [[ 0.  0.  0.  0.  0.]\n",
    "#  [ 0.  0.  0.  0.  0.]\n",
    "#  [ 0.  0.  0.  0.  0.]]"
   ]
  },
  {
   "cell_type": "code",
   "execution_count": null,
   "metadata": {
    "collapsed": false
   },
   "outputs": [],
   "source": [
    "# create a new array that has the elements in the right most column of the array A\n",
    "\n",
    "# *** ADD YOUR CODE HERE ***\n",
    "\n",
    "# expected result:\n",
    "# [ 4  9 14]"
   ]
  },
  {
   "cell_type": "code",
   "execution_count": null,
   "metadata": {
    "collapsed": false
   },
   "outputs": [],
   "source": [
    "# Collect elements in array B with an index \"I % 2 == 0\" and print it\n",
    "B = np.arange(10)\n",
    "I = np.arange(10)\n",
    "\n",
    "# *** ADD YOUR CODE HERE ***\n",
    "\n",
    "# expected result:\n",
    "# [0 2 4 6 8]"
   ]
  },
  {
   "cell_type": "markdown",
   "metadata": {},
   "source": [
    "### End Lab\n",
    "---"
   ]
  },
  {
   "cell_type": "markdown",
   "metadata": {},
   "source": [
    "## 2-2. Feature scaling and splitting data\n",
    "\n",
    "Now we got the training data. But it's not ready for training a neural network model yet. If you use the raw data directly, you would fail on the training because the scales of each feature (latitude and longitude in this case) are quite different. \n",
    "\n",
    "In machine learning, usually you need to preprocess the raw data with [feature scaling](https://en.wikipedia.org/wiki/Feature_scaling) to normalize the feature data to have the same scale. So that it gets much easier for machine learning algorithms to compare those features and find relationships between them.\n",
    "\n",
    "In this codelab, we will use [StandardScaler](http://scikit-learn.org/stable/modules/generated/sklearn.preprocessing.StandardScaler.html#sklearn.preprocessing.StandardScaler) in [scikit-learn](http://scikit-learn.org/). Scikit-learn is another popular library for machine learning in Python that provides wide variety of training algorithms, preprocessing and validation tools. \n",
    "\n",
    "The StandardScaler scales the features so that their mean value will be 0 and standard deviation will be 1. This scaling is called **Standardization**. Let's **Run the cell below** and see how it scales the latitudes and longitudes and stores them into a variable `latlng_std`."
   ]
  },
  {
   "cell_type": "code",
   "execution_count": 7,
   "metadata": {
    "collapsed": false
   },
   "outputs": [
    {
     "name": "stdout",
     "output_type": "stream",
     "text": [
      "[[ 0.00591037  1.2385484 ]\n",
      " [-1.40380359 -1.9399457 ]\n",
      " [ 0.901362    0.31675443]\n",
      " ..., \n",
      " [-0.42220375 -0.51428795]\n",
      " [-0.31981695  1.30468488]\n",
      " [-0.63569361  1.09567606]]\n"
     ]
    }
   ],
   "source": [
    "from sklearn.preprocessing import StandardScaler\n",
    "latlng_std = StandardScaler().fit_transform(latlng)\n",
    "print(latlng_std)"
   ]
  },
  {
   "cell_type": "markdown",
   "metadata": {},
   "source": [
    "---\n",
    "### Lab: check the standardized feature values\n",
    "\n",
    "- Print mean and standard deviation values on both latitude and longitude of variable `latlng_std` by using NumPy and confirm the mean is almost 0 and standard deviation is 1."
   ]
  },
  {
   "cell_type": "code",
   "execution_count": 8,
   "metadata": {
    "collapsed": false
   },
   "outputs": [
    {
     "name": "stdout",
     "output_type": "stream",
     "text": [
      "Mean [Lat]: 2.84245e-05\n",
      "Std. Dev. [Lat]: 1.0\n",
      "Mean [Lon]: -2.14008e-05\n",
      "Std. Dev. [Lon]: 1.0\n"
     ]
    }
   ],
   "source": [
    "# *** ADD YOUR CODE HERE ***\n",
    "print(\"Mean [Lat]:\", np.mean(latlng_std[:,0]))\n",
    "print(\"Std. Dev. [Lat]:\",np.std(latlng_std[:,0]))\n",
    "print(\"Mean [Lon]:\",np.mean(latlng_std[:,1]))\n",
    "print(\"Std. Dev. [Lon]:\",np.std(latlng_std[:,1]))"
   ]
  },
  {
   "cell_type": "markdown",
   "metadata": {},
   "source": [
    "---\n",
    "### Plot the training data with Matplotlib\n",
    "\n",
    "Now, all the preprocessing on the training data have finished. Let's see how it looks like by using [Matplotlib](http://matplotlib.org/), the popular visualization library for Python. In this case we will use [scatter()](http://matplotlib.org/api/pyplot_api.html#matplotlib.pyplot.scatter) method to plot dots with the pairs of latitude and longitude. **Run the cell below** and see the plot."
   ]
  },
  {
   "cell_type": "code",
   "execution_count": 9,
   "metadata": {
    "collapsed": false
   },
   "outputs": [
    {
     "data": {
      "image/png": "iVBORw0KGgoAAAANSUhEUgAAAZ4AAAEJCAYAAACkH0H0AAAABHNCSVQICAgIfAhkiAAAAAlwSFlz\nAAALEgAACxIB0t1+/AAAIABJREFUeJzt3Xl0G+W9P/73jEaLFzk2bhKLKLLjJc1yQ6FAaAlpA21Z\nGpZcqFnaewo9IW3TBe7vlh7i/txLoaakpV+6BQKXQPO7t6EHQgIkl7XlJg04kC/hZqGExFIcSzHI\nSerI1maNNJr5/SHLtuyRrGVGo+XzOodzsJaZR4qkzzzP83k+DzM0NCSBEEIIyRNW6wYQQggpLxR4\nCCGE5BUFHkIIIXlFgYcQQkheUeAhhBCSVxR4CCGE5BUFHkIIIXlFgYcQQkheUeBRmN1u17oJqqDX\nVVzodRWXUn1dyVDgIYQQklcUeAghhOQVBR5CCCF5RYGHEEJIXlHgIYQQklcUeAgpY04ngzVrKnDt\ntVVYs6YCTiejdZNIGeC0bgAhRBtOJ4OVK6vQ368bu+2dd3R4+eUAGhtpmy6iHgo8hJQYp5PBT386\nD35/FSwWEXfcwWPDBiP27+cQjQIcJyESYRAIAOFw4qBHf78OHR0mPPPMiEatJ+WAAg8hJUSuF7N1\nqx5A+kNo771HPwtEXTTHQ0gJWbfOlBB0YmjehhQWCjyElJD9+3PvrVx0kaBASwhJjgIPISUkGs3t\n+VZrFOvXh5RpDCFJUOAhpISYTNlmo4lobw9TRhvJC5pFJKSEcFx2QaOqCnjyScpkI/lBPR5CSsS2\nbTq4XJMTC9JTX0+9HJI/1OMhpIg5nQzWrTPh3Xc5eDwMsstgk7BxY1DpphGSFAUeQoqU08ngyiur\ncOpUdr2cuJYWAcuWiQq1ipDp0VAbIUVq3TpTzkHnnHNEbN9OczskvyjwEFKk3n47+wELk0nCV78a\nxq5dfspiI3lHQ22EFCGnk4HPl/l8jk4n4cYbI+jsDFHAIZqhwENIkXE6GVx9dRWySSSYM0ektGmi\nORpqI6SIOJ0MVq2qgtudzdwOZa+RwkCBh5Ai0tVlwokT2QWdp54KUPYaKQgUeAgpIgcPZvuVlXDT\nTTkWciNEIRR4CCkS27bpYLdn19tZs4ZXvD2EZIsCDyFF4oc/rETmCQUSVq7k8fDDYTWaREhWKPAQ\nUgScTgbBYOZBZ82aELZsod4OKSyKB55HHnkEl19+OebOnYuWlhbccsstOHLkiNKnIaRsxLezzrS3\nY7VGqadDCpLigeftt9/G6tWr8frrr2PHjh3gOA6rVq2Cx+NR+lSElAX57ayn9/nPUwYbKUyKLyDd\nvn17wt9PPPEEbDYb3n33XVxzzTVKn46QkuZ0Mti1S5/x8z71KR6dnTTERgqT6nM8fr8foiiitrZW\n7VMRUnK+/W0TQqHMhth0OgldXb1UEocULGZoaEjVT+cdd9yB48ePY/fu3dDp5IcL7Ha7mk0gpCi9\n9toM/PSnrcimNM6nPsVj06ZjmDOH5nhI/rW1taW8X9XA85Of/ATbt2/Ha6+9hqamJrVOU1Dsdvu0\nb3oxoteVf+eea0YwmP2gxDXXhPHnP5dWXbZC/vfKRam+rmRUKxLa0dGB7du3Y+fOnWUTdAhRUubp\n04n276cawKQwqTLHc++992Lbtm3YsWMH5s+fr8YpCClJTieDNWsq8JnPVGndFEJUo/gl0T333INn\nn30Wf/rTn1BbW4tTp04BAKqqqlBdXa306QgpGY8/zqGjoxKSlFtPJ27xYkGR4xCiNMUDz6ZNmwAA\nN9xwQ8Lt9957Lzo6OpQ+HSEl4cEH9Xj44Qpkk0iQTEWFYociRFGKB56hoSGlD0lISevuZhUPOgDg\n91NFLFKY6JNJiMbWrs2m+Of0GhqocgEpTBR4CNHYP/6hfNABRHR2hlQ4LiG5o8BDiIa6u9mc06bl\nVFREqXIBKVgUeAjRSHc3i+uuy7zqdDpGRrLZMI6Q/KDAQ4gGurtZ3HBDNURRra8gg+5u+nqTwkSf\nTEI0sHZtJQRBjbmdOAbXXltFwYcUJPpUEqIBt1vNoBMjSSyuvbaagg8pOPSJJCTPHn+cQySifuAB\nAEli8M1vVublXISkiwIPIXnkdDLo6FB+sWgqg4P0NSeFhT6RhOSJ08ngqquqIEn5/9o5nfkLdIRM\nhwIPIXly++0VGBjQIs2ZwapVVRR8SMGgwEOIyrq7WcyeXY2DB7XbH+fECR26ukyanT/feN6Jvr41\nsNuvRV/fGvC8U+smkQlopyhCVNTdzWLlymrkc04nmYGB8rjO5HknHI5VCIdPjN0WCOxHa+uLAAC3\nuwuRiBt6vQUWSyeMxkatmlq2KPAQopLubhbXX59tZQIpy+clVy5FQ/v7OxKCDgCEwyfQ39+BUOij\nhPs8nu2w2f4D9fU35buZZY0CDyEq2LZNhzvvrMphUzdlA8+8edGiLRrK886xXkooVA2e/2XSXgrP\nO+HzvSl7XyDwHqLRM5NujcLlWg0AqK6+iHpDeUKBhxCFOZ0Mvv3tXHYSVTbomEwiNmwIFmXRULlh\ns6NH30Jz83Mwm5fJPPY6SBIve6xo9B9Jz+NyrQbHWSEI/WO3pTs8NzEwUsBKDwUeQhTW1WVCNJrr\nfIpygScUYrF5sxHLlo0odsx8kRs2E8UAHI7rYDQuQTh8FJIURSxPSgIQSXG01IF3YtAB4sNz6xAK\nHZWdLzIaG+HzdeP48a9BksbfW4/nJdTUfAlW63oKQElQ4CFEYUeOFE7QiZucWODzdaOv704IwmkA\nEhimGmbzZbBaH9Lsx9Ln64bLtRaCMASOq0VDw33wev+S5NEieP6Q6m0KBvdDEBKH58LhE3C7u2Cx\ndE4JOqOPgNf7KhyOo2MBiiQqjzQXQvKku5vFhx8W3pYEExMLfL5uOBzXQxDcAKIAREiSF17vK/jo\no8/B5+vOe/tibboB4bALouhFOOwanXtJ1YNRnyiGZW+PRAbgdnfJBJ1x4fAJHD36eU3ez0JHgYcQ\nhTidDL72NXX210mfBKs1mnDL5MQCl2stYgFH5tnSCHp7b877updYm4S8njMdouiTvV2vb0Ak4k7j\n+UE4HDdQ8JmEAg8hOXI6GaxZU4EvfKEaIyPafqWuuSaCl18O4OqrB7F8uYD29jBefDEwlljA806E\nw5+kPIYoBvDRR0tx/PhteQtAgjCUl/NkTgTDVCTcYjDMg8XSCb3ekuYxhNHASuJojoeQHMTrr+VW\nCkeZLDarNYr160NobJTw85+fQFtbW8L9PO+E3b4S6fQsJImH1/sqeno+QFPTExgc3Kxq1hbH1SIc\n9ip0NAbTJRJkQpL0qKlZgWBwPyQJMJkWAgAslk74/e8gEumf5ghAOJw8o64cUeAhJAff/nau9ddy\nDzpLlvwNDzxwO2prB+HxCDh7VgcgjAMHGOh01aiqugRW63r093ek9SM5kSD0w+G4FhN/yH2+dzB/\n/suKBh+bbSMcjhuQ63CbwWCDKAoQhNS9usyEEAodHUsy8HpfgcPxEVpbX4TFcv/YOqDU5FO8yxUN\ntRGSJaeTwb59uVy75X5VvmTJHvyf//Nl1NY6AfghSSEAAcQm5cOIRs/C630VR45cAq/3dUXaKQj9\n+OijFYrWQDObl6G19SUYDDaw7AwYDDa0tr4Mnc6awVGMaG3dmcEQWPrkKyGsw8mTP0jzCIaczl9q\nteeox0NIhrq7WaxdWwmXi0HuQ2S5Pb+j43bo9en0EpStWiBJHng8WxPWtOTKbF6GxYsPJ9xWU/N5\neDxb03o+wzBwub6PcPhkFmdnAciXFGLZCtnsNp9v12igT0cYPO/M6n3ieSd6elYmrDNSo9eZT6r0\neLq7u3Hrrbdi4cKFqK2txZYtW9Q4DSF5Fy/66XLpkNvXR5l5nepqT87HyEX8yl/OwMDjOHCgHgcO\n1OLAgXoMDDye8fEtls4pk/vJSFIIfv/biEZPZ3yeZEEHAERRfpgs/aADAFG43V0Ztimmv3/dlMWt\ngtCPI0fOx4ED5+DAgXr8/e8XF1VPSJXAEwgEsGjRIqxfvx4VFel9aAgpBtddV4ncA4aowDFiRkZq\nFTlOLrze16ekCw8MPA63ex3G07ajcLvX4cCBWhw6dC4GB7elfXyGqVGusVlRprc4PPxGRsHB5+vG\nhx+eB6/31SSPkBD7LEURidjh8WxFT8/Kogg+qgy1XXnllbjyyisBAN/73vfUOAUhedfdzUIUc71W\nk6DU9Z7NFsW8eY8hELgeydbl5IcIh2Pl6P8bYTDMRjjsSv5oMTg2IT9dVWi3uwuieErmnuRDY4VK\nFIfTHp6ML6jNNNlCEPrR378OLS1/zrG16qLkAkLStGqVEotDlVtc2tgoobHRCoapVuyYueNTBp2J\nTp78/rQT5skWaZpM/5T2EFyhiZfcSSWXBbXB4P6CT0YoiOQCu92udRMUVWqvJ66cX9e///tcRCJa\nD/mMa2g4gX/5l+/hyJH/ASBf1qXQSVIoIXFgaOgdmEwboNPNGbstFJIPqjw/kLJcTaEbGjo69rnz\n+/8dwKs4cCB+7zUAzmZ9bEEI4ciRzwEYf3/k3ls1TV5DNllBBJ7pGllM7HZ7Sb2euHJ9XU4ng899\nrhIjIzoUwi6iQCzo/Pa3X8bs2b1aN0VRktSPkZF21NR8eayyM8//Eg7HsYR0ZpatgigOatjS3EnS\nB/D7L05y76sAcunN+TE5BV6S+mEybUFT05M5HFc5NNRGSBJOJ4Pzz6/GyAiHwgk6x/H445eXXNAZ\nFxmtmLByLP24tfVF1NW1o6LiIgAmiGIA2s5p5cMIsv/Mya8Pi0QGsm6N0ijwEJLEtddWQpIK5yvS\n0NCLP/7xK5gxo7DG69UgCP1wOu8CABiNjbBYOhGJfAKl1yMVtnQXGDNgmDrodLNSPioUcuCDD9pw\n+HAbjh//uqbzPqoMtfn9fvT2xq7IRFFEf38/Dh8+jLq6OsydO1eNUxKiqAcf1OPkyULa3kDCL395\nJ0ymE9M/tEQEAn+Dz9cNg8EKh2OVwmVwSokESfIgOk0nMLYNRozX+wrs9sNoa9NmESozNDSk+H64\nb731Fq677ropt992223YuHGj0qcrKOU6F1Kskr2u2lozCmdAQMJdd72Jf/7nr2jdkLxj2UpUV6+A\n1/uK1k3RUA2AXAqoJi+aWl29AuFw79jmezbbxilbiqtBlR7P8uXLMTRUqGXOCUlt27bCSSQAJCxZ\ncgw33ng9JMUvEQufKAZT7EJaHjiuGtEoD0nKptAoC6NxIXj+Q9l7/f7dY/8fDnvhcFwLo3ERKisX\nqVKFfLxVhJAx3d0s7rxT683c4iQsXXoMGzd+pahTh3On7S6k2tJBED7JMugANTVXo7JyUQbPkMDz\nH8Lj2QqHY5Vq80AFkU5NSKFYu7YSkqR90LFYevHEEx0wm19BJOLXujlEEyxyyd5j2SpYrQ8BAIaH\n9ySpAJFcfKGrGinY1OMhZIIzZ7QOOhKWLrXjmWe+CLP5OcTWZBAg9kOayJSX89psT+XlPImYtCtS\n6HRWmfdGB6v19zAaG2E0NqK6+sKsWqFWCjYFHkImGNF0REvC5Zfz2LjxbgCZbdhW6lj2HCxYsBcc\ndzWqq5ejrq4dra3bAKhbJFWnOwfV1ReBYfIT5MYZwLLTDUjpYLGsx3nn/R3Nzc9NCj5RDAx0wefr\nRk/PqqyTM/T6hqyeNx0aaiMkgVY9Hgm33MLjiSd4HD68T6M2FDIGRmMjTKafj2UhHj/+dQDqJjGZ\nTOfB4ViV4RYISuDBMOfI3lNTc82UIqCDg5tHF9aOC4dPTNk9NhMGwzxYLJ1ZPXc6FHgIGeV0ajfM\nZjRKeOIJHjzvRDRKGaGTieLZKRPdgcB7Cp6BQ6za9XjFa5b9FHS6SgQC2qyd0uvnIJZcMN775Tgr\nrNb1Ux6brJhqpkGHYSrAMCYwDAeTaWFGz80EDbURMmrdOhO06fFIeOyxIACMVi0urnL/+SHB6bw7\n4RZG0X8qAZPfd1H0IBzObMiTZSunmZtJf1GyyTQP8+e/jLq69rHhxWS7jiqx3TfL1kCnq4coehCN\nnoHX+4pqmW3U4yFk1LvvavF1EPHUU0HcdFMseyn5lSsJBHajouJjALGhtsrKi1JskqaEKEKhjzJ6\nhiSxYBhJds2VwWCDyfRPac631I6to0mWVcbzTrjdXYhE3GDZGnCcdcpOpZkQRS9EMXGhqlqZbRR4\nCBkVDOb7jBLWrx8ZCzqAMleupYznHwGwAgBgta5HT88HOf3YTi+zNUQMI0IU5T5IDGy2jaPlfz5K\nqLY9mV6/AG1tz067UVxv780J8zp6vRU1NddAFP0Ih51p74s0HTUy22iojZBRBkM+zxbLYPvudxM3\n+4pN5ua1IUVFFP8+9v9GY+PYUBTHzdSwVXEc9PrmJPdJOH360YRq28naXF29JGXQ4Xknjh//2pRk\ngkikHzpdNWy2DTCZFiuWiadGZhsFHkJG8dktDs+KXi/ghRfkT8gw9LVM7iwOHmzA4OA2ABgbipo/\n/68wGOZp2C4WFksXKiuTT8j7fP8zttVDU9OTMJk+Lfu46XoYLtfdSStZ+P0HceTIZ+H1vqpIJp5a\nmW30CScEsYy2cDh/iQWRCDcli47nnejpWalB6m5xkaQQXK7VY8EHQFo9CXWJcLs7YTZfLbOYM0aS\nQnA4rgPPO8HzyYfCUvUweN4Jv/9vSe+PROxQaq+i2FqpF1Wp10ZzPIRAi4w2Bl1dJjz55PiVq9N5\nl8rzFaXF5boTPt9rY5Pw8Z6E3X4t/P4zGrRIgMv1HcQy5OSFwy709KwEw8SGxiab2MPgeSeczrsR\nDL4DSYqC42aO9pLUrxZrMl2i6m6lFHgIAbB3b/6/CgMD4wMOPO9EILAn720obhI8nq0IBPbDZtuA\nwcHNiETcik2qZyd50Bl7RJKLC4PBNtbDGBzcBpdr9aTnueH3q5/1yDD1aG7+D1XPQYGHEAA+X/7X\n7zQ0jK8bia3fKcN9DxQQDp+YkuFVjHS6WXC7uxAMHgbPH9OkDdXVK2Cz/U71zeEo8BACgGUliGI+\ng4+Ezs7xuRzl1+8w0OlmIho9rfBxC1OxBx0AGBnZj5GR/Zq2Qa+fmZcdSSm5gBAAM2fmt7fBMBIa\nG8fPqfz6HQl6/TzQtSXJhFrVqCejwEMIgLvvDiGfQ12VlYnnMpmyK1ufiiD0orX1JRgMNsWPTTJV\nHD+1alWjnqw43g1CVPb73+c3qy0QGP/q+XzdcLvXKX4OSQLM5mVobd2JTGqEkcwxTAVSL/wthPp7\nqT/fHGdVrRr1ZBR4SNnr7mbxySf5/yrE1u3cAIdjpSrHr6q6GEA8cUGZtR1EHsNUg2UrpnmUdj+3\nBsM82GybYDDYwLIzwHEWVFRcAp1uJjhuJmpqrklagFQNNABMytrHHxuwalU18l2V+txzT6CnZ6Wq\n63aCwV7Y7ddiZESbDKlyIorTrxti2XqI4lnk+yKgquqLaGyM7UZaX39TXs+dDAUeUtYefLARWmyF\n0Nl5t+qLRQXhKPy0c3bBSCc4KYHjLBDFIDhuBmy2jTCbl+XlvJmgwEPK2oED6e1rr6Q5c45j4cK/\n5v28pDwIwmnYbP9RML0bOTTHQ8qW08lAEPL/Fbjnnu8AoHpsRC3R0XJC3Vo3JCkKPKRsabHj6JIl\ne3DeeW/m9ZykHElwudZq3YikVAs8mzZtwnnnnYfZs2fji1/8Ivbu3avWqQjJmNPJ4C9/0ef9vB0d\nt4Olyz2SB4IwrHUTklLlK7B9+3asW7cOP/rRj7Bnzx4sXboU7e3tOHnypBqnIyRjXV0mCEL+kwpq\najx5PycpTxw3Q+smJKVKcsGjjz6Kr3/967j99tsBAA8//DDefPNNPP3007jvvvvUOCUhGTl8OPtr\nriVL9uBnP7sJtbX/AMMAPG/E44//EhdeuAuLFr0DhgGOHPkcHnvsEdTXN8LrZTB7toSmJhFm8wyI\nYuFeiWaDZasgihKAvO8dTpLiYLNt1LoRSSkeeMLhMA4ePIgf/vCHCbdfccUV2Ldvn9KnIyQrDkd2\ngWfJkj145JEV4LjxkjcmE4+77/5XMBM6UJddtgOXXvrfaGp6MiG7yOfbqNqCUW2wJVGgs5QwjAkt\nLdsKMo06TvGhtsHBQUSjUcycmbgL4MyZM3H6dHlUyiWFT5KyG2br6Lg9IejEMTKHY1kRLtfqhOwi\ns3kZTKbzsjp3YcpnKRgdaAVIahxnxcKF+wo66AAF8q9ot9u1boKiSu31xJXS6zIYzkcolOnHX0Jt\nbeaLAMd7OCyAxWAYU8bHIOcAOKt1IwpUNYAwABHRaBjHj78DvT6saYva2tpS3q944Kmvr4dOp8OZ\nM4lf0DNnzmDWrFmyz5mukcXEbreX1OuJK7XX9eijIaxeXYV006lZVsQf/3gEFRW5DCuJAD6ARPu9\nZYGCTnLj5Skk6TR4fi1mz95UXgtIDQYDzj//fOzatSvh9l27duGSSy5R+nSEZOWmm6J46qkAOE5A\nqu0QGEbEihVhvPvua2hsXJq/BpacVJWbSxvDGKHTyV90q0OCy3UneN6Zx3NmRpV06u9///t45pln\n8J//+Z84duwY7r33XgwMDOBb3/qWGqcjJCs33RTFO+8cxFNPBWA0ipgcgGbPjuLgQT+effYoRkZu\nhiSNaNPQIqHTnQOW/dSkW1nYbE9h0aL3UFfXjsrKi8FxFpTT2vWqqqX49Kf/kuchVglO5915PF9m\nVJnjufHGG3H27Fk8/PDDOHXqFBYuXIjnnnsONhttSEUKz003RXHTTT44nQy6ukwYGGDR0CCiszOE\nxkYJfX1dlLmVBr3ehubm/w9udxcikQHo9Q2wWDrHSu1bLJ1wOL4JQVB6m+/CxrLVMBobYTZfDq/3\n1bydNxAo3EX7qiUX3HnnnbjzzjvVOjwhimtslPDkk1N7NZFIef1QZisUOgSjsRFNTU8CiG1w19Pz\nFQhCfL63XCe3YvOIVut6HDmSv8ADhMHzzrztsZOJ8unvEpIlvd6idROKxHhg8fm64XBcD0E4PXp7\nuQYdQBR9mp07tglg4SmIdGpCCpHP1w2Xay0ikfzso1L8WPT1rUEo1IuRkYOgXU9j/P63cODAbLBs\n/tPoI5GBvJ8zHRR4CJERu2K/AYCgdVMKAsOYUFl5CXS6KgQCRxCN9sk8SoTHszXfTSsSPESRz/tZ\nWTb/+02lgwIPITL6+u4EBZ04DgsX7kM43A+Xay2i0UHE5i3Kd/gsv7J/r0WxMDMxKfAQMgnPOyEI\nhTlEoQ0BR45cAtq8TivZB/iRkQ8VbIdyKPAQMio+pxMOfwK6mp+Mgk4xkqshWAgo8JCy5fN1IxC4\nEwcOeMEwAiQp/2PwhKipsvIirZsgiwIPKUuTkweofhopNRxnhdW6XutmyKJ1PKQsxfajp+QBUppY\nthLz579ckItHAQo8pEwJwpDWTSBENVbrHwo26AAUeEiZ4rharZtAiGo++eS+8qtOTUihi+1HT1Oc\npYUBUFqb7On1zQD0GT9PEPoLtlwOQIGHlCmzeRlaW18Cw1gAVCDdDeFIIZMAhGCxrAdQqXVjFBGJ\n9AKIZPncwl2LRoGHlC2zeRmqqnbgggvcWLToIAwG2rajFLjd6wAEtW6G5gShcJcHUOAhBIDR2IjW\n1p0wGOZp3RRCFMHzH2jdhKQo8BAyKhZ8XkRdXTsqKi4Cw1Ro3SRCsiZJYa2bkBQFHkImiG9kNm/e\nU2CYGtXOw3GzRreAJokY6HT1WjeiJLCsUesmJEVpPYRMwPNOuN1dGBr6KyTJo8o5DIZ5aG19EUZj\nIw4coLRuANDpZqKmZgUslk4AwEcffQ6SpHVlZR2Mxn9CNHoaohiEKLIA1PlMqMFq/YPWTUiKAg8p\ne/Fg4/XuQzTqUvlsOthsGwp6cZ8WKioWjG2ZDQAtLc+jt/dmiGJA4TOxYNl6AAIkKYpYxpgOLFsJ\nSZIAhMFxM2CzbYTZvGzKs+OFZAVhGAxjhCgKoxcohVZzaQaqqwuzThtAgYeUuWj0Yzgc/w/C4RP5\nOiNOn94As3kZfL7uPJ2z8On1DQl/m83L0Nz8XM7Bp6LiIphM8xCJDECvb4DF0plT0Debl2Hx4sMJ\nt/G8E/396xAM7ockAdFoZjvW1tR8FZHIt7FgwQoASm1COIyenqswf/7rBXmRQ4GHlDWefwSimK+g\nE+P1voaPProSodD7eT1vIYtGp043Dw5uzrnHYzLNS+hJqcFobERLy5/H/u7p+QYCgZfTfr7X+wqA\n98Hzb8BobITZvAw22xNwub6NXLYPF4QB9Pd3oKXlmayPoRZKLiBli+edEMW9ih9Xr7eisvKSFI+Q\nEAr9X+Tyo1JqvN5np9wWibhzOqbBMG9sziif5s/fApPp8gyfdQpHj65AX98a8LwTPt9rUOLzEQi8\nl/Mx1EA9HlJ2JiYQ5DacwaKq6guQpAAE4RR0ulkwmWI/dn19q5VqbtnS6zPP+quqWgGGiSoyrJaL\nhQtfGB2C6xjt0UxPFD3weLYiENgPjlMms482giMlKf4jHom4wbI1ACSIog96vUXTL74cn68bfX13\njm5rnftksE5nhcEwExbL7xJep8/XjWDwQM7HL3cWSycCgf0ZzL9xmD//RVXblInYENwz4Hknjh79\nZ4hib1rPi71eZXrDtBEcKQrxQMLzJyAIp6HTzYTJ1Ixo9BsA2sbuD4V6EYl8gmj0bNKdO4eGdsJs\nvhxW63r4/fvR3/9DiCIPljXCav0D6utvytvrUmbCNlE06oLH44LP9w4qK8+DKHrBsmb4fLtBw2iT\ncUj13rNs85Tb4gt6Yxc2A2DZagQCAYjiu7KLIzlulpINVozR2IjPfOZ/AcS+Xz09V0MQUg8j6nSz\nYDDoEoKuwTAPNtsGDA5uxvDwGxDF4ZTHKOSN4JihoSFF8wA3b96M559/HocPH4bX68WhQ4fQ2Fg4\nV71qs9vtaGtr07oZWeF5JxyOVbJXmAxjRUvLE3C5fpBFBpgecoUOLZb1aGj4bnaNzdCHH56HcFjt\nVGmSDMedC5Y1JvnsVGDRonfT6h3b7XY0NJyGw3E9EoO7Dq2tO2RToAsNzztht69EJNKf9DF1de2w\nWDrHgu46l5ztAAAgAElEQVTkocO+vjXweLbKPJNDRcX5Y0O+hTTiMJHigeexxx5DKBSCyWTCT37y\nEwo8BWxi7yYc/hiC8A+kqoRrMNgU//FetOhQXr4cBw+eC0miwpHa4NDa+hIMButob/kEotHT4LjZ\nMBqbMvqBjH+/Jq6nSbXuplCNf/f6EAodScjem7jAONXzJ18ksmwVmpufK4r3QfHAE3fgwAFcfvnl\nFHgK1MDA43C7O5DZXEfq4ZJs1NW1K5ruOnHOKT7PFA73w+FYqdg5SCZq0Nr6Z8V+DIvl+5WJ2PDb\nvTCZAhklRYx/1pVZo5RPNMdThOR+XI3GxqS3x58TX+QmCD4AoSzOrGzQAYBQSLk1NHJXgfLDESQf\n8jmUWsyMxkaYTD/POKDG6woWIwo8BSRV4Jj4mMk/roHAfthsG9DX9x0Iwvi4sc/3DubPjy1k6+lZ\nmXCf8ljENlPLbFI9EvlYsRa43V15rEBAUqmra6ego7DBwW2aJugoKa2htq6uLvz6179O+ZidO3di\n+fLlY39nMtRmt9vTbG7pikY/Rij0A0jSeHBgGCtMpg3Q6eaM3RYK/RSC8JrMEWYBOJ3k9kYAaiwk\n0wOYB+AkgGwLOlahunq3Iq0JBr8LUaRqAFqT+9yS3PD8a4hEfjrldr3+5zAar9agRalN13tLq8ez\ndu1a3HzzzSkfY7Va02/VJKU0ZpvtGHRf368wMpLYI5GkfphMWxK603a7H36/3BHkgk789mT35Ybj\nZkKSPIhGc6kiPKLYv39fXzM8Hgo82tGjunoZbLbfqTbXUIpzPMD0r+vQoS/K3h6NPoS2th+q1SzV\npBV46uvrUV9Pe2RkIp1hs4mSlQeZvG96Nqu51SIInyhwFFGBY8RYLJ3weF6AGnNRJB0R+P1vIRzu\nL5pJ7mIhivJr5ZLdXugUn+M5deoUTp06BYfDAQA4duwYhoeHMXfuXNTV1Sl9uoKUbB4mVYoky5qT\n3F6d8LfF0onh4VdUKBevFUPOR5gY5BmmEpLkVaBdJDtRuFxrp1RwJrlhWSNEcepygELe7C0VxYuE\nPv300/jCF76ANWvWAABuvvlmfOELX8Arr6RXr6gUyE1yh8Mn4HZ3JdzG80709a2B3X4t/P79sseK\nRkfGHtPXF3tPTaaF6jRcA1VVn8/p+fEg7/Fshd//NgWdAiAIqVfUk8wl29StkDd7S0XxHk9HRwc6\nOjqUPmxRSWfYLFWVgImCwXcRCIynPscKCKYqDVKHYtolsbHx9zk9nzLZCg/HzdC6CSUnnr1WKllt\nlE6tgmTzMBM3u0r3B1OSEtfbhMMnUjyPBTA06TYGhbc7onJyLZ1PlKaDzbZR60aUpPr6m4o20ExG\n+/GowGLphMEwL+G2yXuDpPeDmWlNcxFTg4yaQSf3muuThx8zVUjJFuWjChw3EzrdOaPbSOsBcOC4\nc4umXhrRFvV4VDC5qq5cOYt0fjA5zqJQ5pgalOlJDQ+/gb6+NVmX+8i8dD5Jn/y/cV3dV4t2xTwp\nDNTjUUm8nEVb2040NT055UdVrlc0kcEQ27J36mMyv1bQ6WZB+X9qZXpSojgMj2crHI5V4Hlnxs83\nGhths22AwWAbzQzUKdIuAsj9G2u1qycpLdTj0YjcXiMAM7qJ2ngPqbX1xbEaa5IEGI3NCAbfg9z6\nF45rgCCcnnQfh3nz/ggAcLnWIhz+GIW4V0w4fAJHj34ezc1bMxqq4Xnn6FYNtOWB2hjGWFIZlUQ7\nFHg0lG6Rv1DoKAThDAAgGDwDjmsAwEAQfGBZEXq9DZIUhE43E0bjAvD8MYhiECxbCZPp0xgYeAh6\nvQUNDffh5MnvQZLkAg+n+RoYUQzC4VgJm+2ptCdRKastfySJh9f7ChyOj6Yt209IKjTUVsBiKdfX\nTflhFYQBmM2X4YIL+rFgwTuQJB7hsAsjI+8jENgNQIeKigsQjXrg9++G3/82PJ6tcLlWJ90tFBBG\ng44BLFubUTsZRtlFbC7Xavh83Wk9lrLa8k9uTRohmaAeTwGQK68DYHSdj/wQUnxNkNwVvyD051CJ\nOgxRnLqtcCpm8yr4/f+taDWF3t6bsWDB3mmvqimrTRuTSzkR5WVadquYUODRWLLyOibTgpRDSPE1\nQYVwxe/1Pqv4MUUxALe7a9qhSMpq08bENWnFoFB+xCe3o77+DgwObkYw2Au73YxQ6BhEMQCWrQIg\nQRDGA/x0ZbeKCQUejSUrryOKsiWox5hMFwIo7St+n283eN6Z8osWT8Do6fny2DwYyR3LVsFoXAi9\nfiZGRj5AJDLegy62zDafrxu9vTcn9Mi1+BGP7TSauC+Wx7MN8WSgiVXnRXHqXGt8iLMUUtlpjkdj\nyXos0jTZyqdOPQBg+rTsYiYIZ9JKszYaG2E2r8hPo8qCAQsW7MWCBX9FS8uf0db2Murq2lFdvRx1\nde1FddXN884pQQfQZp7K6bxbZgg8s+rspTLESYFHY8l6LFVVF492t+XFy6HH17Gkemzucq9QkK10\nfyAsls5p3wOOs6K1NfYjqkRV7FLFshUJgWW6NWmFzO3uSjr3yPN9eWsHzzsRCOzJ+TjFNsSZDAUe\njSUrr2O1PgSjcUHS500shz44uDnJlyvZP296/+wsOwN1de2wWB5K6/FqSecqz2hsRHPzc7LBh2Vr\nUVNzDebPfxlm87LRoQrl9gEqNaVU5DPVHGg4rOZW8IliF0+5feYYxlRUQ5yp0ByPxlKV1zGZmjEy\nIr+j5sRy6Mm+XAZDG8LhY1NuN5kuRii0b9q2iaJvrC1u9xYAH6T3oiaorl4Bv393xs+bKN2rPLN5\nGRYs2JuyVFEcw+ggSeW+YZwVwCdI/EFkS6rIZ6o50ORLC5SnRBJQZeUlRdXbTIV6PAUg2VCG/PwN\nA4tlfcICy+RfLvktqSMRe5otE8eGuSoqfp7hXFIdTKZLEAweyuA5U2U6kZ3usFBl5edyalfxq0Zr\n6xNTttjguFkwGLLfxr7Q1NffkeLe/JVXUiIJiOePZVVWqhBR4Clg8d7QxIndRYsOoqHhuwmPs1g6\nodcn/ljo9VbodDNljxuNTt46ITmvN5ZZptPNQWvri6ip+erocZPPkdTU3AJgCKHQPohi9nsDsew5\nqk1kx/YBKp95HoYxguMsqKi4aPRz1I3Bwc0J6bpAbHHykSPn49ChczE4uE2j1ipncHBz0vuqqi7O\nWzvq6+/IeR5WEAbQ0/Nl9PWtKfoARENtBYbnnejv70Ag8B4YBqisvAhW6/ppf3wnZ8FJEqDXz8aI\nbKcn/bHmaDSWWabT/QbAPIRCHyEaTZ22rNS6HlH0qDa0EAvqL8Dh+Bom9gwZxgSj8TPg+cOQJPke\nYzGSJB5m82UJqbjJh38kiGIQLtdqACjqPWCSv0YjrNbp5y6zWf8z8TmSxCEUOoJo9HQWrZ9KEM7A\n49la9Gt6KPAUEJ53wm5fmbBmwut9FceO/S+qqj47WkB06off7e6akqYZ+3sJDIZ5CeuEGMY0ZXM5\nANDr2xCNfiKbpBAOnwDHPQ6ncyTPCzUl+Hzdqu3vYjYvQ0XFn2EybZkyJ8TzThw9eqmi1Ri0NjmL\nK53hn/7+HxZ14En2Gmtqrkj5ox2/APR63wAwPhc4PLwHzc1PY3Bw85RgFHvOOvh8u2S/Y0oq9jU9\nFHgKSH9/R0LQiYtGT8HrfXXs78lXO8mu6kTRPyVxIRr1Jxwrrrr6fFgszyddiCkIb0MQUi9qTR+H\niV/mVFyutVi8+LBC551Kp5sj++U1GhthNC5ImtxRjAThVMLf6VR9iKftFyu51xjLGl2f9DmptqUX\nxVNwOG4EMP6+eDzbYDAsQSTSk9decjGv6aHAUyB43gmf7820Hjv5aifZVV04HBsHnvjDGvtSHZ3y\nRYxftZnNK+DxbJU5mlJBB2DZOohielUGBGFYsfNmKlVWYTGK7cs0bmJG5cQV9BNNTNsvRnLbj4ji\nCI4d+zKAKBjGCL3+XJhMzWPla7zeNxGNnk1x1MnBWEQ4nFsSTTaKeU0PBZ4C4XZ3ZZTeGYkMjI0l\n8/wJsGyVzOpsFxyOVQm9o+l2R81H7TNJ8iHdXo+Wa0pKrQ6cyTQ1KzGeBWg2Xz02pzPRxLT9YhV/\njT5fN44fv2nKMJgguDEy8j48nu0oxL2qOO5csKxR9mKxWFHgKRCZ5vmzbLXMcMDUH3O5seBU+wDF\nKyEcP36jauscJCkEjjs3jW29GU3XlEwO0n7/YQDa9cByMd0PVXwep7//hxBFHixrhNX6h6Ke35k4\nyc+yZni9f0Hqi538BR2GMcJoPB+h0PtI3SZmdCdia1rr04oFBZ4CkXqi1wBgfKuC2HoaRuZKXP4D\nnMlYcHxHT7UX1xkMcxCNnk0xCcvBZntCtcSCdE0M0jzvxEcfXaL6xLFyjKioWAKTaV5aP1T19TdN\nG2h8vm64XGshCEPguFrYbBs1/zeSk2qeJjc6xH420/l+sKiouBiRiAvRqA8MI0Kvb0Fl5YKEhASn\n8y4EAu8AiGDiduMsW4Pm5j+Pvb/FmkgghwJPgbBYOjE8/IpsFlVNzZeh01UlXO24XN9P+9iSpMOH\nH56X1o9Fvnb0NBqbwHGfkk10MBhsaG3dWXBXdLFqEouLaN6HhyAMwGJ5SpH30ufrhsNxA+IXOOGw\nFw7HDWhtfakggs/AwONwu/9fxHouDCb+iCuBZSvR3Byb/zx+/GspEwlYtgrNzc9N+74YjY2YP/8l\n2O12tLW1KdreQkaBp0DEa41NrqQ7Xretcexq8+jR5UjWu5k816PTzUYg8Bbiwwipfix8vm54PC8p\n/tom/whMHPaRS3QotPUJE4dsplvDVGgikX7F0m5drrWY+rkTVM88nCga/Rh9fb+aksocCzrrJjxS\n2aADAJWVF459ZxYufDdhvZ3RuBg6XQVE0V8SQ2FqUzTweDwe/OIXv8Du3btx8uRJ1NfX46qrrkJn\nZyfOOeccJU9VUiYOXzBMFVi2EkAYHDcDNtuGsaAz8WpTjsEwDzbbhtE1BrEMHp9vF6aOXQvo7W3H\nggXvjH05Yse/XuaxSpDAcedCkiJgGMBkihU/nS7RoRDID9mknw5eCJRKuxUE+YoX+co85HknQqEf\nYGRkfMnB8PArMJkWIhhUvxc6MYvMaGxES8szqp+zVCkaeNx