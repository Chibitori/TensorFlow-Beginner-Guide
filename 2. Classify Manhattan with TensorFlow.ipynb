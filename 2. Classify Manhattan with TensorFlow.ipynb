{
 "cells": [
  {
   "cell_type": "markdown",
   "metadata": {},
   "source": [
    "# 2. Classify Manhattan with TensorFlow\n",
    "\n",
    "In this codelab, we will use TensorFlow to train a neural network to predict whether a geolocation is in Manhattan or not, by looking at its longitude and latitude.\n",
    "\n",
    "<br/>\n",
    "![](images/manhattan.png)\n",
    "<br/>\n",
    "<br/>"
   ]
  },
  {
   "cell_type": "markdown",
   "metadata": {},
   "source": [
    "## 2-1. Read and Process the Data\n",
    "### Labs and Solutions\n",
    "\n",
    "In this codelab there are several labs where you need to write your code to solve the problems. If you need some hints, you may check with the mentor about possible solutions to run this lab."
   ]
  },
  {
   "cell_type": "markdown",
   "metadata": {},
   "source": [
    "### TensorFlow Requirement > version 1.0\n",
    "\n",
    "To check the version of TensorFlow you are running, **select the cell below and run the code by clicking \"Run\" on the menu**."
   ]
  },
  {
   "cell_type": "code",
   "execution_count": 1,
   "metadata": {
    "collapsed": false
   },
   "outputs": [
    {
     "data": {
      "text/plain": [
       "'1.2.1'"
      ]
     },
     "execution_count": 1,
     "metadata": {},
     "output_type": "execute_result"
    }
   ],
   "source": [
    "import tensorflow as tf\n",
    "tf.__version__"
   ]
  },
  {
   "cell_type": "markdown",
   "metadata": {},
   "source": [
    "This codelab requires TensorFlow 1.0 or above. If you see older versions such as 0.11.x, 0.12.x, please follow the instruction below to update your local Datalab.\n",
    "\n",
    "- Stop your notebook by pressing Ctrl+C on the console\n",
    "- Run the following command on the console if you do not have a GPU\