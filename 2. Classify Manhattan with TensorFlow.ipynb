{
 "cells": [
  {
   "cell_type": "markdown",
   "metadata": {},
   "source": [
    "# 2. Classify Manhattan with TensorFlow\n",
    "\n",
    "In this codelab, we will use TensorFlow to train a neural network to predict whether a geolocation is in Manhattan or not, by looking at its longitude and latitude.\n",
    "\n",
    "<br/>\n",
    "![](images/manhattan.png)\n",
    "<br/>\n",
    "<br/>"
   ]
  },
  {
   "cell_type": "markdown",
   "metadata": {},
   "source": [
    "## 2-1. Read and Process the Data\n",
    "### Labs and Solutions\n",
    "\n",
    "In this codelab there are several labs where you need to write your code to solve the problems. If you need some hints, you may check with the mentor about possible solutions to run this lab."
   ]
  },
  {
   "cell_type": "markdown",
   "metadata": {},
   "source": [
    "### TensorFlow Requirement > version 1.0\n",
    "\n",
    "To check the version of TensorFlow you are running, **select the cell below and run the code by clicking \"Run\" on the menu**."
   ]
  },
  {
   "cell_type": "code",
   "execution_count": 1,
   "metadata": {
    "collapsed": false
   },
   "outputs": [
    {
     "data": {
      "text/plain": [
       "'1.2.1'"
      ]
     },
     "execution_count": 1,
     "metadata": {},
     "output_type": "execute_result"
    }
   ],
   "source": [
    "import tensorflow as tf\n",
    "tf.__version__"
   ]
  },
  {
   "cell_type": "markdown",
   "metadata": {},
   "source": [
    "This codelab requires TensorFlow 1.0 or above. If you see older versions such as 0.11.x, 0.12.x, please follow the instruction below to update your local Datalab.\n",
    "\n",
    "- Stop your notebook by pressing Ctrl+C on the console\n",
    "- Run the following command on the console if you do not have a GPU\n",
    "```\n",
    "> pip install tensorflow\n",
    "```\n",
    "- Run the following command on the console if you have a GPU\n",
    "```\n",
    "> pip install tensorflow-gpu\n",
    "```"
   ]
  },
  {
   "cell_type": "markdown",
   "metadata": {},
   "source": [
    "### Import Pandas and read the data as a NumPy array\n",
    "\n",
    "We need to read the comma separated values (CSV) file as a Pandas DataFrame. **Run the cell below** and confirm that there are three columns and that there are 10,000 rows."
   ]
  },
  {
   "cell_type": "code",
   "execution_count": 1,
   "metadata": {
    "collapsed": false
   },
   "outputs": [
    {
     "name": "stdout",
     "output_type": "stream",
     "text": [
      "Columns:  ['is_mt' 'latitude' 'longitude']\n",
      "Rows:  RangeIndex(start=0, stop=10000, step=1)\n"
     ]
    }
   ],
   "source": [
    "import pandas as pd\n",
    "df = pd.read_csv('manhattan_latlong.csv')\n",
    "print(\"Columns: \", df.columns.values)\n",
    "print(\"Rows: \", df.index)"
   ]
  },
  {
   "cell_type": "code",
   "execution_count": 2,
   "metadata": {
    "collapsed": false
   },
   "outputs": [
    {
     "data": {
      "text/html": [
       "<div>\n",
       "<table border=\"1\" class=\"dataframe\">\n",
       "  <thead>\n",
       "    <tr style=\"text-align: right;\">\n",
       "      <th></th>\n",
       "      <th>is_mt</th>\n",
       "      <th>latitude</th>\n",
       "      <th>longitude</th>\n",
       "    </tr>\n",
       "  </thead>\n",
       "  <tbody>\n",
       "    <tr>\n",
       "      <th>0</th>\n",
       "      <td>0</td>\n",
       "      <td>40.704062</td>\n",
       "      <td>-73.824442</td>\n",
       "    </tr>\n",
       "    <tr>\n",
       "      <th>1</th>\n",
       "      <td>0</td>\n",
       "      <td>40.613985</td>\n",
       "      <td>-74.101276</td>\n",
       "    </tr>\n",
       "    <tr>\n",
       "      <th>2</th>\n",
       "      <td>0</td>\n",
       "      <td>40.761280</td>\n",
       "      <td>-73.904727</td>\n",
       "    </tr>\n",
       "    <tr>\n",
       "      <th>3</th>\n",
       "      <td>0</td>\n",
       "      <td>40.750352</td>\n",
       "      <td>-73.818837</td>\n",
       "    </tr>\n",
       "    <tr>\n",
       "      <th>4</th>\n",
       "      <td>0</td>\n",
       "      <td>40.641081</td>\n",
       "      <td>-73.918163</td>\n",
       "    </tr>\n",
       "  </tbody>\n",
       "</table>\n",
       "</div>"
      ],
      "text/plain": [
       "   is_mt   latitude  longitude\n",
       "0      0  40.704062 -73.824442\n",
       "1      0  40.613985 -74.101276\n",
       "2      0  40.761280 -73.904727\n",
       "3      0  40.750352 -73.818837\n",
       "4      0  40.641081 -73.918163"
      ]
     },
     "execution_count": 2,
     "metadata": {},
     "output_type": "execute_result"
    }
   ],
   "source": [
    "df.head()"
   ]
  },
  {
   "cell_type": "code",
   "execution_count": 3,
   "metadata": {
    "collapsed": false
   },
   "outputs": [
    {
     "data": {
      "text/html": [
       "<div>\n",
       "<table border=\"1\" class=\"dataframe\">\n",
       "  <thead>\n",
       "    <tr style=\"text-align: right;\">\n",
       "      <th></th>\n",
       "      <th>is_mt</th>\n",
       "      <th>latitude</th>\n",
       "      <th>longitude</th>\n",
       "    </tr>\n",
       "  </thead>\n",
       "  <tbody>\n",
       "    <tr>\n",
       "      <th>9995</th>\n",
       "      <td>1</td>\n",
       "      <td>40.721576</td>\n",
       "      <td>-73.997760</td>\n",
       "    </tr>\n",
       "    <tr>\n",
       "      <th>9996</th>\n",
       "      <td>0</td>\n",
       "      <td>40.634912</td>\n",
       "      <td>-74.010160</td>\n",
       "    </tr>\n",
       "    <tr>\n",
       "      <th>9997</th>\n",
       "      <td>0</td>\n",
       "      <td>40.676707</td>\n",
       "      <td>-73.977103</td>\n",
       "    </tr>\n",
       "    <tr>\n",
       "      <th>9998</th>\n",
       "      <td>0</td>\n",
       "      <td>40.683250</td>\n",
       "      <td>-73.818677</td>\n",
       "    </tr>\n",
       "    <tr>\n",
       "      <th>9999</th>\n",
       "      <td>0</td>\n",
       "      <td>40.663067</td>\n",
       "      <td>-73.836880</td>\n",
       "    </tr>\n",
       "  </tbody>\n",
       "</table>\n",
       "</div>"
      ],
      "text/plain": [
       "      is_mt   latitude  longitude\n",
       "9995      1  40.721576 -73.997760\n",
       "9996      0  40.634912 -74.010160\n",
       "9997      0  40.676707 -73.977103\n",
       "9998      0  40.683250 -73.818677\n",
       "9999      0  40.663067 -73.836880"
      ]
     },
     "execution_count": 3,
     "metadata": {},
     "output_type": "execute_result"
    }
   ],
   "source": [
    "df.tail()"
   ]
  },
  {
   "cell_type": "code",
   "execution_count": 4,
   "metadata": {
    "collapsed": false
   },
   "outputs": [
    {
     "data": {
      "text/html": [
       "<div>\n",
       "<table border=\"1\" class=\"dataframe\">\n",
       "  <thead>\n",
       "    <tr style=\"text-align: right;\">\n",
       "      <th></th>\n",
       "      <th>is_mt</th>\n",
       "      <th>latitude</th>\n",
       "      <th>longitude</th>\n",
       "    </tr>\n",
       "  </thead>\n",
       "  <tbody>\n",
       "    <tr>\n",
       "      <th>count</th>\n",
       "      <td>10000.000000</td>\n",
       "      <td>10000.000000</td>\n",
       "      <td>10000.000000</td>\n",
       "    </tr>\n",
       "    <tr>\n",
       "      <th>mean</th>\n",
       "      <td>0.292500</td>\n",
       "      <td>40.703688</td>\n",
       "      <td>-73.932314</td>\n",
       "    </tr>\n",
       "    <tr>\n",
       "      <th>std</th>\n",
       "      <td>0.454933</td>\n",
       "      <td>0.063900</td>\n",
       "      <td>0.087100</td>\n",
       "    </tr>\n",
       "    <tr>\n",
       "      <th>min</th>\n",
       "      <td>0.000000</td>\n",
       "      <td>40.500737</td>\n",
       "      <td>-74.249465</td>\n",
       "    </tr>\n",
       "    <tr>\n",
       "      <th>25%</th>\n",
       "      <td>0.000000</td>\n",
       "      <td>40.661133</td>\n",
       "      <td>-73.984189</td>\n",
       "    </tr>\n",
       "    <tr>\n",
       "      <th>50%</th>\n",
       "      <td>0.000000</td>\n",
       "      <td>40.708496</td>\n",
       "      <td>-73.948210</td>\n",
       "    </tr>\n",
       "    <tr>\n",
       "      <th>75%</th>\n",
       "      <td>1.000000</td>\n",
       "      <td>40.753638</td>\n",
       "      <td>-73.887226</td>\n",
       "    </tr>\n",
       "    <tr>\n",
       "      <th>max</th>\n",
       "      <td>1.000000</td>\n",
       "      <td>40.872385</td>\n",
       "      <td>-73.700837</td>\n",
       "    </tr>\n",
       "  </tbody>\n",
       "</table>\n",
       "</div>"
      ],
      "text/plain": [
       "              is_mt      latitude     longitude\n",
       "count  10000.000000  10000.000000  10000.000000\n",
       "mean       0.292500     40.703688    -73.932314\n",
       "std        0.454933      0.063900      0.087100\n",
       "min        0.000000     40.500737    -74.249465\n",
       "25%        0.000000     40.661133    -73.984189\n",
       "50%        0.000000     40.708496    -73.948210\n",
       "75%        1.000000     40.753638    -73.887226\n",
       "max        1.000000     40.872385    -73.700837"
      ]
     },
     "execution_count": 4,
     "metadata": {},
     "output_type": "execute_result"
    }
   ],
   "source": [
    "df.describe()"
   ]
  },
  {
   "cell_type": "markdown",
   "metadata": {},
   "source": [
    "Let's take a look at what's inside the result. **Run the cell below** and check the variable `is_mt` has an array of 1s and 0s representing each geolocation is in Manhattan or not, and the variable `latlng` has an array of pairs of latitude and longitude."
   ]
  },
  {
   "cell_type": "code",
   "execution_count": 5,
   "metadata": {
    "collapsed": false
   },
   "outputs": [],
   "source": [
    "import numpy as np\n",
    "\n",
    "is_mt = np.asarray(list(df['is_mt'])).astype(np.int32)\n",
    "lat = np.asarray(df['latitude']).astype(np.float32)\n",
    "lon = np.asarray(df['longitude']).astype(np.float32)\n",
    "latlng = np.vstack([lat, lon]).T"
   ]
  },
  {
   "cell_type": "markdown",
   "metadata": {},
   "source": [
    "### View the data\n",
    "Read the top 10 values from the dataframe and view how the data looks"
   ]
  },
  {
   "cell_type": "code",
   "execution_count": 6,
   "metadata": {
    "collapsed": false
   },
   "outputs": [
    {
     "name": "stdout",
     "output_type": "stream",
     "text": [
      "[0 0 0 0 0 1 0 0 0 0]\n",
      "[[ 40.70406342 -73.82444   ]\n",
      " [ 40.61398697 -74.10127258]\n",
      " [ 40.76128006 -73.90472412]\n",
      " [ 40.75035095 -73.81884003]\n",
      " [ 40.64107895 -73.91815948]\n",
      " [ 40.73986435 -73.98957825]\n",
      " [ 40.72327423 -73.9422226 ]\n",
      " [ 40.69698715 -73.93522644]\n",
      " [ 40.68451309 -73.90937805]\n",
      " [ 40.65890121 -73.84178925]]\n"
     ]
    }
   ],
   "source": [
    "print(is_mt[:10])\n",
    "print(latlng[:10, :])"
   ]
  },
  {
   "cell_type": "markdown",
   "metadata": {},
   "source": [
    "---\n",
    "### Start Lab: NumPy basics\n",
    "\n",
    "(You can skip this lab if you know how to use NumPy)\n",
    "\n",
    "You might notice that we just used NumPy for extracting the results. NumPy is the most popular Python library for numerical calculations. For machine learning with Python, many people are using NumPy for wide variety of numerical operations, including the basic array operations such as reshaping, merging, splitting, filtering, slicing and indexing. Many of TensorFlow APIs are also influenced by NumPy and use similar concepts. If you want to learn machine learning and TensorFlow with Python, we recommend you to learn [the basics of NumPy](https://docs.scipy.org/doc/numpy-dev/user/quickstart.html).\n",
    "\n",
    "In this lab, Let's try a few basic array operations with NumPy. **Run the cell below** and see what kind of numpy array will be created."
   ]
  },
  {
   "cell_type": "code",
   "execution_count": null,
   "metadata": {
    "collapsed": false
   },
   "outputs": [],
   "source": [
    "# create an numpy array with numbers from 0 to 14\n",
    "A = np.arange(15)\n",
    "print(A)"
   ]
  },
  {
   "cell_type": "markdown",
   "metadata": {},
   "source": [
    "Now, please write and run code in the following cells to get the result described in the comments with NumPy. You may refer to the [NumPy Quickstart](https://docs.scipy.org/doc/numpy-dev/user/quickstart.html) to learn how to write those."
   ]
  },
  {
   "cell_type": "code",
   "execution_count": null,
   "metadata": {
    "collapsed": false
   },
   "outputs": [],
   "source": [
    "# reshape the array A into an array with shape in 3 rows and 5 columns,\n",
    "# set it to variable A, and print it.\n",
    "\n",
    "# *** ADD YOUR CODE HERE ***\n",
    "\n",
    "print(A)\n",
    "\n",
    "# expected result:\n",
    "# [[ 0  1  2  3  4]\n",
    "#  [ 5  6  7  8  9]\n",
    "#  [10 11 12 13 14]]"
   ]
  },
  {
   "cell_type": "code",
   "execution_count": null,
   "metadata": {
    "collapsed": false
   },
   "outputs": [],
   "source": [
    "# print the shape, data type name, size (total number of elements) of the array A\n",
    "\n",
    "# *** ADD YOUR CODE HERE ***\n",
    "\n",
    "# expected result:\n",
    "# (3, 5)\n",
    "#  int64\n",
    "# 15"
   ]
  },
  {
   "cell_type": "code",
   "execution_count": null,
   "metadata": {
    "collapsed": false
   },
   "outputs": [],
   "source": [
    "# multiply the array A with a number 2 and print it\n",
    "\n",
    "# *** ADD YOUR CODE HERE ***\n",
    "\n",
    "# expected result:\n",
    "# [[ 0  2  4  6  8]\n",
    "#  [10 12 14 16 18]\n",
    "#  [20 22 24 26 28]]"
   ]
  },
  {
   "cell_type": "code",
   "execution_count": null,
   "metadata": {
    "collapsed": false
   },
   "outputs": [],
   "source": [
    "# create a new array that has the same shape as the array A filled with zeros, and print it\n",
    "\n",
    "# *** ADD YOUR CODE HERE ***\n",
    "\n",
    "# expected result:\n",
    "# [[ 0.  0.  0.  0.  0.]\n",
    "#  [ 0.  0.  0.  0.  0.]\n",
    "#  [ 0.  0.  0.  0.  0.]]"
   ]
  },
  {
   "cell_type": "code",
   "execution_count": null,
   "metadata": {
    "collapsed": false
   },
   "outputs": [],
   "source": [
    "# create a new array that has the elements in the right most column of the array A\n",
    "\n",
    "# *** ADD YOUR CODE HERE ***\n",
    "\n",
    "# expected result:\n",
    "# [ 4  9 14]"
   ]
  },
  {
   "cell_type": "code",
   "execution_count": null,
   "metadata": {
    "collapsed": false
   },
   "outputs": [],
   "source": [
    "# Collect elements in array B with an index \"I % 2 == 0\" and print it\n",
    "B = np.arange(10)\n",
    "I = np.arange(10)\n",
    "\n",
    "# *** ADD YOUR CODE HERE ***\n",
    "\n",
    "# expected result:\n",
    "# [0 2 4 6 8]"
   ]
  },
  {
   "cell_type": "markdown",
   "metadata": {},
   "source": [
    "### End Lab\n",
    "---"
   ]
  },
  {
   "cell_type": "markdown",
   "metadata": {},
   "source": [
    "## 2-2. Feature scaling and splitting data\n",
    "\n",
    "Now we got the training data. But it's not ready for training a neural network model yet. If you use the raw data directly, you would fail on the training because the scales of each feature (latitude and longitude in this case) are quite different. \n",
    "\n",
    "In machine learning, usually you need to preprocess the raw data with [feature scaling](https://en.wikipedia.org/wiki/Feature_scaling) to normalize the feature data to have the same scale. So that it gets much easier for machine learning algorithms to compare those features and find relationships between them.\n",
    "\n",
    "In this codelab, we will use [StandardScaler](http://scikit-learn.org/stable/modules/generated/sklearn.preprocessing.StandardScaler.html#sklearn.preprocessing.StandardScaler) in [scikit-learn](http://scikit-learn.org/). Scikit-learn is another popular library for machine learning in Python that provides wide variety of training algorithms, preprocessing and validation tools. \n",
    "\n",
    "The StandardScaler scales the features so that their mean value will be 0 and standard deviation will be 1. This scaling is called **Standardization**. Let's **Run the cell below** and see how it scales the latitudes and longitudes and stores them into a variable `latlng_std`."
   ]
  },
  {
   "cell_type": "code",
   "execution_count": 7,
   "metadata": {
    "collapsed": false
   },
   "outputs": [
    {
     "name": "stdout",
     "output_type": "stream",
     "text": [
      "[[ 0.00591037  1.2385484 ]\n",
      " [-1.40380359 -1.9399457 ]\n",
      " [ 0.901362    0.31675443]\n",
      " ..., \n",
      " [-0.42220375 -0.51428795]\n",
      " [-0.31981695  1.30468488]\n",
      " [-0.63569361  1.09567606]]\n"
     ]
    }
   ],
   "source": [
    "from sklearn.preprocessing import StandardScaler\n",
    "latlng_std = StandardScaler().fit_transform(latlng)\n",
    "print(latlng_std)"
   ]
  },
  {
   "cell_type": "markdown",
   "metadata": {},
   "source": [
    "---\n",
    "### Lab: check the standardized feature values\n",
    "\n",
    "- Print mean and standard deviation values on both latitude and longitude of variable `latlng_std` by using NumPy and confirm the mean is almost 0 and standard deviation is 1."
   ]
  },
  {
   "cell_type": "code",
   "execution_count": 8,
   "metadata": {
    "collapsed": false
   },
   "outputs": [
    {
     "name": "stdout",
     "output_type": "stream",
     "text": [
      "Mean [Lat]: 2.84245e-05\n",
      "Std. Dev. [Lat]: 1.0\n",
      "Mean [Lon]: -2.14008e-05\n",
      "Std. Dev. [Lon]: 1.0\n"
     ]
    }
   ],
   "source": [
    "# *** ADD YOUR CODE HERE ***\n",
    "print(\"Mean [Lat]:\", np.mean(latlng_std[:,0]))\n",
    "print(\"Std. Dev. [Lat]:\",np.std(latlng_std[:,0]))\n",
    "print(\"Mean [Lon]:\",np.mean(latlng_std[:,1]))\n",
    "print(\"Std. Dev. [Lon]:\",np.std(latlng_std[:,1]))"
   ]
  },
  {
   "cell_type": "markdown",
   "metadata": {},
   "source": [
    "---\n",
    "### Plot the training data with Matplotlib\n",
    "\n",
    "Now, all the preprocessing on the training data have finished. Let's see how it looks like by using [Matplotlib](http://matplotlib.org/), the popular visualization library for Python. In this case we will use [scatter()](http://matplotlib.org/api/pyplot_api.html#matplotlib.pyplot.scatter) method to plot dots with the pairs of latitude and longitude. **Run the cell below** and see the plot."
   ]
  },
  {
   "cell_type": "code",
   "execution_count": 9,
   "metadata": {
    "collapsed": false
   },
   "outputs": [
    {
     "data": {
      "image/png": "iVBORw0KGgoAAAANSUhEUgAAAZ4AAAEJCAYAAACkH0H0AAAABHNCSVQICAgIfAhkiAAAAAlwSFlz\nAAALEgAACxIB0t1+/AAAIABJREFUeJzt3Xl0G+W9P/73jEaLFzk2bhKLKLLjJc1yQ6FAaAlpA21Z\nGpZcqFnaewo9IW3TBe7vlh7i/txLoaakpV+6BQKXQPO7t6EHQgIkl7XlJg04kC/hZqGExFIcSzHI\nSerI1maNNJr5/SHLtuyRrGVGo+XzOodzsJaZR4qkzzzP83k+DzM0NCSBEEIIyRNW6wYQQggpLxR4\nCCGE5BUFHkIIIXlFgYcQQkheUeAhhBCSVxR4CCGE5BUFHkIIIXlFgYcQQkheUeBRmN1u17oJqqDX\nVVzodRWXUn1dyVDgIYQQklcUeAghhOQVBR5CCCF5RYGHEEJIXlHgIYQQklcUeAgpY04ngzVrKnDt\ntVVYs6YCTiejdZNIGeC0bgAhRBtOJ4OVK6vQ368bu+2dd3R4+eUAGhtpmy6iHgo8hJQYp5PBT386\nD35/FSwWEXfcwWPDBiP27+cQjQIcJyESYRAIAOFw4qBHf78OHR0mPPPMiEatJ+WAAg8hJUSuF7N1\nqx5A+kNo771HPwtEXTTHQ0gJWbfOlBB0YmjehhQWCjyElJD9+3PvrVx0kaBASwhJjgIPISUkGs3t\n+VZrFOvXh5RpDCFJUOAhpISYTNlmo4lobw9TRhvJC5pFJKSEcFx2QaOqCnjyScpkI/lBPR5CSsS2\nbTq4XJMTC9JTX0+9HJI/1OMhpIg5nQzWrTPh3Xc5eDwMsstgk7BxY1DpphGSFAUeQoqU08ngyiur\ncOpUdr2cuJYWAcuWiQq1ipDp0VAbIUVq3TpTzkHnnHNEbN9OczskvyjwEFKk3n47+wELk0nCV78a\nxq5dfspiI3lHQ22EFCGnk4HPl/l8jk4n4cYbI+jsDFHAIZqhwENIkXE6GVx9dRWySSSYM0ektGmi\nORpqI6SIOJ0MVq2qgtudzdwOZa+RwkCBh5Ai0tVlwokT2QWdp54KUPYaKQgUeAgpIgcPZvuVlXDT\nTTkWciNEIRR4CCkS27bpYLdn19tZs4ZXvD2EZIsCDyFF4oc/rETmCQUSVq7k8fDDYTWaREhWKPAQ\nUgScTgbBYOZBZ82aELZsod4OKSyKB55HHnkEl19+OebOnYuWlhbccsstOHLkiNKnIaRsxLezzrS3\nY7VGqadDCpLigeftt9/G6tWr8frrr2PHjh3gOA6rVq2Cx+NR+lSElAX57ayn9/nPUwYbKUyKLyDd\nvn17wt9PPPEEbDYb3n33XVxzzTVKn46QkuZ0Mti1S5/x8z71KR6dnTTERgqT6nM8fr8foiiitrZW\n7VMRUnK+/W0TQqHMhth0OgldXb1UEocULGZoaEjVT+cdd9yB48ePY/fu3dDp5IcL7Ha7mk0gpCi9\n9toM/PSnrcimNM6nPsVj06ZjmDOH5nhI/rW1taW8X9XA85Of/ATbt2/Ha6+9hqamJrVOU1Dsdvu0\nb3oxoteVf+eea0YwmP2gxDXXhPHnP5dWXbZC/vfKRam+rmRUKxLa0dGB7du3Y+fOnWUTdAhRUubp\n04n276cawKQwqTLHc++992Lbtm3YsWMH5s+fr8YpCClJTieDNWsq8JnPVGndFEJUo/gl0T333INn\nn30Wf/rTn1BbW4tTp04BAKqqqlBdXa306QgpGY8/zqGjoxKSlFtPJ27xYkGR4xCiNM